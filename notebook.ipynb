{
 "cells": [
  {
   "cell_type": "markdown",
   "id": "dd534a7b-cf74-4ba5-b7a0-7c98f07470f3",
   "metadata": {},
   "source": [
    "# Industrial Equipment Failure Prediction\n",
    "\n",
    "## Context\n",
    "Predicting equipment failures is a critical challenge in the industrial sector, as unexpected downtimes can lead to significant financial losses and operational disruptions. Leveraging machine learning models to analyze sensor data enables proactive maintenance strategies, improving reliability and efficiency.  \n",
    "This project focuses on developing a predictive model to anticipate failures in industrial equipment using real-world sensor data.\n",
    "\n",
    "---\n",
    "\n",
    "## Content of Dataset\n",
    "The dataset, sourced from a publicly available industrial monitoring collection, includes various features capturing operational parameters and sensor readings. Key attributes of the dataset:  \n",
    "- **Time-series data:** Metrics recorded periodically from multiple sensors.  \n",
    "- **Equipment information:** Details about machine types and operational conditions.  \n",
    "- **Target variable:** Labels indicating normal operation or failure.  \n",
    "\n",
    "Preliminary exploration and feature engineering will be crucial for uncovering patterns and extracting meaningful insights.\n",
    "\n",
    "---\n",
    "\n",
    "## Goals of the Project\n",
    "This project aims to:  \n",
    "1. Perform exploratory data analysis (EDA) to understand the dataset structure and key trends.  \n",
    "2. Develop machine learning models to predict equipment failures accurately.  \n",
    "3. Optimize models for deployment-ready performance.  \n",
    "4. Explore the potential impact of predictions on maintenance schedules and cost reduction.  \n",
    "\n",
    "Through this work, I seek to demonstrate proficiency in handling complex industrial datasets, applying predictive analytics, and deploying scalable solutions.\n",
    "\n",
    "---\n",
    "\n",
    "\n",
    "## Imports"
   ]
  },
  {
   "cell_type": "code",
   "execution_count": 1,
   "id": "6663dd9e-ac50-4d79-a4a8-33adc7bd2d13",
   "metadata": {},
   "outputs": [],
   "source": [
    "import numpy as np\n",
    "import pandas as pd\n",
    "import matplotlib.pyplot as plt\n",
    "import seaborn as sns\n",
    "\n",
    "from sklearn.model_selection import train_test_split\n",
    "from sklearn.metrics import mutual_info_score, roc_auc_score\n",
    "from sklearn.feature_extraction import DictVectorizer\n",
    "from sklearn.linear_model import LogisticRegression\n",
    "from sklearn.tree import DecisionTreeClassifier\n",
    "from sklearn.ensemble import RandomForestClassifier\n",
    "import xgboost as xgb\n",
    "\n",
    "import pickle"
   ]
  },
  {
   "cell_type": "markdown",
   "id": "8f577004-f0e3-4b31-ba78-805df915f921",
   "metadata": {},
   "source": [
    "## Data preparation\n",
    "- Download the data, read it with pandas\n",
    "- Look at the data\n",
    "- Make column names and values look uniform\n",
    "- Check if all the columns read correctly\n",
    "- Check if the failure variable needs any preparation\n",
    "\n",
    "Data from https://www.kaggle.com/datasets/dnkumars/industrial-equipment-monitoring-dataset/data\n",
    "### Reading the data"
   ]
  },
  {
   "cell_type": "code",
   "execution_count": 2,
   "id": "13677a65-f43b-44b1-a366-83d9a7b7cc22",
   "metadata": {},
   "outputs": [],
   "source": [
    "df = pd.read_csv(\"equipment_anomaly_data.csv\")"
   ]
  },
  {
   "cell_type": "code",
   "execution_count": 3,
   "id": "33cfc3f2-7646-4cbd-8f44-e3ac350ba8ab",
   "metadata": {},
   "outputs": [
    {
     "data": {
      "text/html": [
       "<div>\n",
       "<style scoped>\n",
       "    .dataframe tbody tr th:only-of-type {\n",
       "        vertical-align: middle;\n",
       "    }\n",
       "\n",
       "    .dataframe tbody tr th {\n",
       "        vertical-align: top;\n",
       "    }\n",
       "\n",
       "    .dataframe thead th {\n",
       "        text-align: right;\n",
       "    }\n",
       "</style>\n",
       "<table border=\"1\" class=\"dataframe\">\n",
       "  <thead>\n",
       "    <tr style=\"text-align: right;\">\n",
       "      <th></th>\n",
       "      <th>temperature</th>\n",
       "      <th>pressure</th>\n",
       "      <th>vibration</th>\n",
       "      <th>humidity</th>\n",
       "      <th>equipment</th>\n",
       "      <th>location</th>\n",
       "      <th>faulty</th>\n",
       "    </tr>\n",
       "  </thead>\n",
       "  <tbody>\n",
       "    <tr>\n",
       "      <th>0</th>\n",
       "      <td>58.180180</td>\n",
       "      <td>25.029278</td>\n",
       "      <td>0.606516</td>\n",
       "      <td>45.694907</td>\n",
       "      <td>Turbine</td>\n",
       "      <td>Atlanta</td>\n",
       "      <td>0.0</td>\n",
       "    </tr>\n",
       "    <tr>\n",
       "      <th>1</th>\n",
       "      <td>75.740712</td>\n",
       "      <td>22.954018</td>\n",
       "      <td>2.338095</td>\n",
       "      <td>41.867407</td>\n",
       "      <td>Compressor</td>\n",
       "      <td>Chicago</td>\n",
       "      <td>0.0</td>\n",
       "    </tr>\n",
       "    <tr>\n",
       "      <th>2</th>\n",
       "      <td>71.358594</td>\n",
       "      <td>27.276830</td>\n",
       "      <td>1.389198</td>\n",
       "      <td>58.954409</td>\n",
       "      <td>Turbine</td>\n",
       "      <td>San Francisco</td>\n",
       "      <td>0.0</td>\n",
       "    </tr>\n",
       "    <tr>\n",
       "      <th>3</th>\n",
       "      <td>71.616985</td>\n",
       "      <td>32.242921</td>\n",
       "      <td>1.770690</td>\n",
       "      <td>40.565138</td>\n",
       "      <td>Pump</td>\n",
       "      <td>Atlanta</td>\n",
       "      <td>0.0</td>\n",
       "    </tr>\n",
       "    <tr>\n",
       "      <th>4</th>\n",
       "      <td>66.506832</td>\n",
       "      <td>45.197471</td>\n",
       "      <td>0.345398</td>\n",
       "      <td>43.253795</td>\n",
       "      <td>Pump</td>\n",
       "      <td>New York</td>\n",
       "      <td>0.0</td>\n",
       "    </tr>\n",
       "  </tbody>\n",
       "</table>\n",
       "</div>"
      ],
      "text/plain": [
       "   temperature   pressure  vibration   humidity   equipment       location  \\\n",
       "0    58.180180  25.029278   0.606516  45.694907     Turbine        Atlanta   \n",
       "1    75.740712  22.954018   2.338095  41.867407  Compressor        Chicago   \n",
       "2    71.358594  27.276830   1.389198  58.954409     Turbine  San Francisco   \n",
       "3    71.616985  32.242921   1.770690  40.565138        Pump        Atlanta   \n",
       "4    66.506832  45.197471   0.345398  43.253795        Pump       New York   \n",
       "\n",
       "   faulty  \n",
       "0     0.0  \n",
       "1     0.0  \n",
       "2     0.0  \n",
       "3     0.0  \n",
       "4     0.0  "
      ]
     },
     "execution_count": 3,
     "metadata": {},
     "output_type": "execute_result"
    }
   ],
   "source": [
    "df.head()"
   ]
  },
  {
   "cell_type": "markdown",
   "id": "41e836ff-8186-4f88-8811-ac37c74bdabf",
   "metadata": {},
   "source": [
    "### Records count"
   ]
  },
  {
   "cell_type": "code",
   "execution_count": 4,
   "id": "43e9ccd5-bd6f-4c61-9d64-0773399440bc",
   "metadata": {},
   "outputs": [
    {
     "data": {
      "text/plain": [
       "(7672, 7)"
      ]
     },
     "execution_count": 4,
     "metadata": {},
     "output_type": "execute_result"
    }
   ],
   "source": [
    "df.shape"
   ]
  },
  {
   "cell_type": "code",
   "execution_count": 5,
   "id": "1352bef6-7bf8-4c25-b015-618035111bea",
   "metadata": {},
   "outputs": [
    {
     "data": {
      "text/plain": [
       "temperature    float64\n",
       "pressure       float64\n",
       "vibration      float64\n",
       "humidity       float64\n",
       "equipment       object\n",
       "location        object\n",
       "faulty         float64\n",
       "dtype: object"
      ]
     },
     "execution_count": 5,
     "metadata": {},
     "output_type": "execute_result"
    }
   ],
   "source": [
    "df.dtypes"
   ]
  },
  {
   "cell_type": "code",
   "execution_count": 6,
   "id": "04aef467-8e0c-4251-928e-410112479db5",
   "metadata": {},
   "outputs": [
    {
     "name": "stdout",
     "output_type": "stream",
     "text": [
      "Numerical features are : ['temperature', 'pressure', 'vibration', 'humidity']\n",
      "Categorical features are : ['equipment', 'location']\n"
     ]
    }
   ],
   "source": [
    "numerical = ['temperature', 'pressure', 'vibration', 'humidity']\n",
    "categorical = list(df.dtypes[df.dtypes == 'object'].index)\n",
    "print(\"Numerical features are :\", numerical)\n",
    "print(\"Categorical features are :\", categorical)"
   ]
  },
  {
   "cell_type": "code",
   "execution_count": 7,
   "id": "0abead76-6550-4066-8b19-b15c11896897",
   "metadata": {},
   "outputs": [],
   "source": [
    "for col in categorical:\n",
    "    df[col] = df[col].str.lower().str.replace(' ', '_')"
   ]
  },
  {
   "cell_type": "code",
   "execution_count": 8,
   "id": "663922c8-fe78-47d3-a5bd-b63bea26948d",
   "metadata": {},
   "outputs": [
    {
     "data": {
      "text/plain": [
       "0       0\n",
       "1       0\n",
       "2       0\n",
       "3       0\n",
       "4       0\n",
       "       ..\n",
       "7667    0\n",
       "7668    0\n",
       "7669    0\n",
       "7670    1\n",
       "7671    1\n",
       "Name: faulty, Length: 7672, dtype: int64"
      ]
     },
     "execution_count": 8,
     "metadata": {},
     "output_type": "execute_result"
    }
   ],
   "source": [
    "df.faulty = (df.faulty > 0).astype(int)\n",
    "df.faulty"
   ]
  },
  {
   "cell_type": "markdown",
   "id": "c7e0e925-b540-44d4-97c0-043c1026b5a3",
   "metadata": {},
   "source": [
    "## EDA – Exploratory Data Analysis\n",
    "- Check missing values\n",
    "- Look at the target variable (faulty)\n",
    "- Look at numerical and categorical variables\n",
    "### Checking missing values"
   ]
  },
  {
   "cell_type": "code",
   "execution_count": 9,
   "id": "85a59958-514e-4fd3-a688-74394ccf3c58",
   "metadata": {},
   "outputs": [
    {
     "data": {
      "text/plain": [
       "np.int64(0)"
      ]
     },
     "execution_count": 9,
     "metadata": {},
     "output_type": "execute_result"
    }
   ],
   "source": [
    "df.isna().sum().sum()"
   ]
  },
  {
   "cell_type": "markdown",
   "id": "d4c90fae-e305-4279-b90f-6bf56c674ff7",
   "metadata": {},
   "source": [
    "There's no **NaN** values.\n",
    "### Looking at the target variable *faulty*"
   ]
  },
  {
   "cell_type": "code",
   "execution_count": 10,
   "id": "871ce95c-07f4-4202-8b55-5630714349c7",
   "metadata": {},
   "outputs": [
    {
     "data": {
      "text/plain": [
       "faulty\n",
       "0    0.900026\n",
       "1    0.099974\n",
       "Name: proportion, dtype: float64"
      ]
     },
     "execution_count": 10,
     "metadata": {},
     "output_type": "execute_result"
    }
   ],
   "source": [
    "df.faulty.value_counts(normalize=True)"
   ]
  },
  {
   "cell_type": "code",
   "execution_count": 11,
   "id": "f88ddb4b-c0c3-472d-857e-4829377fac67",
   "metadata": {},
   "outputs": [
    {
     "data": {
      "text/plain": [
       "np.float64(0.099974)"
      ]
     },
     "execution_count": 11,
     "metadata": {},
     "output_type": "execute_result"
    }
   ],
   "source": [
    "df.faulty.mean().round(6)"
   ]
  },
  {
   "cell_type": "markdown",
   "id": "8e8bca1e-01a8-4211-905d-3c3c71f22e91",
   "metadata": {},
   "source": [
    "The target is imbalanced, but not so strongly.\n",
    "### Looking at numerical and categorical variables"
   ]
  },
  {
   "cell_type": "code",
   "execution_count": 12,
   "id": "13253aa4-3e26-4b9d-9763-01e020b1c57f",
   "metadata": {},
   "outputs": [
    {
     "data": {
      "text/html": [
       "<div>\n",
       "<style scoped>\n",
       "    .dataframe tbody tr th:only-of-type {\n",
       "        vertical-align: middle;\n",
       "    }\n",
       "\n",
       "    .dataframe tbody tr th {\n",
       "        vertical-align: top;\n",
       "    }\n",
       "\n",
       "    .dataframe thead th {\n",
       "        text-align: right;\n",
       "    }\n",
       "</style>\n",
       "<table border=\"1\" class=\"dataframe\">\n",
       "  <thead>\n",
       "    <tr style=\"text-align: right;\">\n",
       "      <th></th>\n",
       "      <th>temperature</th>\n",
       "      <th>pressure</th>\n",
       "      <th>vibration</th>\n",
       "      <th>humidity</th>\n",
       "      <th>faulty</th>\n",
       "    </tr>\n",
       "  </thead>\n",
       "  <tbody>\n",
       "    <tr>\n",
       "      <th>count</th>\n",
       "      <td>7672.00</td>\n",
       "      <td>7672.00</td>\n",
       "      <td>7672.00</td>\n",
       "      <td>7672.00</td>\n",
       "      <td>7672.0</td>\n",
       "    </tr>\n",
       "    <tr>\n",
       "      <th>mean</th>\n",
       "      <td>70.92</td>\n",
       "      <td>35.74</td>\n",
       "      <td>1.61</td>\n",
       "      <td>50.02</td>\n",
       "      <td>0.1</td>\n",
       "    </tr>\n",
       "    <tr>\n",
       "      <th>std</th>\n",
       "      <td>16.20</td>\n",
       "      <td>10.38</td>\n",
       "      <td>0.73</td>\n",
       "      <td>11.84</td>\n",
       "      <td>0.3</td>\n",
       "    </tr>\n",
       "    <tr>\n",
       "      <th>min</th>\n",
       "      <td>10.27</td>\n",
       "      <td>3.62</td>\n",
       "      <td>-0.43</td>\n",
       "      <td>10.22</td>\n",
       "      <td>0.0</td>\n",
       "    </tr>\n",
       "    <tr>\n",
       "      <th>25%</th>\n",
       "      <td>62.78</td>\n",
       "      <td>29.49</td>\n",
       "      <td>1.17</td>\n",
       "      <td>42.61</td>\n",
       "      <td>0.0</td>\n",
       "    </tr>\n",
       "    <tr>\n",
       "      <th>50%</th>\n",
       "      <td>70.16</td>\n",
       "      <td>35.23</td>\n",
       "      <td>1.53</td>\n",
       "      <td>50.02</td>\n",
       "      <td>0.0</td>\n",
       "    </tr>\n",
       "    <tr>\n",
       "      <th>75%</th>\n",
       "      <td>77.57</td>\n",
       "      <td>41.16</td>\n",
       "      <td>1.92</td>\n",
       "      <td>57.34</td>\n",
       "      <td>0.0</td>\n",
       "    </tr>\n",
       "    <tr>\n",
       "      <th>max</th>\n",
       "      <td>149.69</td>\n",
       "      <td>79.89</td>\n",
       "      <td>4.99</td>\n",
       "      <td>89.98</td>\n",
       "      <td>1.0</td>\n",
       "    </tr>\n",
       "  </tbody>\n",
       "</table>\n",
       "</div>"
      ],
      "text/plain": [
       "       temperature  pressure  vibration  humidity  faulty\n",
       "count      7672.00   7672.00    7672.00   7672.00  7672.0\n",
       "mean         70.92     35.74       1.61     50.02     0.1\n",
       "std          16.20     10.38       0.73     11.84     0.3\n",
       "min          10.27      3.62      -0.43     10.22     0.0\n",
       "25%          62.78     29.49       1.17     42.61     0.0\n",
       "50%          70.16     35.23       1.53     50.02     0.0\n",
       "75%          77.57     41.16       1.92     57.34     0.0\n",
       "max         149.69     79.89       4.99     89.98     1.0"
      ]
     },
     "execution_count": 12,
     "metadata": {},
     "output_type": "execute_result"
    }
   ],
   "source": [
    "df.describe().round(2)"
   ]
  },
  {
   "cell_type": "code",
   "execution_count": 13,
   "id": "e807a4a4-d350-4461-8ab4-2b77c2a2262a",
   "metadata": {},
   "outputs": [
    {
     "data": {
      "text/plain": [
       "np.int64(10)"
      ]
     },
     "execution_count": 13,
     "metadata": {},
     "output_type": "execute_result"
    }
   ],
   "source": [
    "(df.vibration < 0).sum()"
   ]
  },
  {
   "cell_type": "markdown",
   "id": "26b2648d-3e30-4877-9495-d7dd43220a8b",
   "metadata": {},
   "source": [
    "The feature *vibration* could be curious when **negative**.\n",
    "Nevertheless, the notion of vibration may consider an **acceleration measurement** that may be **negative** (deceleration).\n",
    "That's why I won't consider the 10 negative values as wrong."
   ]
  },
  {
   "cell_type": "markdown",
   "id": "6715e979-e116-444d-8968-39fb16b4ff09",
   "metadata": {},
   "source": [
    "### Correlation matrix"
   ]
  },
  {
   "cell_type": "code",
   "execution_count": 14,
   "id": "2fce629e-b8ae-4a84-839b-053c506cebbe",
   "metadata": {},
   "outputs": [
    {
     "data": {
      "text/html": [
       "<div>\n",
       "<style scoped>\n",
       "    .dataframe tbody tr th:only-of-type {\n",
       "        vertical-align: middle;\n",
       "    }\n",
       "\n",
       "    .dataframe tbody tr th {\n",
       "        vertical-align: top;\n",
       "    }\n",
       "\n",
       "    .dataframe thead th {\n",
       "        text-align: right;\n",
       "    }\n",
       "</style>\n",
       "<table border=\"1\" class=\"dataframe\">\n",
       "  <thead>\n",
       "    <tr style=\"text-align: right;\">\n",
       "      <th></th>\n",
       "      <th>temperature</th>\n",
       "      <th>pressure</th>\n",
       "      <th>vibration</th>\n",
       "      <th>humidity</th>\n",
       "    </tr>\n",
       "  </thead>\n",
       "  <tbody>\n",
       "    <tr>\n",
       "      <th>temperature</th>\n",
       "      <td>1.000000</td>\n",
       "      <td>0.049093</td>\n",
       "      <td>0.063448</td>\n",
       "      <td>0.000376</td>\n",
       "    </tr>\n",
       "    <tr>\n",
       "      <th>pressure</th>\n",
       "      <td>0.049093</td>\n",
       "      <td>1.000000</td>\n",
       "      <td>0.077577</td>\n",
       "      <td>-0.014706</td>\n",
       "    </tr>\n",
       "    <tr>\n",
       "      <th>vibration</th>\n",
       "      <td>0.063448</td>\n",
       "      <td>0.077577</td>\n",
       "      <td>1.000000</td>\n",
       "      <td>0.025175</td>\n",
       "    </tr>\n",
       "    <tr>\n",
       "      <th>humidity</th>\n",
       "      <td>0.000376</td>\n",
       "      <td>-0.014706</td>\n",
       "      <td>0.025175</td>\n",
       "      <td>1.000000</td>\n",
       "    </tr>\n",
       "  </tbody>\n",
       "</table>\n",
       "</div>"
      ],
      "text/plain": [
       "             temperature  pressure  vibration  humidity\n",
       "temperature     1.000000  0.049093   0.063448  0.000376\n",
       "pressure        0.049093  1.000000   0.077577 -0.014706\n",
       "vibration       0.063448  0.077577   1.000000  0.025175\n",
       "humidity        0.000376 -0.014706   0.025175  1.000000"
      ]
     },
     "execution_count": 14,
     "metadata": {},
     "output_type": "execute_result"
    }
   ],
   "source": [
    "corr = df[numerical].corr()\n",
    "corr"
   ]
  },
  {
   "cell_type": "code",
   "execution_count": 15,
   "id": "2bfbaab5-3ef5-4e06-b619-1bc4b11093bd",
   "metadata": {},
   "outputs": [
    {
     "data": {
      "image/png": "[encoded data removed]",
      "text/plain": [
       "<Figure size 1600x1600 with 2 Axes>"
      ]
     },
     "metadata": {},
     "output_type": "display_data"
    }
   ],
   "source": [
    "mask = np.triu(np.ones_like(corr, dtype=bool))\n",
    "f, ax = plt.subplots(figsize=(16, 16))\n",
    "\n",
    "cmap = sns.diverging_palette(230, 20, as_cmap=True)\n",
    "plt.grid(visible=False)\n",
    "plt.title('Looking at linear correlations with Pearson',\n",
    "          color='green', fontsize=15)\n",
    "sns.heatmap(corr, mask=mask, cmap=cmap, vmax=1, center=0,\n",
    "            square=True, annot=False, linewidths=.5, cbar_kws={\"shrink\": .5});"
   ]
  },
  {
   "cell_type": "markdown",
   "id": "07a98738-1bd6-4189-a089-e9f83e8eb6c3",
   "metadata": {},
   "source": [
    "**Correlations** between numerical features seem to be very **low**."
   ]
  },
  {
   "cell_type": "code",
   "execution_count": 16,
   "id": "b2a39b52-7206-4d43-95d0-f71559ba0ea7",
   "metadata": {},
   "outputs": [
    {
     "data": {
      "text/plain": [
       "equipment    3\n",
       "location     5\n",
       "dtype: int64"
      ]
     },
     "execution_count": 16,
     "metadata": {},
     "output_type": "execute_result"
    }
   ],
   "source": [
    "df[categorical].nunique()"
   ]
  },
  {
   "cell_type": "code",
   "execution_count": 17,
   "id": "06ebe56f-bd98-443a-9a88-21a6375db9d7",
   "metadata": {},
   "outputs": [
    {
     "name": "stdout",
     "output_type": "stream",
     "text": [
      "Values for equipment : ['turbine' 'compressor' 'pump']\n",
      "Values for location : ['atlanta' 'chicago' 'san_francisco' 'new_york' 'houston']\n"
     ]
    }
   ],
   "source": [
    "for cat in categorical:\n",
    "    print(f\"Values for {cat} : {df[cat].unique()}\")"
   ]
  },
  {
   "cell_type": "markdown",
   "id": "43b2a20e-5f05-4833-8249-afeea1b51863",
   "metadata": {},
   "source": [
    "## Setting up the validation framework\n",
    "- Perform the train/validation/test split with Scikit-Learn"
   ]
  },
  {
   "cell_type": "code",
   "execution_count": 18,
   "id": "80bbe21c-fce4-458c-810a-6965041898aa",
   "metadata": {},
   "outputs": [
    {
     "data": {
      "text/plain": [
       "(4602, 1535, 1535)"
      ]
     },
     "execution_count": 18,
     "metadata": {},
     "output_type": "execute_result"
    }
   ],
   "source": [
    "df_full_train, df_test = train_test_split(df, test_size=0.2, random_state=39)\n",
    "df_train, df_val = train_test_split(\n",
    "    df_full_train, test_size=0.25, random_state=39)\n",
    "len(df_train), len(df_val), len(df_test)"
   ]
  },
  {
   "cell_type": "code",
   "execution_count": 19,
   "id": "208f8840-7a1b-40f2-b434-b59acc08925a",
   "metadata": {},
   "outputs": [],
   "source": [
    "df_full_train = df_full_train.reset_index(drop=True)\n",
    "df_train = df_train.reset_index(drop=True)\n",
    "df_val = df_val.reset_index(drop=True)\n",
    "df_test = df_test.reset_index(drop=True)"
   ]
  },
  {
   "cell_type": "code",
   "execution_count": 20,
   "id": "f6a7a008-7fdf-4e71-ae53-a8d97d3c44cf",
   "metadata": {},
   "outputs": [],
   "source": [
    "y_full_train = df_full_train.faulty.values\n",
    "y_train = df_train.faulty.values\n",
    "y_val = df_val.faulty.values\n",
    "y_test = df_test.faulty.values"
   ]
  },
  {
   "cell_type": "code",
   "execution_count": 21,
   "id": "f4c400f5-04e9-437b-b928-dae5cca1e4e3",
   "metadata": {},
   "outputs": [],
   "source": [
    "del df_train['faulty']\n",
    "del df_val['faulty']\n",
    "del df_test['faulty']"
   ]
  },
  {
   "cell_type": "markdown",
   "id": "a57da788-1bca-405f-9cb4-f5dbafdef7d2",
   "metadata": {},
   "source": [
    "## Feature importance: Failure rate and risk ratio\n",
    "Feature importance analysis (part of EDA) - identifying which features affect our target variable\n",
    "- Failure rate\n",
    "- Risk ratio\n",
    "- Mutual information\n",
    "### Failure rate"
   ]
  },
  {
   "cell_type": "code",
   "execution_count": 22,
   "id": "86d6ed78-735b-4c8a-9156-5bcf60c964f9",
   "metadata": {},
   "outputs": [
    {
     "data": {
      "text/html": [
       "<div>\n",
       "<style scoped>\n",
       "    .dataframe tbody tr th:only-of-type {\n",
       "        vertical-align: middle;\n",
       "    }\n",
       "\n",
       "    .dataframe tbody tr th {\n",
       "        vertical-align: top;\n",
       "    }\n",
       "\n",
       "    .dataframe thead th {\n",
       "        text-align: right;\n",
       "    }\n",
       "</style>\n",
       "<table border=\"1\" class=\"dataframe\">\n",
       "  <thead>\n",
       "    <tr style=\"text-align: right;\">\n",
       "      <th></th>\n",
       "      <th>temperature</th>\n",
       "      <th>pressure</th>\n",
       "      <th>vibration</th>\n",
       "      <th>humidity</th>\n",
       "      <th>equipment</th>\n",
       "      <th>location</th>\n",
       "      <th>faulty</th>\n",
       "    </tr>\n",
       "  </thead>\n",
       "  <tbody>\n",
       "    <tr>\n",
       "      <th>0</th>\n",
       "      <td>64.739652</td>\n",
       "      <td>45.638355</td>\n",
       "      <td>1.954045</td>\n",
       "      <td>45.878434</td>\n",
       "      <td>turbine</td>\n",
       "      <td>san_francisco</td>\n",
       "      <td>0</td>\n",
       "    </tr>\n",
       "    <tr>\n",
       "      <th>1</th>\n",
       "      <td>75.062410</td>\n",
       "      <td>29.169678</td>\n",
       "      <td>1.642641</td>\n",
       "      <td>47.537256</td>\n",
       "      <td>turbine</td>\n",
       "      <td>new_york</td>\n",
       "      <td>0</td>\n",
       "    </tr>\n",
       "    <tr>\n",
       "      <th>2</th>\n",
       "      <td>77.556658</td>\n",
       "      <td>24.155665</td>\n",
       "      <td>2.706188</td>\n",
       "      <td>49.858019</td>\n",
       "      <td>compressor</td>\n",
       "      <td>san_francisco</td>\n",
       "      <td>0</td>\n",
       "    </tr>\n",
       "    <tr>\n",
       "      <th>3</th>\n",
       "      <td>67.057575</td>\n",
       "      <td>33.965620</td>\n",
       "      <td>2.489974</td>\n",
       "      <td>44.818347</td>\n",
       "      <td>pump</td>\n",
       "      <td>houston</td>\n",
       "      <td>0</td>\n",
       "    </tr>\n",
       "    <tr>\n",
       "      <th>4</th>\n",
       "      <td>77.910319</td>\n",
       "      <td>38.195755</td>\n",
       "      <td>1.591621</td>\n",
       "      <td>49.253946</td>\n",
       "      <td>compressor</td>\n",
       "      <td>san_francisco</td>\n",
       "      <td>0</td>\n",
       "    </tr>\n",
       "  </tbody>\n",
       "</table>\n",
       "</div>"
      ],
      "text/plain": [
       "   temperature   pressure  vibration   humidity   equipment       location  \\\n",
       "0    64.739652  45.638355   1.954045  45.878434     turbine  san_francisco   \n",
       "1    75.062410  29.169678   1.642641  47.537256     turbine       new_york   \n",
       "2    77.556658  24.155665   2.706188  49.858019  compressor  san_francisco   \n",
       "3    67.057575  33.965620   2.489974  44.818347        pump        houston   \n",
       "4    77.910319  38.195755   1.591621  49.253946  compressor  san_francisco   \n",
       "\n",
       "   faulty  \n",
       "0       0  \n",
       "1       0  \n",
       "2       0  \n",
       "3       0  \n",
       "4       0  "
      ]
     },
     "execution_count": 22,
     "metadata": {},
     "output_type": "execute_result"
    }
   ],
   "source": [
    "df_full_train.head()"
   ]
  },
  {
   "cell_type": "markdown",
   "id": "42581197-a59b-4d28-bd67-67bb8fbf8bac",
   "metadata": {},
   "source": [
    "Is an **equipment** more likely to fail than other ?"
   ]
  },
  {
   "cell_type": "code",
   "execution_count": 23,
   "id": "223e6106-bd2e-41bc-b22b-7a1575605fb1",
   "metadata": {},
   "outputs": [
    {
     "data": {
      "text/plain": [
       "np.float64(0.09907120743034056)"
      ]
     },
     "execution_count": 23,
     "metadata": {},
     "output_type": "execute_result"
    }
   ],
   "source": [
    "global_fail = df_full_train.faulty.mean()\n",
    "global_fail"
   ]
  },
  {
   "cell_type": "code",
   "execution_count": 24,
   "id": "7b78c9e3-d123-41d0-8bd3-ceffa19516ed",
   "metadata": {},
   "outputs": [
    {
     "data": {
      "text/plain": [
       "np.float64(0.09965803615046409)"
      ]
     },
     "execution_count": 24,
     "metadata": {},
     "output_type": "execute_result"
    }
   ],
   "source": [
    "fail_turbine = df_full_train[df_full_train.equipment == 'turbine'].faulty.mean()\n",
    "fail_turbine"
   ]
  },
  {
   "cell_type": "code",
   "execution_count": 25,
   "id": "fa37b030-0f51-494a-a376-5e70fe5320a6",
   "metadata": {},
   "outputs": [
    {
     "data": {
      "text/plain": [
       "np.float64(-0.0005868287201235278)"
      ]
     },
     "execution_count": 25,
     "metadata": {},
     "output_type": "execute_result"
    }
   ],
   "source": [
    "global_fail - fail_turbine"
   ]
  },
  {
   "cell_type": "code",
   "execution_count": 26,
   "id": "c6cd53b1-a161-4189-8fdc-0d386a33062e",
   "metadata": {},
   "outputs": [
    {
     "data": {
      "text/plain": [
       "np.float64(0.09820126397666505)"
      ]
     },
     "execution_count": 26,
     "metadata": {},
     "output_type": "execute_result"
    }
   ],
   "source": [
    "fail_compressor = df_full_train[df_full_train.equipment == 'compressor'].faulty.mean()\n",
    "fail_compressor"
   ]
  },
  {
   "cell_type": "code",
   "execution_count": 27,
   "id": "5256bd42-2a58-4bd0-b349-7f253bf20e47",
   "metadata": {},
   "outputs": [
    {
     "data": {
      "text/plain": [
       "np.float64(0.0008699434536755118)"
      ]
     },
     "execution_count": 27,
     "metadata": {},
     "output_type": "execute_result"
    }
   ],
   "source": [
    "global_fail - fail_compressor"
   ]
  },
  {
   "cell_type": "code",
   "execution_count": 28,
   "id": "b5a05d65-2d4e-4a29-ab39-0f0c4fe03921",
   "metadata": {},
   "outputs": [
    {
     "data": {
      "text/plain": [
       "np.float64(0.09936055090998525)"
      ]
     },
     "execution_count": 28,
     "metadata": {},
     "output_type": "execute_result"
    }
   ],
   "source": [
    "fail_pump = df_full_train[df_full_train.equipment == 'pump'].faulty.mean()\n",
    "fail_pump"
   ]
  },
  {
   "cell_type": "code",
   "execution_count": 29,
   "id": "ec3d6937-aff8-4377-80f0-c294163fb51b",
   "metadata": {},
   "outputs": [
    {
     "data": {
      "text/plain": [
       "np.float64(-0.00028934347964468254)"
      ]
     },
     "execution_count": 29,
     "metadata": {},
     "output_type": "execute_result"
    }
   ],
   "source": [
    "global_fail - fail_pump"
   ]
  },
  {
   "cell_type": "markdown",
   "id": "7127b7f2-7c03-4ad3-a500-a556917a2c5d",
   "metadata": {},
   "source": [
    "It seem's the **differences** are very **low**.\n",
    "\n",
    "Let's have the same look at the **location** feature."
   ]
  },
  {
   "cell_type": "code",
   "execution_count": 30,
   "id": "e469ecb4-3d33-4f11-81f5-095b0d23d513",
   "metadata": {},
   "outputs": [
    {
     "data": {
      "text/plain": [
       "np.float64(0.08747993579454254)"
      ]
     },
     "execution_count": 30,
     "metadata": {},
     "output_type": "execute_result"
    }
   ],
   "source": [
    "fail_atlanta = df_full_train[df_full_train.location == 'atlanta'].faulty.mean()\n",
    "fail_atlanta"
   ]
  },
  {
   "cell_type": "code",
   "execution_count": 31,
   "id": "32e6040c-260e-42ca-94dc-be5dbe8ac7cb",
   "metadata": {},
   "outputs": [
    {
     "data": {
      "text/plain": [
       "np.float64(0.011591271635798026)"
      ]
     },
     "execution_count": 31,
     "metadata": {},
     "output_type": "execute_result"
    }
   ],
   "source": [
    "global_fail - fail_atlanta"
   ]
  },
  {
   "cell_type": "code",
   "execution_count": 32,
   "id": "1ac5c2ad-d2f9-4bbf-87ee-de2d0f066006",
   "metadata": {},
   "outputs": [
    {
     "data": {
      "text/plain": [
       "np.float64(0.1008130081300813)"
      ]
     },
     "execution_count": 32,
     "metadata": {},
     "output_type": "execute_result"
    }
   ],
   "source": [
    "fail_chicago = df_full_train[df_full_train.location == 'chicago'].faulty.mean()\n",
    "fail_chicago"
   ]
  },
  {
   "cell_type": "code",
   "execution_count": 33,
   "id": "e6561ae3-fef4-4734-9da8-87eb7b6d1c07",
   "metadata": {},
   "outputs": [
    {
     "data": {
      "text/plain": [
       "np.float64(-0.0017418006997407393)"
      ]
     },
     "execution_count": 33,
     "metadata": {},
     "output_type": "execute_result"
    }
   ],
   "source": [
    "global_fail - fail_chicago"
   ]
  },
  {
   "cell_type": "code",
   "execution_count": 34,
   "id": "139d28c2-d935-4654-a4e1-26d6bff2eb83",
   "metadata": {},
   "outputs": [
    {
     "data": {
      "text/plain": [
       "np.float64(0.11868686868686869)"
      ]
     },
     "execution_count": 34,
     "metadata": {},
     "output_type": "execute_result"
    }
   ],
   "source": [
    "fail_san_francisco = df_full_train[df_full_train.location == 'san_francisco'].faulty.mean()\n",
    "fail_san_francisco"
   ]
  },
  {
   "cell_type": "code",
   "execution_count": 35,
   "id": "93c07817-6d61-4bc5-8634-1f4124c83bd2",
   "metadata": {},
   "outputs": [
    {
     "data": {
      "text/plain": [
       "np.float64(-0.019615661256528125)"
      ]
     },
     "execution_count": 35,
     "metadata": {},
     "output_type": "execute_result"
    }
   ],
   "source": [
    "global_fail - fail_san_francisco"
   ]
  },
  {
   "cell_type": "code",
   "execution_count": 36,
   "id": "a049d5c6-e4a3-42c4-af48-ee08aed54d07",
   "metadata": {},
   "outputs": [
    {
     "data": {
      "text/plain": [
       "np.float64(0.08993399339933994)"
      ]
     },
     "execution_count": 36,
     "metadata": {},
     "output_type": "execute_result"
    }
   ],
   "source": [
    "fail_new_york = df_full_train[df_full_train.location == 'new_york'].faulty.mean()\n",
    "fail_new_york"
   ]
  },
  {
   "cell_type": "code",
   "execution_count": 37,
   "id": "ad899f2f-cc14-416e-a71e-452be880d9ca",
   "metadata": {},
   "outputs": [
    {
     "data": {
      "text/plain": [
       "np.float64(0.009137214031000623)"
      ]
     },
     "execution_count": 37,
     "metadata": {},
     "output_type": "execute_result"
    }
   ],
   "source": [
    "global_fail - fail_new_york"
   ]
  },
  {
   "cell_type": "code",
   "execution_count": 38,
   "id": "c45fab5e-800e-467a-8cf3-221b29473897",
   "metadata": {},
   "outputs": [
    {
     "data": {
      "text/plain": [
       "np.float64(0.09912767644726407)"
      ]
     },
     "execution_count": 38,
     "metadata": {},
     "output_type": "execute_result"
    }
   ],
   "source": [
    "fail_houston = df_full_train[df_full_train.location == 'houston'].faulty.mean()\n",
    "fail_houston"
   ]
  },
  {
   "cell_type": "code",
   "execution_count": 39,
   "id": "84ab6511-9c36-4847-90c4-dd86ff1e1e1c",
   "metadata": {},
   "outputs": [
    {
     "data": {
      "text/plain": [
       "np.float64(-5.64690169235077e-05)"
      ]
     },
     "execution_count": 39,
     "metadata": {},
     "output_type": "execute_result"
    }
   ],
   "source": [
    "global_fail - fail_houston"
   ]
  },
  {
   "cell_type": "markdown",
   "id": "8f2a18f2-b45b-4ec5-89b8-0a610408a01c",
   "metadata": {},
   "source": [
    "### Risk ratio"
   ]
  },
  {
   "cell_type": "code",
   "execution_count": 40,
   "id": "c74e985a-a627-4e98-8797-c5d1f46b9488",
   "metadata": {},
   "outputs": [
    {
     "name": "stdout",
     "output_type": "stream",
     "text": [
      "equipment\n"
     ]
    },
    {
     "data": {
      "text/html": [
       "<div>\n",
       "<style scoped>\n",
       "    .dataframe tbody tr th:only-of-type {\n",
       "        vertical-align: middle;\n",
       "    }\n",
       "\n",
       "    .dataframe tbody tr th {\n",
       "        vertical-align: top;\n",
       "    }\n",
       "\n",
       "    .dataframe thead th {\n",
       "        text-align: right;\n",
       "    }\n",
       "</style>\n",
       "<table border=\"1\" class=\"dataframe\">\n",
       "  <thead>\n",
       "    <tr style=\"text-align: right;\">\n",
       "      <th></th>\n",
       "      <th>mean</th>\n",
       "      <th>count</th>\n",
       "      <th>diff</th>\n",
       "      <th>risk</th>\n",
       "    </tr>\n",
       "    <tr>\n",
       "      <th>equipment</th>\n",
       "      <th></th>\n",
       "      <th></th>\n",
       "      <th></th>\n",
       "      <th></th>\n",
       "    </tr>\n",
       "  </thead>\n",
       "  <tbody>\n",
       "    <tr>\n",
       "      <th>compressor</th>\n",
       "      <td>0.098201</td>\n",
       "      <td>2057</td>\n",
       "      <td>-0.000870</td>\n",
       "      <td>0.991219</td>\n",
       "    </tr>\n",
       "    <tr>\n",
       "      <th>pump</th>\n",
       "      <td>0.099361</td>\n",
       "      <td>2033</td>\n",
       "      <td>0.000289</td>\n",
       "      <td>1.002921</td>\n",
       "    </tr>\n",
       "    <tr>\n",
       "      <th>turbine</th>\n",
       "      <td>0.099658</td>\n",
       "      <td>2047</td>\n",
       "      <td>0.000587</td>\n",
       "      <td>1.005923</td>\n",
       "    </tr>\n",
       "  </tbody>\n",
       "</table>\n",
       "</div>"
      ],
      "text/plain": [
       "                mean  count      diff      risk\n",
       "equipment                                      \n",
       "compressor  0.098201   2057 -0.000870  0.991219\n",
       "pump        0.099361   2033  0.000289  1.002921\n",
       "turbine     0.099658   2047  0.000587  1.005923"
      ]
     },
     "metadata": {},
     "output_type": "display_data"
    },
    {
     "name": "stdout",
     "output_type": "stream",
     "text": [
      "\n",
      "\n",
      "location\n"
     ]
    },
    {
     "data": {
      "text/html": [
       "<div>\n",
       "<style scoped>\n",
       "    .dataframe tbody tr th:only-of-type {\n",
       "        vertical-align: middle;\n",
       "    }\n",
       "\n",
       "    .dataframe tbody tr th {\n",
       "        vertical-align: top;\n",
       "    }\n",
       "\n",
       "    .dataframe thead th {\n",
       "        text-align: right;\n",
       "    }\n",
       "</style>\n",
       "<table border=\"1\" class=\"dataframe\">\n",
       "  <thead>\n",
       "    <tr style=\"text-align: right;\">\n",
       "      <th></th>\n",
       "      <th>mean</th>\n",
       "      <th>count</th>\n",
       "      <th>diff</th>\n",
       "      <th>risk</th>\n",
       "    </tr>\n",
       "    <tr>\n",
       "      <th>location</th>\n",
       "      <th></th>\n",
       "      <th></th>\n",
       "      <th></th>\n",
       "      <th></th>\n",
       "    </tr>\n",
       "  </thead>\n",
       "  <tbody>\n",
       "    <tr>\n",
       "      <th>atlanta</th>\n",
       "      <td>0.087480</td>\n",
       "      <td>1246</td>\n",
       "      <td>-0.011591</td>\n",
       "      <td>0.883001</td>\n",
       "    </tr>\n",
       "    <tr>\n",
       "      <th>chicago</th>\n",
       "      <td>0.100813</td>\n",
       "      <td>1230</td>\n",
       "      <td>0.001742</td>\n",
       "      <td>1.017581</td>\n",
       "    </tr>\n",
       "    <tr>\n",
       "      <th>houston</th>\n",
       "      <td>0.099128</td>\n",
       "      <td>1261</td>\n",
       "      <td>0.000056</td>\n",
       "      <td>1.000570</td>\n",
       "    </tr>\n",
       "    <tr>\n",
       "      <th>new_york</th>\n",
       "      <td>0.089934</td>\n",
       "      <td>1212</td>\n",
       "      <td>-0.009137</td>\n",
       "      <td>0.907771</td>\n",
       "    </tr>\n",
       "    <tr>\n",
       "      <th>san_francisco</th>\n",
       "      <td>0.118687</td>\n",
       "      <td>1188</td>\n",
       "      <td>0.019616</td>\n",
       "      <td>1.197996</td>\n",
       "    </tr>\n",
       "  </tbody>\n",
       "</table>\n",
       "</div>"
      ],
      "text/plain": [
       "                   mean  count      diff      risk\n",
       "location                                          \n",
       "atlanta        0.087480   1246 -0.011591  0.883001\n",
       "chicago        0.100813   1230  0.001742  1.017581\n",
       "houston        0.099128   1261  0.000056  1.000570\n",
       "new_york       0.089934   1212 -0.009137  0.907771\n",
       "san_francisco  0.118687   1188  0.019616  1.197996"
      ]
     },
     "metadata": {},
     "output_type": "display_data"
    },
    {
     "name": "stdout",
     "output_type": "stream",
     "text": [
      "\n",
      "\n"
     ]
    }
   ],
   "source": [
    "for c in categorical:\n",
    "    print(c)\n",
    "    df_group = df_full_train.groupby(c).faulty.agg(['mean', 'count'])\n",
    "    df_group['diff'] = df_group['mean'] - global_fail\n",
    "    df_group['risk'] = df_group['mean'] / global_fail\n",
    "    display(df_group)\n",
    "    print()\n",
    "    print()"
   ]
  },
  {
   "cell_type": "markdown",
   "id": "b56cdfbf-b073-4280-8954-9660322a12ce",
   "metadata": {},
   "source": [
    "The main conclusion is that there're nearly **20% more failures** than the mean in **San Francisco** and nearly **12% less** in **Atlanta**.\n",
    "### Mutual information"
   ]
  },
  {
   "cell_type": "code",
   "execution_count": 41,
   "id": "60cb5ea6-e719-4a73-ab8f-4905748590a0",
   "metadata": {},
   "outputs": [],
   "source": [
    "def mutual_info_faulty_score(series):\n",
    "    return mutual_info_score(series, df_full_train.faulty)"
   ]
  },
  {
   "cell_type": "code",
   "execution_count": 42,
   "id": "22e007dd-743e-4b15-9f31-912798375601",
   "metadata": {},
   "outputs": [
    {
     "data": {
      "text/plain": [
       "location     0.000652\n",
       "equipment    0.000002\n",
       "dtype: float64"
      ]
     },
     "execution_count": 42,
     "metadata": {},
     "output_type": "execute_result"
    }
   ],
   "source": [
    "mi = df_full_train[categorical].apply(mutual_info_faulty_score)\n",
    "mi.sort_values(ascending=False)"
   ]
  },
  {
   "cell_type": "markdown",
   "id": "52f845d9-f9d2-43bc-b276-51368017ac5a",
   "metadata": {},
   "source": [
    "That's the confirmation that the *location* may impact more than the *equipment* type. Nevertheless, **none** of these **categorical features** can be considered as **highly informative**.\n",
    "## Feature importance: Correlation\n",
    "How about numerical columns?"
   ]
  },
  {
   "cell_type": "code",
   "execution_count": 43,
   "id": "3f72ffc4-f88a-446c-9650-d96771fed1c4",
   "metadata": {},
   "outputs": [
    {
     "data": {
      "text/plain": [
       "vibration      0.432717\n",
       "pressure       0.203662\n",
       "temperature    0.189072\n",
       "humidity       0.005382\n",
       "dtype: float64"
      ]
     },
     "execution_count": 43,
     "metadata": {},
     "output_type": "execute_result"
    }
   ],
   "source": [
    "df_full_train[numerical].corrwith(\n",
    "    df_full_train.faulty).abs().sort_values(ascending=False)"
   ]
  },
  {
   "cell_type": "code",
   "execution_count": null,
   "id": "ed62ecfa-5823-4bdd-9073-0e80e6c51d8b",
   "metadata": {},
   "outputs": [],
   "source": []
  }
 ],
 "metadata": {
  "kernelspec": {
   "display_name": "Python 3 (ipykernel)",
   "language": "python",
   "name": "python3"
  },
  "language_info": {
   "codemirror_mode": {
    "name": "ipython",
    "version": 3
   },
   "file_extension": ".py",
   "mimetype": "text/x-python",
   "name": "python",
   "nbconvert_exporter": "python",
   "pygments_lexer": "ipython3",
   "version": "3.11.9"
  }
 },
 "nbformat": 4,
 "nbformat_minor": 5
}
