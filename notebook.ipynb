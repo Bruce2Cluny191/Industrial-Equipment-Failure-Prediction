{
 "cells": [
  {
   "cell_type": "markdown",
   "id": "dd534a7b-cf74-4ba5-b7a0-7c98f07470f3",
   "metadata": {},
   "source": [
    "# Industrial Equipment Failure Prediction\n",
    "\n",
    "## Context\n",
    "Predicting equipment failures is a critical challenge in the industrial sector, as unexpected downtimes can lead to significant financial losses and operational disruptions. Leveraging machine learning models to analyze sensor data enables proactive maintenance strategies, improving reliability and efficiency.  \n",
    "This project focuses on developing a predictive model to anticipate failures in industrial equipment using real-world sensor data.\n",
    "\n",
    "---\n",
    "\n",
    "## Content of Dataset\n",
    "The dataset, sourced from a publicly available industrial monitoring collection, includes various features capturing operational parameters and sensor readings. Key attributes of the dataset:  \n",
    "- **Time-series data:** Metrics recorded periodically from multiple sensors.  \n",
    "- **Equipment information:** Details about machine types and operational conditions.  \n",
    "- **Target variable:** Labels indicating normal operation or failure.  \n",
    "\n",
    "Preliminary exploration and feature engineering will be crucial for uncovering patterns and extracting meaningful insights.\n",
    "\n",
    "---\n",
    "\n",
    "## Goals of the Project\n",
    "This project aims to:  \n",
    "1. Perform exploratory data analysis (EDA) to understand the dataset structure and key trends.  \n",
    "2. Develop machine learning models to predict equipment failures accurately.  \n",
    "3. Optimize models for deployment-ready performance.  \n",
    "4. Explore the potential impact of predictions on maintenance schedules and cost reduction.  \n",
    "\n",
    "Through this work, I seek to demonstrate proficiency in handling complex industrial datasets, applying predictive analytics, and deploying scalable solutions.\n",
    "\n",
    "---\n",
    "\n",
    "\n",
    "## Imports"
   ]
  },
  {
   "cell_type": "code",
   "execution_count": 1,
   "id": "6663dd9e-ac50-4d79-a4a8-33adc7bd2d13",
   "metadata": {},
   "outputs": [],
   "source": [
    "import numpy as np\n",
    "import pandas as pd\n",
    "import matplotlib.pyplot as plt\n",
    "import seaborn as sns\n",
    "\n",
    "from sklearn.model_selection import train_test_split\n",
    "from sklearn.metrics import mutual_info_score, roc_auc_score\n",
    "from sklearn.feature_extraction import DictVectorizer\n",
    "from sklearn.linear_model import LogisticRegression\n",
    "from sklearn.tree import DecisionTreeClassifier, export_text\n",
    "from sklearn.ensemble import RandomForestClassifier\n",
    "import xgboost as xgb\n",
    "\n",
    "import pickle"
   ]
  },
  {
   "cell_type": "markdown",
   "id": "8f577004-f0e3-4b31-ba78-805df915f921",
   "metadata": {},
   "source": [
    "## Data preparation\n",
    "- Download the data, read it with pandas\n",
    "- Look at the data\n",
    "- Make column names and values look uniform\n",
    "- Check if all the columns read correctly\n",
    "- Check if the failure variable needs any preparation\n",
    "\n",
    "Data from https://www.kaggle.com/datasets/dnkumars/industrial-equipment-monitoring-dataset/data\n",
    "### Reading the data"
   ]
  },
  {
   "cell_type": "code",
   "execution_count": 2,
   "id": "13677a65-f43b-44b1-a366-83d9a7b7cc22",
   "metadata": {},
   "outputs": [],
   "source": [
    "df = pd.read_csv(\"equipment_anomaly_data.csv\")"
   ]
  },
  {
   "cell_type": "code",
   "execution_count": 3,
   "id": "33cfc3f2-7646-4cbd-8f44-e3ac350ba8ab",
   "metadata": {},
   "outputs": [
    {
     "data": {
      "text/html": [
       "<div>\n",
       "<style scoped>\n",
       "    .dataframe tbody tr th:only-of-type {\n",
       "        vertical-align: middle;\n",
       "    }\n",
       "\n",
       "    .dataframe tbody tr th {\n",
       "        vertical-align: top;\n",
       "    }\n",
       "\n",
       "    .dataframe thead th {\n",
       "        text-align: right;\n",
       "    }\n",
       "</style>\n",
       "<table border=\"1\" class=\"dataframe\">\n",
       "  <thead>\n",
       "    <tr style=\"text-align: right;\">\n",
       "      <th></th>\n",
       "      <th>temperature</th>\n",
       "      <th>pressure</th>\n",
       "      <th>vibration</th>\n",
       "      <th>humidity</th>\n",
       "      <th>equipment</th>\n",
       "      <th>location</th>\n",
       "      <th>faulty</th>\n",
       "    </tr>\n",
       "  </thead>\n",
       "  <tbody>\n",
       "    <tr>\n",
       "      <th>0</th>\n",
       "      <td>58.180180</td>\n",
       "      <td>25.029278</td>\n",
       "      <td>0.606516</td>\n",
       "      <td>45.694907</td>\n",
       "      <td>Turbine</td>\n",
       "      <td>Atlanta</td>\n",
       "      <td>0.0</td>\n",
       "    </tr>\n",
       "    <tr>\n",
       "      <th>1</th>\n",
       "      <td>75.740712</td>\n",
       "      <td>22.954018</td>\n",
       "      <td>2.338095</td>\n",
       "      <td>41.867407</td>\n",
       "      <td>Compressor</td>\n",
       "      <td>Chicago</td>\n",
       "      <td>0.0</td>\n",
       "    </tr>\n",
       "    <tr>\n",
       "      <th>2</th>\n",
       "      <td>71.358594</td>\n",
       "      <td>27.276830</td>\n",
       "      <td>1.389198</td>\n",
       "      <td>58.954409</td>\n",
       "      <td>Turbine</td>\n",
       "      <td>San Francisco</td>\n",
       "      <td>0.0</td>\n",
       "    </tr>\n",
       "    <tr>\n",
       "      <th>3</th>\n",
       "      <td>71.616985</td>\n",
       "      <td>32.242921</td>\n",
       "      <td>1.770690</td>\n",
       "      <td>40.565138</td>\n",
       "      <td>Pump</td>\n",
       "      <td>Atlanta</td>\n",
       "      <td>0.0</td>\n",
       "    </tr>\n",
       "    <tr>\n",
       "      <th>4</th>\n",
       "      <td>66.506832</td>\n",
       "      <td>45.197471</td>\n",
       "      <td>0.345398</td>\n",
       "      <td>43.253795</td>\n",
       "      <td>Pump</td>\n",
       "      <td>New York</td>\n",
       "      <td>0.0</td>\n",
       "    </tr>\n",
       "  </tbody>\n",
       "</table>\n",
       "</div>"
      ],
      "text/plain": [
       "   temperature   pressure  vibration   humidity   equipment       location  \\\n",
       "0    58.180180  25.029278   0.606516  45.694907     Turbine        Atlanta   \n",
       "1    75.740712  22.954018   2.338095  41.867407  Compressor        Chicago   \n",
       "2    71.358594  27.276830   1.389198  58.954409     Turbine  San Francisco   \n",
       "3    71.616985  32.242921   1.770690  40.565138        Pump        Atlanta   \n",
       "4    66.506832  45.197471   0.345398  43.253795        Pump       New York   \n",
       "\n",
       "   faulty  \n",
       "0     0.0  \n",
       "1     0.0  \n",
       "2     0.0  \n",
       "3     0.0  \n",
       "4     0.0  "
      ]
     },
     "execution_count": 3,
     "metadata": {},
     "output_type": "execute_result"
    }
   ],
   "source": [
    "df.head()"
   ]
  },
  {
   "cell_type": "markdown",
   "id": "41e836ff-8186-4f88-8811-ac37c74bdabf",
   "metadata": {},
   "source": [
    "### Records count"
   ]
  },
  {
   "cell_type": "code",
   "execution_count": 4,
   "id": "43e9ccd5-bd6f-4c61-9d64-0773399440bc",
   "metadata": {},
   "outputs": [
    {
     "data": {
      "text/plain": [
       "(7672, 7)"
      ]
     },
     "execution_count": 4,
     "metadata": {},
     "output_type": "execute_result"
    }
   ],
   "source": [
    "df.shape"
   ]
  },
  {
   "cell_type": "code",
   "execution_count": 5,
   "id": "1352bef6-7bf8-4c25-b015-618035111bea",
   "metadata": {},
   "outputs": [
    {
     "data": {
      "text/plain": [
       "temperature    float64\n",
       "pressure       float64\n",
       "vibration      float64\n",
       "humidity       float64\n",
       "equipment       object\n",
       "location        object\n",
       "faulty         float64\n",
       "dtype: object"
      ]
     },
     "execution_count": 5,
     "metadata": {},
     "output_type": "execute_result"
    }
   ],
   "source": [
    "df.dtypes"
   ]
  },
  {
   "cell_type": "code",
   "execution_count": 6,
   "id": "04aef467-8e0c-4251-928e-410112479db5",
   "metadata": {},
   "outputs": [
    {
     "name": "stdout",
     "output_type": "stream",
     "text": [
      "Numerical features are : ['temperature', 'pressure', 'vibration', 'humidity']\n",
      "Categorical features are : ['equipment', 'location']\n"
     ]
    }
   ],
   "source": [
    "numerical = ['temperature', 'pressure', 'vibration', 'humidity']\n",
    "categorical = list(df.dtypes[df.dtypes == 'object'].index)\n",
    "print(\"Numerical features are :\", numerical)\n",
    "print(\"Categorical features are :\", categorical)"
   ]
  },
  {
   "cell_type": "code",
   "execution_count": 7,
   "id": "0abead76-6550-4066-8b19-b15c11896897",
   "metadata": {},
   "outputs": [],
   "source": [
    "for col in categorical:\n",
    "    df[col] = df[col].str.lower().str.replace(' ', '_')"
   ]
  },
  {
   "cell_type": "code",
   "execution_count": 8,
   "id": "663922c8-fe78-47d3-a5bd-b63bea26948d",
   "metadata": {},
   "outputs": [
    {
     "data": {
      "text/plain": [
       "0       0\n",
       "1       0\n",
       "2       0\n",
       "3       0\n",
       "4       0\n",
       "       ..\n",
       "7667    0\n",
       "7668    0\n",
       "7669    0\n",
       "7670    1\n",
       "7671    1\n",
       "Name: faulty, Length: 7672, dtype: int64"
      ]
     },
     "execution_count": 8,
     "metadata": {},
     "output_type": "execute_result"
    }
   ],
   "source": [
    "df.faulty = (df.faulty > 0).astype(int)\n",
    "df.faulty"
   ]
  },
  {
   "cell_type": "markdown",
   "id": "c7e0e925-b540-44d4-97c0-043c1026b5a3",
   "metadata": {},
   "source": [
    "## EDA – Exploratory Data Analysis\n",
    "- Check missing values\n",
    "- Look at the target variable (faulty)\n",
    "- Look at numerical and categorical variables\n",
    "### Checking missing values"
   ]
  },
  {
   "cell_type": "code",
   "execution_count": 9,
   "id": "85a59958-514e-4fd3-a688-74394ccf3c58",
   "metadata": {},
   "outputs": [
    {
     "data": {
      "text/plain": [
       "np.int64(0)"
      ]
     },
     "execution_count": 9,
     "metadata": {},
     "output_type": "execute_result"
    }
   ],
   "source": [
    "df.isna().sum().sum()"
   ]
  },
  {
   "cell_type": "markdown",
   "id": "d4c90fae-e305-4279-b90f-6bf56c674ff7",
   "metadata": {},
   "source": [
    "There's no **NaN** values.\n",
    "### Looking at the target variable *faulty*"
   ]
  },
  {
   "cell_type": "code",
   "execution_count": 10,
   "id": "871ce95c-07f4-4202-8b55-5630714349c7",
   "metadata": {},
   "outputs": [
    {
     "data": {
      "text/plain": [
       "faulty\n",
       "0    0.900026\n",
       "1    0.099974\n",
       "Name: proportion, dtype: float64"
      ]
     },
     "execution_count": 10,
     "metadata": {},
     "output_type": "execute_result"
    }
   ],
   "source": [
    "df.faulty.value_counts(normalize=True)"
   ]
  },
  {
   "cell_type": "code",
   "execution_count": 11,
   "id": "f88ddb4b-c0c3-472d-857e-4829377fac67",
   "metadata": {},
   "outputs": [
    {
     "data": {
      "text/plain": [
       "np.float64(0.099974)"
      ]
     },
     "execution_count": 11,
     "metadata": {},
     "output_type": "execute_result"
    }
   ],
   "source": [
    "df.faulty.mean().round(6)"
   ]
  },
  {
   "cell_type": "markdown",
   "id": "8e8bca1e-01a8-4211-905d-3c3c71f22e91",
   "metadata": {},
   "source": [
    "The target is imbalanced, but not so strongly.\n",
    "### Looking at numerical and categorical variables"
   ]
  },
  {
   "cell_type": "code",
   "execution_count": 12,
   "id": "13253aa4-3e26-4b9d-9763-01e020b1c57f",
   "metadata": {},
   "outputs": [
    {
     "data": {
      "text/html": [
       "<div>\n",
       "<style scoped>\n",
       "    .dataframe tbody tr th:only-of-type {\n",
       "        vertical-align: middle;\n",
       "    }\n",
       "\n",
       "    .dataframe tbody tr th {\n",
       "        vertical-align: top;\n",
       "    }\n",
       "\n",
       "    .dataframe thead th {\n",
       "        text-align: right;\n",
       "    }\n",
       "</style>\n",
       "<table border=\"1\" class=\"dataframe\">\n",
       "  <thead>\n",
       "    <tr style=\"text-align: right;\">\n",
       "      <th></th>\n",
       "      <th>temperature</th>\n",
       "      <th>pressure</th>\n",
       "      <th>vibration</th>\n",
       "      <th>humidity</th>\n",
       "      <th>faulty</th>\n",
       "    </tr>\n",
       "  </thead>\n",
       "  <tbody>\n",
       "    <tr>\n",
       "      <th>count</th>\n",
       "      <td>7672.00</td>\n",
       "      <td>7672.00</td>\n",
       "      <td>7672.00</td>\n",
       "      <td>7672.00</td>\n",
       "      <td>7672.0</td>\n",
       "    </tr>\n",
       "    <tr>\n",
       "      <th>mean</th>\n",
       "      <td>70.92</td>\n",
       "      <td>35.74</td>\n",
       "      <td>1.61</td>\n",
       "      <td>50.02</td>\n",
       "      <td>0.1</td>\n",
       "    </tr>\n",
       "    <tr>\n",
       "      <th>std</th>\n",
       "      <td>16.20</td>\n",
       "      <td>10.38</td>\n",
       "      <td>0.73</td>\n",
       "      <td>11.84</td>\n",
       "      <td>0.3</td>\n",
       "    </tr>\n",
       "    <tr>\n",
       "      <th>min</th>\n",
       "      <td>10.27</td>\n",
       "      <td>3.62</td>\n",
       "      <td>-0.43</td>\n",
       "      <td>10.22</td>\n",
       "      <td>0.0</td>\n",
       "    </tr>\n",
       "    <tr>\n",
       "      <th>25%</th>\n",
       "      <td>62.78</td>\n",
       "      <td>29.49</td>\n",
       "      <td>1.17</td>\n",
       "      <td>42.61</td>\n",
       "      <td>0.0</td>\n",
       "    </tr>\n",
       "    <tr>\n",
       "      <th>50%</th>\n",
       "      <td>70.16</td>\n",
       "      <td>35.23</td>\n",
       "      <td>1.53</td>\n",
       "      <td>50.02</td>\n",
       "      <td>0.0</td>\n",
       "    </tr>\n",
       "    <tr>\n",
       "      <th>75%</th>\n",
       "      <td>77.57</td>\n",
       "      <td>41.16</td>\n",
       "      <td>1.92</td>\n",
       "      <td>57.34</td>\n",
       "      <td>0.0</td>\n",
       "    </tr>\n",
       "    <tr>\n",
       "      <th>max</th>\n",
       "      <td>149.69</td>\n",
       "      <td>79.89</td>\n",
       "      <td>4.99</td>\n",
       "      <td>89.98</td>\n",
       "      <td>1.0</td>\n",
       "    </tr>\n",
       "  </tbody>\n",
       "</table>\n",
       "</div>"
      ],
      "text/plain": [
       "       temperature  pressure  vibration  humidity  faulty\n",
       "count      7672.00   7672.00    7672.00   7672.00  7672.0\n",
       "mean         70.92     35.74       1.61     50.02     0.1\n",
       "std          16.20     10.38       0.73     11.84     0.3\n",
       "min          10.27      3.62      -0.43     10.22     0.0\n",
       "25%          62.78     29.49       1.17     42.61     0.0\n",
       "50%          70.16     35.23       1.53     50.02     0.0\n",
       "75%          77.57     41.16       1.92     57.34     0.0\n",
       "max         149.69     79.89       4.99     89.98     1.0"
      ]
     },
     "execution_count": 12,
     "metadata": {},
     "output_type": "execute_result"
    }
   ],
   "source": [
    "df.describe().round(2)"
   ]
  },
  {
   "cell_type": "code",
   "execution_count": 13,
   "id": "e807a4a4-d350-4461-8ab4-2b77c2a2262a",
   "metadata": {},
   "outputs": [
    {
     "data": {
      "text/plain": [
       "np.int64(10)"
      ]
     },
     "execution_count": 13,
     "metadata": {},
     "output_type": "execute_result"
    }
   ],
   "source": [
    "(df.vibration < 0).sum()"
   ]
  },
  {
   "cell_type": "markdown",
   "id": "26b2648d-3e30-4877-9495-d7dd43220a8b",
   "metadata": {},
   "source": [
    "The feature *vibration* could be curious when **negative**.\n",
    "Nevertheless, the notion of vibration may consider an **acceleration measurement** that may be **negative** (deceleration).\n",
    "That's why I won't consider the 10 negative values as wrong."
   ]
  },
  {
   "cell_type": "markdown",
   "id": "6715e979-e116-444d-8968-39fb16b4ff09",
   "metadata": {},
   "source": [
    "### Correlation matrix"
   ]
  },
  {
   "cell_type": "code",
   "execution_count": 14,
   "id": "2fce629e-b8ae-4a84-839b-053c506cebbe",
   "metadata": {},
   "outputs": [
    {
     "data": {
      "text/html": [
       "<div>\n",
       "<style scoped>\n",
       "    .dataframe tbody tr th:only-of-type {\n",
       "        vertical-align: middle;\n",
       "    }\n",
       "\n",
       "    .dataframe tbody tr th {\n",
       "        vertical-align: top;\n",
       "    }\n",
       "\n",
       "    .dataframe thead th {\n",
       "        text-align: right;\n",
       "    }\n",
       "</style>\n",
       "<table border=\"1\" class=\"dataframe\">\n",
       "  <thead>\n",
       "    <tr style=\"text-align: right;\">\n",
       "      <th></th>\n",
       "      <th>temperature</th>\n",
       "      <th>pressure</th>\n",
       "      <th>vibration</th>\n",
       "      <th>humidity</th>\n",
       "    </tr>\n",
       "  </thead>\n",
       "  <tbody>\n",
       "    <tr>\n",
       "      <th>temperature</th>\n",
       "      <td>1.000000</td>\n",
       "      <td>0.049093</td>\n",
       "      <td>0.063448</td>\n",
       "      <td>0.000376</td>\n",
       "    </tr>\n",
       "    <tr>\n",
       "      <th>pressure</th>\n",
       "      <td>0.049093</td>\n",
       "      <td>1.000000</td>\n",
       "      <td>0.077577</td>\n",
       "      <td>-0.014706</td>\n",
       "    </tr>\n",
       "    <tr>\n",
       "      <th>vibration</th>\n",
       "      <td>0.063448</td>\n",
       "      <td>0.077577</td>\n",
       "      <td>1.000000</td>\n",
       "      <td>0.025175</td>\n",
       "    </tr>\n",
       "    <tr>\n",
       "      <th>humidity</th>\n",
       "      <td>0.000376</td>\n",
       "      <td>-0.014706</td>\n",
       "      <td>0.025175</td>\n",
       "      <td>1.000000</td>\n",
       "    </tr>\n",
       "  </tbody>\n",
       "</table>\n",
       "</div>"
      ],
      "text/plain": [
       "             temperature  pressure  vibration  humidity\n",
       "temperature     1.000000  0.049093   0.063448  0.000376\n",
       "pressure        0.049093  1.000000   0.077577 -0.014706\n",
       "vibration       0.063448  0.077577   1.000000  0.025175\n",
       "humidity        0.000376 -0.014706   0.025175  1.000000"
      ]
     },
     "execution_count": 14,
     "metadata": {},
     "output_type": "execute_result"
    }
   ],
   "source": [
    "corr = df[numerical].corr()\n",
    "corr"
   ]
  },
  {
   "cell_type": "code",
   "execution_count": 15,
   "id": "2bfbaab5-3ef5-4e06-b619-1bc4b11093bd",
   "metadata": {},
   "outputs": [
    {
     "data": {
      "image/png": "[encoded data removed]",
      "text/plain": [
       "<Figure size 1600x1600 with 2 Axes>"
      ]
     },
     "metadata": {},
     "output_type": "display_data"
    }
   ],
   "source": [
    "mask = np.triu(np.ones_like(corr, dtype=bool))\n",
    "f, ax = plt.subplots(figsize=(16, 16))\n",
    "\n",
    "cmap = sns.diverging_palette(230, 20, as_cmap=True)\n",
    "plt.grid(visible=False)\n",
    "plt.title('Looking at linear correlations with Pearson',\n",
    "          color='green', fontsize=15)\n",
    "sns.heatmap(corr, mask=mask, cmap=cmap, vmax=1, center=0,\n",
    "            square=True, annot=False, linewidths=.5, cbar_kws={\"shrink\": .5});"
   ]
  },
  {
   "cell_type": "markdown",
   "id": "07a98738-1bd6-4189-a089-e9f83e8eb6c3",
   "metadata": {},
   "source": [
    "**Correlations** between numerical features seem to be very **low**."
   ]
  },
  {
   "cell_type": "code",
   "execution_count": 16,
   "id": "b2a39b52-7206-4d43-95d0-f71559ba0ea7",
   "metadata": {},
   "outputs": [
    {
     "data": {
      "text/plain": [
       "equipment    3\n",
       "location     5\n",
       "dtype: int64"
      ]
     },
     "execution_count": 16,
     "metadata": {},
     "output_type": "execute_result"
    }
   ],
   "source": [
    "df[categorical].nunique()"
   ]
  },
  {
   "cell_type": "code",
   "execution_count": 17,
   "id": "06ebe56f-bd98-443a-9a88-21a6375db9d7",
   "metadata": {},
   "outputs": [
    {
     "name": "stdout",
     "output_type": "stream",
     "text": [
      "Values for equipment : ['turbine' 'compressor' 'pump']\n",
      "Values for location : ['atlanta' 'chicago' 'san_francisco' 'new_york' 'houston']\n"
     ]
    }
   ],
   "source": [
    "for cat in categorical:\n",
    "    print(f\"Values for {cat} : {df[cat].unique()}\")"
   ]
  },
  {
   "cell_type": "markdown",
   "id": "43b2a20e-5f05-4833-8249-afeea1b51863",
   "metadata": {},
   "source": [
    "## Setting up the validation framework\n",
    "- Perform the train/validation/test split with Scikit-Learn"
   ]
  },
  {
   "cell_type": "code",
   "execution_count": 18,
   "id": "80bbe21c-fce4-458c-810a-6965041898aa",
   "metadata": {},
   "outputs": [
    {
     "data": {
      "text/plain": [
       "(4602, 1535, 1535)"
      ]
     },
     "execution_count": 18,
     "metadata": {},
     "output_type": "execute_result"
    }
   ],
   "source": [
    "df_full_train, df_test = train_test_split(df, test_size=0.2, random_state=39)\n",
    "df_train, df_val = train_test_split(\n",
    "    df_full_train, test_size=0.25, random_state=39)\n",
    "len(df_train), len(df_val), len(df_test)"
   ]
  },
  {
   "cell_type": "code",
   "execution_count": 19,
   "id": "208f8840-7a1b-40f2-b434-b59acc08925a",
   "metadata": {},
   "outputs": [],
   "source": [
    "df_full_train = df_full_train.reset_index(drop=True)\n",
    "df_train = df_train.reset_index(drop=True)\n",
    "df_val = df_val.reset_index(drop=True)\n",
    "df_test = df_test.reset_index(drop=True)"
   ]
  },
  {
   "cell_type": "code",
   "execution_count": 20,
   "id": "f6a7a008-7fdf-4e71-ae53-a8d97d3c44cf",
   "metadata": {},
   "outputs": [],
   "source": [
    "y_full_train = df_full_train.faulty.values\n",
    "y_train = df_train.faulty.values\n",
    "y_val = df_val.faulty.values\n",
    "y_test = df_test.faulty.values"
   ]
  },
  {
   "cell_type": "code",
   "execution_count": 21,
   "id": "f4c400f5-04e9-437b-b928-dae5cca1e4e3",
   "metadata": {},
   "outputs": [],
   "source": [
    "del df_train['faulty']\n",
    "del df_val['faulty']\n",
    "del df_test['faulty']"
   ]
  },
  {
   "cell_type": "markdown",
   "id": "a57da788-1bca-405f-9cb4-f5dbafdef7d2",
   "metadata": {},
   "source": [
    "## Feature importance: Failure rate and risk ratio\n",
    "Feature importance analysis (part of EDA) - identifying which features affect our target variable\n",
    "- Failure rate\n",
    "- Risk ratio\n",
    "- Mutual information\n",
    "### Failure rate"
   ]
  },
  {
   "cell_type": "code",
   "execution_count": 22,
   "id": "86d6ed78-735b-4c8a-9156-5bcf60c964f9",
   "metadata": {},
   "outputs": [
    {
     "data": {
      "text/html": [
       "<div>\n",
       "<style scoped>\n",
       "    .dataframe tbody tr th:only-of-type {\n",
       "        vertical-align: middle;\n",
       "    }\n",
       "\n",
       "    .dataframe tbody tr th {\n",
       "        vertical-align: top;\n",
       "    }\n",
       "\n",
       "    .dataframe thead th {\n",
       "        text-align: right;\n",
       "    }\n",
       "</style>\n",
       "<table border=\"1\" class=\"dataframe\">\n",
       "  <thead>\n",
       "    <tr style=\"text-align: right;\">\n",
       "      <th></th>\n",
       "      <th>temperature</th>\n",
       "      <th>pressure</th>\n",
       "      <th>vibration</th>\n",
       "      <th>humidity</th>\n",
       "      <th>equipment</th>\n",
       "      <th>location</th>\n",
       "      <th>faulty</th>\n",
       "    </tr>\n",
       "  </thead>\n",
       "  <tbody>\n",
       "    <tr>\n",
       "      <th>0</th>\n",
       "      <td>64.739652</td>\n",
       "      <td>45.638355</td>\n",
       "      <td>1.954045</td>\n",
       "      <td>45.878434</td>\n",
       "      <td>turbine</td>\n",
       "      <td>san_francisco</td>\n",
       "      <td>0</td>\n",
       "    </tr>\n",
       "    <tr>\n",
       "      <th>1</th>\n",
       "      <td>75.062410</td>\n",
       "      <td>29.169678</td>\n",
       "      <td>1.642641</td>\n",
       "      <td>47.537256</td>\n",
       "      <td>turbine</td>\n",
       "      <td>new_york</td>\n",
       "      <td>0</td>\n",
       "    </tr>\n",
       "    <tr>\n",
       "      <th>2</th>\n",
       "      <td>77.556658</td>\n",
       "      <td>24.155665</td>\n",
       "      <td>2.706188</td>\n",
       "      <td>49.858019</td>\n",
       "      <td>compressor</td>\n",
       "      <td>san_francisco</td>\n",
       "      <td>0</td>\n",
       "    </tr>\n",
       "    <tr>\n",
       "      <th>3</th>\n",
       "      <td>67.057575</td>\n",
       "      <td>33.965620</td>\n",
       "      <td>2.489974</td>\n",
       "      <td>44.818347</td>\n",
       "      <td>pump</td>\n",
       "      <td>houston</td>\n",
       "      <td>0</td>\n",
       "    </tr>\n",
       "    <tr>\n",
       "      <th>4</th>\n",
       "      <td>77.910319</td>\n",
       "      <td>38.195755</td>\n",
       "      <td>1.591621</td>\n",
       "      <td>49.253946</td>\n",
       "      <td>compressor</td>\n",
       "      <td>san_francisco</td>\n",
       "      <td>0</td>\n",
       "    </tr>\n",
       "  </tbody>\n",
       "</table>\n",
       "</div>"
      ],
      "text/plain": [
       "   temperature   pressure  vibration   humidity   equipment       location  \\\n",
       "0    64.739652  45.638355   1.954045  45.878434     turbine  san_francisco   \n",
       "1    75.062410  29.169678   1.642641  47.537256     turbine       new_york   \n",
       "2    77.556658  24.155665   2.706188  49.858019  compressor  san_francisco   \n",
       "3    67.057575  33.965620   2.489974  44.818347        pump        houston   \n",
       "4    77.910319  38.195755   1.591621  49.253946  compressor  san_francisco   \n",
       "\n",
       "   faulty  \n",
       "0       0  \n",
       "1       0  \n",
       "2       0  \n",
       "3       0  \n",
       "4       0  "
      ]
     },
     "execution_count": 22,
     "metadata": {},
     "output_type": "execute_result"
    }
   ],
   "source": [
    "df_full_train.head()"
   ]
  },
  {
   "cell_type": "markdown",
   "id": "42581197-a59b-4d28-bd67-67bb8fbf8bac",
   "metadata": {},
   "source": [
    "Is an **equipment** more likely to fail than other ?"
   ]
  },
  {
   "cell_type": "code",
   "execution_count": 23,
   "id": "223e6106-bd2e-41bc-b22b-7a1575605fb1",
   "metadata": {},
   "outputs": [
    {
     "data": {
      "text/plain": [
       "np.float64(0.09907120743034056)"
      ]
     },
     "execution_count": 23,
     "metadata": {},
     "output_type": "execute_result"
    }
   ],
   "source": [
    "global_fail = df_full_train.faulty.mean()\n",
    "global_fail"
   ]
  },
  {
   "cell_type": "code",
   "execution_count": 24,
   "id": "7b78c9e3-d123-41d0-8bd3-ceffa19516ed",
   "metadata": {},
   "outputs": [
    {
     "data": {
      "text/plain": [
       "np.float64(0.09965803615046409)"
      ]
     },
     "execution_count": 24,
     "metadata": {},
     "output_type": "execute_result"
    }
   ],
   "source": [
    "fail_turbine = df_full_train[df_full_train.equipment == 'turbine'].faulty.mean()\n",
    "fail_turbine"
   ]
  },
  {
   "cell_type": "code",
   "execution_count": 25,
   "id": "fa37b030-0f51-494a-a376-5e70fe5320a6",
   "metadata": {},
   "outputs": [
    {
     "data": {
      "text/plain": [
       "np.float64(-0.0005868287201235278)"
      ]
     },
     "execution_count": 25,
     "metadata": {},
     "output_type": "execute_result"
    }
   ],
   "source": [
    "global_fail - fail_turbine"
   ]
  },
  {
   "cell_type": "code",
   "execution_count": 26,
   "id": "c6cd53b1-a161-4189-8fdc-0d386a33062e",
   "metadata": {},
   "outputs": [
    {
     "data": {
      "text/plain": [
       "np.float64(0.09820126397666505)"
      ]
     },
     "execution_count": 26,
     "metadata": {},
     "output_type": "execute_result"
    }
   ],
   "source": [
    "fail_compressor = df_full_train[df_full_train.equipment == 'compressor'].faulty.mean()\n",
    "fail_compressor"
   ]
  },
  {
   "cell_type": "code",
   "execution_count": 27,
   "id": "5256bd42-2a58-4bd0-b349-7f253bf20e47",
   "metadata": {},
   "outputs": [
    {
     "data": {
      "text/plain": [
       "np.float64(0.0008699434536755118)"
      ]
     },
     "execution_count": 27,
     "metadata": {},
     "output_type": "execute_result"
    }
   ],
   "source": [
    "global_fail - fail_compressor"
   ]
  },
  {
   "cell_type": "code",
   "execution_count": 28,
   "id": "b5a05d65-2d4e-4a29-ab39-0f0c4fe03921",
   "metadata": {},
   "outputs": [
    {
     "data": {
      "text/plain": [
       "np.float64(0.09936055090998525)"
      ]
     },
     "execution_count": 28,
     "metadata": {},
     "output_type": "execute_result"
    }
   ],
   "source": [
    "fail_pump = df_full_train[df_full_train.equipment == 'pump'].faulty.mean()\n",
    "fail_pump"
   ]
  },
  {
   "cell_type": "code",
   "execution_count": 29,
   "id": "ec3d6937-aff8-4377-80f0-c294163fb51b",
   "metadata": {},
   "outputs": [
    {
     "data": {
      "text/plain": [
       "np.float64(-0.00028934347964468254)"
      ]
     },
     "execution_count": 29,
     "metadata": {},
     "output_type": "execute_result"
    }
   ],
   "source": [
    "global_fail - fail_pump"
   ]
  },
  {
   "cell_type": "markdown",
   "id": "7127b7f2-7c03-4ad3-a500-a556917a2c5d",
   "metadata": {},
   "source": [
    "It seem's the **differences** are very **low**.\n",
    "\n",
    "Let's have the same look at the **location** feature."
   ]
  },
  {
   "cell_type": "code",
   "execution_count": 30,
   "id": "e469ecb4-3d33-4f11-81f5-095b0d23d513",
   "metadata": {},
   "outputs": [
    {
     "data": {
      "text/plain": [
       "np.float64(0.08747993579454254)"
      ]
     },
     "execution_count": 30,
     "metadata": {},
     "output_type": "execute_result"
    }
   ],
   "source": [
    "fail_atlanta = df_full_train[df_full_train.location == 'atlanta'].faulty.mean()\n",
    "fail_atlanta"
   ]
  },
  {
   "cell_type": "code",
   "execution_count": 31,
   "id": "32e6040c-260e-42ca-94dc-be5dbe8ac7cb",
   "metadata": {},
   "outputs": [
    {
     "data": {
      "text/plain": [
       "np.float64(0.011591271635798026)"
      ]
     },
     "execution_count": 31,
     "metadata": {},
     "output_type": "execute_result"
    }
   ],
   "source": [
    "global_fail - fail_atlanta"
   ]
  },
  {
   "cell_type": "code",
   "execution_count": 32,
   "id": "1ac5c2ad-d2f9-4bbf-87ee-de2d0f066006",
   "metadata": {},
   "outputs": [
    {
     "data": {
      "text/plain": [
       "np.float64(0.1008130081300813)"
      ]
     },
     "execution_count": 32,
     "metadata": {},
     "output_type": "execute_result"
    }
   ],
   "source": [
    "fail_chicago = df_full_train[df_full_train.location == 'chicago'].faulty.mean()\n",
    "fail_chicago"
   ]
  },
  {
   "cell_type": "code",
   "execution_count": 33,
   "id": "e6561ae3-fef4-4734-9da8-87eb7b6d1c07",
   "metadata": {},
   "outputs": [
    {
     "data": {
      "text/plain": [
       "np.float64(-0.0017418006997407393)"
      ]
     },
     "execution_count": 33,
     "metadata": {},
     "output_type": "execute_result"
    }
   ],
   "source": [
    "global_fail - fail_chicago"
   ]
  },
  {
   "cell_type": "code",
   "execution_count": 34,
   "id": "139d28c2-d935-4654-a4e1-26d6bff2eb83",
   "metadata": {},
   "outputs": [
    {
     "data": {
      "text/plain": [
       "np.float64(0.11868686868686869)"
      ]
     },
     "execution_count": 34,
     "metadata": {},
     "output_type": "execute_result"
    }
   ],
   "source": [
    "fail_san_francisco = df_full_train[df_full_train.location == 'san_francisco'].faulty.mean()\n",
    "fail_san_francisco"
   ]
  },
  {
   "cell_type": "code",
   "execution_count": 35,
   "id": "93c07817-6d61-4bc5-8634-1f4124c83bd2",
   "metadata": {},
   "outputs": [
    {
     "data": {
      "text/plain": [
       "np.float64(-0.019615661256528125)"
      ]
     },
     "execution_count": 35,
     "metadata": {},
     "output_type": "execute_result"
    }
   ],
   "source": [
    "global_fail - fail_san_francisco"
   ]
  },
  {
   "cell_type": "code",
   "execution_count": 36,
   "id": "a049d5c6-e4a3-42c4-af48-ee08aed54d07",
   "metadata": {},
   "outputs": [
    {
     "data": {
      "text/plain": [
       "np.float64(0.08993399339933994)"
      ]
     },
     "execution_count": 36,
     "metadata": {},
     "output_type": "execute_result"
    }
   ],
   "source": [
    "fail_new_york = df_full_train[df_full_train.location == 'new_york'].faulty.mean()\n",
    "fail_new_york"
   ]
  },
  {
   "cell_type": "code",
   "execution_count": 37,
   "id": "ad899f2f-cc14-416e-a71e-452be880d9ca",
   "metadata": {},
   "outputs": [
    {
     "data": {
      "text/plain": [
       "np.float64(0.009137214031000623)"
      ]
     },
     "execution_count": 37,
     "metadata": {},
     "output_type": "execute_result"
    }
   ],
   "source": [
    "global_fail - fail_new_york"
   ]
  },
  {
   "cell_type": "code",
   "execution_count": 38,
   "id": "c45fab5e-800e-467a-8cf3-221b29473897",
   "metadata": {},
   "outputs": [
    {
     "data": {
      "text/plain": [
       "np.float64(0.09912767644726407)"
      ]
     },
     "execution_count": 38,
     "metadata": {},
     "output_type": "execute_result"
    }
   ],
   "source": [
    "fail_houston = df_full_train[df_full_train.location == 'houston'].faulty.mean()\n",
    "fail_houston"
   ]
  },
  {
   "cell_type": "code",
   "execution_count": 39,
   "id": "84ab6511-9c36-4847-90c4-dd86ff1e1e1c",
   "metadata": {},
   "outputs": [
    {
     "data": {
      "text/plain": [
       "np.float64(-5.64690169235077e-05)"
      ]
     },
     "execution_count": 39,
     "metadata": {},
     "output_type": "execute_result"
    }
   ],
   "source": [
    "global_fail - fail_houston"
   ]
  },
  {
   "cell_type": "markdown",
   "id": "8f2a18f2-b45b-4ec5-89b8-0a610408a01c",
   "metadata": {},
   "source": [
    "### Risk ratio"
   ]
  },
  {
   "cell_type": "code",
   "execution_count": 40,
   "id": "c74e985a-a627-4e98-8797-c5d1f46b9488",
   "metadata": {},
   "outputs": [
    {
     "name": "stdout",
     "output_type": "stream",
     "text": [
      "equipment\n"
     ]
    },
    {
     "data": {
      "text/html": [
       "<div>\n",
       "<style scoped>\n",
       "    .dataframe tbody tr th:only-of-type {\n",
       "        vertical-align: middle;\n",
       "    }\n",
       "\n",
       "    .dataframe tbody tr th {\n",
       "        vertical-align: top;\n",
       "    }\n",
       "\n",
       "    .dataframe thead th {\n",
       "        text-align: right;\n",
       "    }\n",
       "</style>\n",
       "<table border=\"1\" class=\"dataframe\">\n",
       "  <thead>\n",
       "    <tr style=\"text-align: right;\">\n",
       "      <th></th>\n",
       "      <th>mean</th>\n",
       "      <th>count</th>\n",
       "      <th>diff</th>\n",
       "      <th>risk</th>\n",
       "    </tr>\n",
       "    <tr>\n",
       "      <th>equipment</th>\n",
       "      <th></th>\n",
       "      <th></th>\n",
       "      <th></th>\n",
       "      <th></th>\n",
       "    </tr>\n",
       "  </thead>\n",
       "  <tbody>\n",
       "    <tr>\n",
       "      <th>compressor</th>\n",
       "      <td>0.098201</td>\n",
       "      <td>2057</td>\n",
       "      <td>-0.000870</td>\n",
       "      <td>0.991219</td>\n",
       "    </tr>\n",
       "    <tr>\n",
       "      <th>pump</th>\n",
       "      <td>0.099361</td>\n",
       "      <td>2033</td>\n",
       "      <td>0.000289</td>\n",
       "      <td>1.002921</td>\n",
       "    </tr>\n",
       "    <tr>\n",
       "      <th>turbine</th>\n",
       "      <td>0.099658</td>\n",
       "      <td>2047</td>\n",
       "      <td>0.000587</td>\n",
       "      <td>1.005923</td>\n",
       "    </tr>\n",
       "  </tbody>\n",
       "</table>\n",
       "</div>"
      ],
      "text/plain": [
       "                mean  count      diff      risk\n",
       "equipment                                      \n",
       "compressor  0.098201   2057 -0.000870  0.991219\n",
       "pump        0.099361   2033  0.000289  1.002921\n",
       "turbine     0.099658   2047  0.000587  1.005923"
      ]
     },
     "metadata": {},
     "output_type": "display_data"
    },
    {
     "name": "stdout",
     "output_type": "stream",
     "text": [
      "\n",
      "\n",
      "location\n"
     ]
    },
    {
     "data": {
      "text/html": [
       "<div>\n",
       "<style scoped>\n",
       "    .dataframe tbody tr th:only-of-type {\n",
       "        vertical-align: middle;\n",
       "    }\n",
       "\n",
       "    .dataframe tbody tr th {\n",
       "        vertical-align: top;\n",
       "    }\n",
       "\n",
       "    .dataframe thead th {\n",
       "        text-align: right;\n",
       "    }\n",
       "</style>\n",
       "<table border=\"1\" class=\"dataframe\">\n",
       "  <thead>\n",
       "    <tr style=\"text-align: right;\">\n",
       "      <th></th>\n",
       "      <th>mean</th>\n",
       "      <th>count</th>\n",
       "      <th>diff</th>\n",
       "      <th>risk</th>\n",
       "    </tr>\n",
       "    <tr>\n",
       "      <th>location</th>\n",
       "      <th></th>\n",
       "      <th></th>\n",
       "      <th></th>\n",
       "      <th></th>\n",
       "    </tr>\n",
       "  </thead>\n",
       "  <tbody>\n",
       "    <tr>\n",
       "      <th>atlanta</th>\n",
       "      <td>0.087480</td>\n",
       "      <td>1246</td>\n",
       "      <td>-0.011591</td>\n",
       "      <td>0.883001</td>\n",
       "    </tr>\n",
       "    <tr>\n",
       "      <th>chicago</th>\n",
       "      <td>0.100813</td>\n",
       "      <td>1230</td>\n",
       "      <td>0.001742</td>\n",
       "      <td>1.017581</td>\n",
       "    </tr>\n",
       "    <tr>\n",
       "      <th>houston</th>\n",
       "      <td>0.099128</td>\n",
       "      <td>1261</td>\n",
       "      <td>0.000056</td>\n",
       "      <td>1.000570</td>\n",
       "    </tr>\n",
       "    <tr>\n",
       "      <th>new_york</th>\n",
       "      <td>0.089934</td>\n",
       "      <td>1212</td>\n",
       "      <td>-0.009137</td>\n",
       "      <td>0.907771</td>\n",
       "    </tr>\n",
       "    <tr>\n",
       "      <th>san_francisco</th>\n",
       "      <td>0.118687</td>\n",
       "      <td>1188</td>\n",
       "      <td>0.019616</td>\n",
       "      <td>1.197996</td>\n",
       "    </tr>\n",
       "  </tbody>\n",
       "</table>\n",
       "</div>"
      ],
      "text/plain": [
       "                   mean  count      diff      risk\n",
       "location                                          \n",
       "atlanta        0.087480   1246 -0.011591  0.883001\n",
       "chicago        0.100813   1230  0.001742  1.017581\n",
       "houston        0.099128   1261  0.000056  1.000570\n",
       "new_york       0.089934   1212 -0.009137  0.907771\n",
       "san_francisco  0.118687   1188  0.019616  1.197996"
      ]
     },
     "metadata": {},
     "output_type": "display_data"
    },
    {
     "name": "stdout",
     "output_type": "stream",
     "text": [
      "\n",
      "\n"
     ]
    }
   ],
   "source": [
    "for c in categorical:\n",
    "    print(c)\n",
    "    df_group = df_full_train.groupby(c).faulty.agg(['mean', 'count'])\n",
    "    df_group['diff'] = df_group['mean'] - global_fail\n",
    "    df_group['risk'] = df_group['mean'] / global_fail\n",
    "    display(df_group)\n",
    "    print()\n",
    "    print()"
   ]
  },
  {
   "cell_type": "markdown",
   "id": "b56cdfbf-b073-4280-8954-9660322a12ce",
   "metadata": {},
   "source": [
    "The main conclusion is that there're nearly **20% more failures** than the mean in **San Francisco** and nearly **12% less** in **Atlanta**.\n",
    "### Mutual information"
   ]
  },
  {
   "cell_type": "code",
   "execution_count": 41,
   "id": "60cb5ea6-e719-4a73-ab8f-4905748590a0",
   "metadata": {},
   "outputs": [],
   "source": [
    "def mutual_info_faulty_score(series):\n",
    "    return mutual_info_score(series, df_full_train.faulty)"
   ]
  },
  {
   "cell_type": "code",
   "execution_count": 42,
   "id": "22e007dd-743e-4b15-9f31-912798375601",
   "metadata": {},
   "outputs": [
    {
     "data": {
      "text/plain": [
       "location     0.000652\n",
       "equipment    0.000002\n",
       "dtype: float64"
      ]
     },
     "execution_count": 42,
     "metadata": {},
     "output_type": "execute_result"
    }
   ],
   "source": [
    "mi = df_full_train[categorical].apply(mutual_info_faulty_score)\n",
    "mi.sort_values(ascending=False)"
   ]
  },
  {
   "cell_type": "markdown",
   "id": "52f845d9-f9d2-43bc-b276-51368017ac5a",
   "metadata": {},
   "source": [
    "That's the confirmation that the *location* may impact more than the *equipment* type. Nevertheless, **none** of these **categorical features** can be considered as **highly informative**.\n",
    "## Feature importance: Correlation with Target\n",
    "How about numerical columns?"
   ]
  },
  {
   "cell_type": "code",
   "execution_count": 43,
   "id": "3f72ffc4-f88a-446c-9650-d96771fed1c4",
   "metadata": {},
   "outputs": [
    {
     "data": {
      "text/plain": [
       "vibration      0.432717\n",
       "pressure       0.203662\n",
       "temperature    0.189072\n",
       "humidity       0.005382\n",
       "dtype: float64"
      ]
     },
     "execution_count": 43,
     "metadata": {},
     "output_type": "execute_result"
    }
   ],
   "source": [
    "df_full_train[numerical].corrwith(\n",
    "    df_full_train.faulty).abs().sort_values(ascending=False)"
   ]
  },
  {
   "cell_type": "markdown",
   "id": "ac3b1582-0e9a-4217-a0ad-feb490ce5cd1",
   "metadata": {},
   "source": [
    "Correlations highlight moderate linear relationships, particularly for *vibration* the variable most correlated with failures with a coefficient of 0.43, while *humidity* seems to have little impact.\n",
    "## One-hot encoding\n",
    "- Use Scikit-Learn to encode categorical features"
   ]
  },
  {
   "cell_type": "code",
   "execution_count": 44,
   "id": "37af5b54-c3ba-4d39-8329-61f16c79c0e3",
   "metadata": {},
   "outputs": [],
   "source": [
    "train_dict = df_train[categorical + numerical].to_dict(orient='records')\n",
    "dv = DictVectorizer(sparse=False)"
   ]
  },
  {
   "cell_type": "code",
   "execution_count": 45,
   "id": "ec4e382c-921c-4b69-9aa5-c661cddac2fd",
   "metadata": {},
   "outputs": [
    {
     "data": {
      "text/plain": [
       "(4602, 12)"
      ]
     },
     "execution_count": 45,
     "metadata": {},
     "output_type": "execute_result"
    }
   ],
   "source": [
    "X_train = dv.fit_transform(train_dict)\n",
    "X_train.shape"
   ]
  },
  {
   "cell_type": "code",
   "execution_count": 46,
   "id": "d5ab4c5b-f868-4fe7-aa99-4d9f475a4178",
   "metadata": {},
   "outputs": [
    {
     "data": {
      "text/plain": [
       "array(['equipment=compressor', 'equipment=pump', 'equipment=turbine',\n",
       "       'humidity', 'location=atlanta', 'location=chicago',\n",
       "       'location=houston', 'location=new_york', 'location=san_francisco',\n",
       "       'pressure', 'temperature', 'vibration'], dtype=object)"
      ]
     },
     "execution_count": 46,
     "metadata": {},
     "output_type": "execute_result"
    }
   ],
   "source": [
    "dv.get_feature_names_out()"
   ]
  },
  {
   "cell_type": "code",
   "execution_count": 47,
   "id": "77c7b57b-a2fa-44fb-a1ae-763eb5074d0b",
   "metadata": {},
   "outputs": [],
   "source": [
    "val_dict = df_val[categorical + numerical].to_dict(orient='records')\n",
    "X_val = dv.transform(val_dict)"
   ]
  },
  {
   "cell_type": "markdown",
   "id": "10ff84ca-b38a-4db0-a717-7d6fcfa3e54b",
   "metadata": {},
   "source": [
    "## Training logistic regression with Scikit-Learn\n",
    "- Train a model with Scikit-Learn\n",
    "- Apply it to the validation dataset\n",
    "- Calculate the ROC AUC"
   ]
  },
  {
   "cell_type": "code",
   "execution_count": 48,
   "id": "b3d44c8d-a32c-4ca7-95f1-d530c0e40578",
   "metadata": {},
   "outputs": [
    {
     "data": {
      "text/html": [
       "<style>#sk-container-id-1 {\n",
       "  /* Definition of color scheme common for light and dark mode */\n",
       "  --sklearn-color-text: #000;\n",
       "  --sklearn-color-text-muted: #666;\n",
       "  --sklearn-color-line: gray;\n",
       "  /* Definition of color scheme for unfitted estimators */\n",
       "  --sklearn-color-unfitted-level-0: #fff5e6;\n",
       "  --sklearn-color-unfitted-level-1: #f6e4d2;\n",
       "  --sklearn-color-unfitted-level-2: #ffe0b3;\n",
       "  --sklearn-color-unfitted-level-3: chocolate;\n",
       "  /* Definition of color scheme for fitted estimators */\n",
       "  --sklearn-color-fitted-level-0: #f0f8ff;\n",
       "  --sklearn-color-fitted-level-1: #d4ebff;\n",
       "  --sklearn-color-fitted-level-2: #b3dbfd;\n",
       "  --sklearn-color-fitted-level-3: cornflowerblue;\n",
       "\n",
       "  /* Specific color for light theme */\n",
       "  --sklearn-color-text-on-default-background: var(--sg-text-color, var(--theme-code-foreground, var(--jp-content-font-color1, black)));\n",
       "  --sklearn-color-background: var(--sg-background-color, var(--theme-background, var(--jp-layout-color0, white)));\n",
       "  --sklearn-color-border-box: var(--sg-text-color, var(--theme-code-foreground, var(--jp-content-font-color1, black)));\n",
       "  --sklearn-color-icon: #696969;\n",
       "\n",
       "  @media (prefers-color-scheme: dark) {\n",
       "    /* Redefinition of color scheme for dark theme */\n",
       "    --sklearn-color-text-on-default-background: var(--sg-text-color, var(--theme-code-foreground, var(--jp-content-font-color1, white)));\n",
       "    --sklearn-color-background: var(--sg-background-color, var(--theme-background, var(--jp-layout-color0, #111)));\n",
       "    --sklearn-color-border-box: var(--sg-text-color, var(--theme-code-foreground, var(--jp-content-font-color1, white)));\n",
       "    --sklearn-color-icon: #878787;\n",
       "  }\n",
       "}\n",
       "\n",
       "#sk-container-id-1 {\n",
       "  color: var(--sklearn-color-text);\n",
       "}\n",
       "\n",
       "#sk-container-id-1 pre {\n",
       "  padding: 0;\n",
       "}\n",
       "\n",
       "#sk-container-id-1 input.sk-hidden--visually {\n",
       "  border: 0;\n",
       "  clip: rect(1px 1px 1px 1px);\n",
       "  clip: rect(1px, 1px, 1px, 1px);\n",
       "  height: 1px;\n",
       "  margin: -1px;\n",
       "  overflow: hidden;\n",
       "  padding: 0;\n",
       "  position: absolute;\n",
       "  width: 1px;\n",
       "}\n",
       "\n",
       "#sk-container-id-1 div.sk-dashed-wrapped {\n",
       "  border: 1px dashed var(--sklearn-color-line);\n",
       "  margin: 0 0.4em 0.5em 0.4em;\n",
       "  box-sizing: border-box;\n",
       "  padding-bottom: 0.4em;\n",
       "  background-color: var(--sklearn-color-background);\n",
       "}\n",
       "\n",
       "#sk-container-id-1 div.sk-container {\n",
       "  /* jupyter's `normalize.less` sets `[hidden] { display: none; }`\n",
       "     but bootstrap.min.css set `[hidden] { display: none !important; }`\n",
       "     so we also need the `!important` here to be able to override the\n",
       "     default hidden behavior on the sphinx rendered scikit-learn.org.\n",
       "     See: https://github.com/scikit-learn/scikit-learn/issues/21755 */\n",
       "  display: inline-block !important;\n",
       "  position: relative;\n",
       "}\n",
       "\n",
       "#sk-container-id-1 div.sk-text-repr-fallback {\n",
       "  display: none;\n",
       "}\n",
       "\n",
       "div.sk-parallel-item,\n",
       "div.sk-serial,\n",
       "div.sk-item {\n",
       "  /* draw centered vertical line to link estimators */\n",
       "  background-image: linear-gradient(var(--sklearn-color-text-on-default-background), var(--sklearn-color-text-on-default-background));\n",
       "  background-size: 2px 100%;\n",
       "  background-repeat: no-repeat;\n",
       "  background-position: center center;\n",
       "}\n",
       "\n",
       "/* Parallel-specific style estimator block */\n",
       "\n",
       "#sk-container-id-1 div.sk-parallel-item::after {\n",
       "  content: \"\";\n",
       "  width: 100%;\n",
       "  border-bottom: 2px solid var(--sklearn-color-text-on-default-background);\n",
       "  flex-grow: 1;\n",
       "}\n",
       "\n",
       "#sk-container-id-1 div.sk-parallel {\n",
       "  display: flex;\n",
       "  align-items: stretch;\n",
       "  justify-content: center;\n",
       "  background-color: var(--sklearn-color-background);\n",
       "  position: relative;\n",
       "}\n",
       "\n",
       "#sk-container-id-1 div.sk-parallel-item {\n",
       "  display: flex;\n",
       "  flex-direction: column;\n",
       "}\n",
       "\n",
       "#sk-container-id-1 div.sk-parallel-item:first-child::after {\n",
       "  align-self: flex-end;\n",
       "  width: 50%;\n",
       "}\n",
       "\n",
       "#sk-container-id-1 div.sk-parallel-item:last-child::after {\n",
       "  align-self: flex-start;\n",
       "  width: 50%;\n",
       "}\n",
       "\n",
       "#sk-container-id-1 div.sk-parallel-item:only-child::after {\n",
       "  width: 0;\n",
       "}\n",
       "\n",
       "/* Serial-specific style estimator block */\n",
       "\n",
       "#sk-container-id-1 div.sk-serial {\n",
       "  display: flex;\n",
       "  flex-direction: column;\n",
       "  align-items: center;\n",
       "  background-color: var(--sklearn-color-background);\n",
       "  padding-right: 1em;\n",
       "  padding-left: 1em;\n",
       "}\n",
       "\n",
       "\n",
       "/* Toggleable style: style used for estimator/Pipeline/ColumnTransformer box that is\n",
       "clickable and can be expanded/collapsed.\n",
       "- Pipeline and ColumnTransformer use this feature and define the default style\n",
       "- Estimators will overwrite some part of the style using the `sk-estimator` class\n",
       "*/\n",
       "\n",
       "/* Pipeline and ColumnTransformer style (default) */\n",
       "\n",
       "#sk-container-id-1 div.sk-toggleable {\n",
       "  /* Default theme specific background. It is overwritten whether we have a\n",
       "  specific estimator or a Pipeline/ColumnTransformer */\n",
       "  background-color: var(--sklearn-color-background);\n",
       "}\n",
       "\n",
       "/* Toggleable label */\n",
       "#sk-container-id-1 label.sk-toggleable__label {\n",
       "  cursor: pointer;\n",
       "  display: flex;\n",
       "  width: 100%;\n",
       "  margin-bottom: 0;\n",
       "  padding: 0.5em;\n",
       "  box-sizing: border-box;\n",
       "  text-align: center;\n",
       "  align-items: start;\n",
       "  justify-content: space-between;\n",
       "  gap: 0.5em;\n",
       "}\n",
       "\n",
       "#sk-container-id-1 label.sk-toggleable__label .caption {\n",
       "  font-size: 0.6rem;\n",
       "  font-weight: lighter;\n",
       "  color: var(--sklearn-color-text-muted);\n",
       "}\n",
       "\n",
       "#sk-container-id-1 label.sk-toggleable__label-arrow:before {\n",
       "  /* Arrow on the left of the label */\n",
       "  content: \"▸\";\n",
       "  float: left;\n",
       "  margin-right: 0.25em;\n",
       "  color: var(--sklearn-color-icon);\n",
       "}\n",
       "\n",
       "#sk-container-id-1 label.sk-toggleable__label-arrow:hover:before {\n",
       "  color: var(--sklearn-color-text);\n",
       "}\n",
       "\n",
       "/* Toggleable content - dropdown */\n",
       "\n",
       "#sk-container-id-1 div.sk-toggleable__content {\n",
       "  max-height: 0;\n",
       "  max-width: 0;\n",
       "  overflow: hidden;\n",
       "  text-align: left;\n",
       "  /* unfitted */\n",
       "  background-color: var(--sklearn-color-unfitted-level-0);\n",
       "}\n",
       "\n",
       "#sk-container-id-1 div.sk-toggleable__content.fitted {\n",
       "  /* fitted */\n",
       "  background-color: var(--sklearn-color-fitted-level-0);\n",
       "}\n",
       "\n",
       "#sk-container-id-1 div.sk-toggleable__content pre {\n",
       "  margin: 0.2em;\n",
       "  border-radius: 0.25em;\n",
       "  color: var(--sklearn-color-text);\n",
       "  /* unfitted */\n",
       "  background-color: var(--sklearn-color-unfitted-level-0);\n",
       "}\n",
       "\n",
       "#sk-container-id-1 div.sk-toggleable__content.fitted pre {\n",
       "  /* unfitted */\n",
       "  background-color: var(--sklearn-color-fitted-level-0);\n",
       "}\n",
       "\n",
       "#sk-container-id-1 input.sk-toggleable__control:checked~div.sk-toggleable__content {\n",
       "  /* Expand drop-down */\n",
       "  max-height: 200px;\n",
       "  max-width: 100%;\n",
       "  overflow: auto;\n",
       "}\n",
       "\n",
       "#sk-container-id-1 input.sk-toggleable__control:checked~label.sk-toggleable__label-arrow:before {\n",
       "  content: \"▾\";\n",
       "}\n",
       "\n",
       "/* Pipeline/ColumnTransformer-specific style */\n",
       "\n",
       "#sk-container-id-1 div.sk-label input.sk-toggleable__control:checked~label.sk-toggleable__label {\n",
       "  color: var(--sklearn-color-text);\n",
       "  background-color: var(--sklearn-color-unfitted-level-2);\n",
       "}\n",
       "\n",
       "#sk-container-id-1 div.sk-label.fitted input.sk-toggleable__control:checked~label.sk-toggleable__label {\n",
       "  background-color: var(--sklearn-color-fitted-level-2);\n",
       "}\n",
       "\n",
       "/* Estimator-specific style */\n",
       "\n",
       "/* Colorize estimator box */\n",
       "#sk-container-id-1 div.sk-estimator input.sk-toggleable__control:checked~label.sk-toggleable__label {\n",
       "  /* unfitted */\n",
       "  background-color: var(--sklearn-color-unfitted-level-2);\n",
       "}\n",
       "\n",
       "#sk-container-id-1 div.sk-estimator.fitted input.sk-toggleable__control:checked~label.sk-toggleable__label {\n",
       "  /* fitted */\n",
       "  background-color: var(--sklearn-color-fitted-level-2);\n",
       "}\n",
       "\n",
       "#sk-container-id-1 div.sk-label label.sk-toggleable__label,\n",
       "#sk-container-id-1 div.sk-label label {\n",
       "  /* The background is the default theme color */\n",
       "  color: var(--sklearn-color-text-on-default-background);\n",
       "}\n",
       "\n",
       "/* On hover, darken the color of the background */\n",
       "#sk-container-id-1 div.sk-label:hover label.sk-toggleable__label {\n",
       "  color: var(--sklearn-color-text);\n",
       "  background-color: var(--sklearn-color-unfitted-level-2);\n",
       "}\n",
       "\n",
       "/* Label box, darken color on hover, fitted */\n",
       "#sk-container-id-1 div.sk-label.fitted:hover label.sk-toggleable__label.fitted {\n",
       "  color: var(--sklearn-color-text);\n",
       "  background-color: var(--sklearn-color-fitted-level-2);\n",
       "}\n",
       "\n",
       "/* Estimator label */\n",
       "\n",
       "#sk-container-id-1 div.sk-label label {\n",
       "  font-family: monospace;\n",
       "  font-weight: bold;\n",
       "  display: inline-block;\n",
       "  line-height: 1.2em;\n",
       "}\n",
       "\n",
       "#sk-container-id-1 div.sk-label-container {\n",
       "  text-align: center;\n",
       "}\n",
       "\n",
       "/* Estimator-specific */\n",
       "#sk-container-id-1 div.sk-estimator {\n",
       "  font-family: monospace;\n",
       "  border: 1px dotted var(--sklearn-color-border-box);\n",
       "  border-radius: 0.25em;\n",
       "  box-sizing: border-box;\n",
       "  margin-bottom: 0.5em;\n",
       "  /* unfitted */\n",
       "  background-color: var(--sklearn-color-unfitted-level-0);\n",
       "}\n",
       "\n",
       "#sk-container-id-1 div.sk-estimator.fitted {\n",
       "  /* fitted */\n",
       "  background-color: var(--sklearn-color-fitted-level-0);\n",
       "}\n",
       "\n",
       "/* on hover */\n",
       "#sk-container-id-1 div.sk-estimator:hover {\n",
       "  /* unfitted */\n",
       "  background-color: var(--sklearn-color-unfitted-level-2);\n",
       "}\n",
       "\n",
       "#sk-container-id-1 div.sk-estimator.fitted:hover {\n",
       "  /* fitted */\n",
       "  background-color: var(--sklearn-color-fitted-level-2);\n",
       "}\n",
       "\n",
       "/* Specification for estimator info (e.g. \"i\" and \"?\") */\n",
       "\n",
       "/* Common style for \"i\" and \"?\" */\n",
       "\n",
       ".sk-estimator-doc-link,\n",
       "a:link.sk-estimator-doc-link,\n",
       "a:visited.sk-estimator-doc-link {\n",
       "  float: right;\n",
       "  font-size: smaller;\n",
       "  line-height: 1em;\n",
       "  font-family: monospace;\n",
       "  background-color: var(--sklearn-color-background);\n",
       "  border-radius: 1em;\n",
       "  height: 1em;\n",
       "  width: 1em;\n",
       "  text-decoration: none !important;\n",
       "  margin-left: 0.5em;\n",
       "  text-align: center;\n",
       "  /* unfitted */\n",
       "  border: var(--sklearn-color-unfitted-level-1) 1pt solid;\n",
       "  color: var(--sklearn-color-unfitted-level-1);\n",
       "}\n",
       "\n",
       ".sk-estimator-doc-link.fitted,\n",
       "a:link.sk-estimator-doc-link.fitted,\n",
       "a:visited.sk-estimator-doc-link.fitted {\n",
       "  /* fitted */\n",
       "  border: var(--sklearn-color-fitted-level-1) 1pt solid;\n",
       "  color: var(--sklearn-color-fitted-level-1);\n",
       "}\n",
       "\n",
       "/* On hover */\n",
       "div.sk-estimator:hover .sk-estimator-doc-link:hover,\n",
       ".sk-estimator-doc-link:hover,\n",
       "div.sk-label-container:hover .sk-estimator-doc-link:hover,\n",
       ".sk-estimator-doc-link:hover {\n",
       "  /* unfitted */\n",
       "  background-color: var(--sklearn-color-unfitted-level-3);\n",
       "  color: var(--sklearn-color-background);\n",
       "  text-decoration: none;\n",
       "}\n",
       "\n",
       "div.sk-estimator.fitted:hover .sk-estimator-doc-link.fitted:hover,\n",
       ".sk-estimator-doc-link.fitted:hover,\n",
       "div.sk-label-container:hover .sk-estimator-doc-link.fitted:hover,\n",
       ".sk-estimator-doc-link.fitted:hover {\n",
       "  /* fitted */\n",
       "  background-color: var(--sklearn-color-fitted-level-3);\n",
       "  color: var(--sklearn-color-background);\n",
       "  text-decoration: none;\n",
       "}\n",
       "\n",
       "/* Span, style for the box shown on hovering the info icon */\n",
       ".sk-estimator-doc-link span {\n",
       "  display: none;\n",
       "  z-index: 9999;\n",
       "  position: relative;\n",
       "  font-weight: normal;\n",
       "  right: .2ex;\n",
       "  padding: .5ex;\n",
       "  margin: .5ex;\n",
       "  width: min-content;\n",
       "  min-width: 20ex;\n",
       "  max-width: 50ex;\n",
       "  color: var(--sklearn-color-text);\n",
       "  box-shadow: 2pt 2pt 4pt #999;\n",
       "  /* unfitted */\n",
       "  background: var(--sklearn-color-unfitted-level-0);\n",
       "  border: .5pt solid var(--sklearn-color-unfitted-level-3);\n",
       "}\n",
       "\n",
       ".sk-estimator-doc-link.fitted span {\n",
       "  /* fitted */\n",
       "  background: var(--sklearn-color-fitted-level-0);\n",
       "  border: var(--sklearn-color-fitted-level-3);\n",
       "}\n",
       "\n",
       ".sk-estimator-doc-link:hover span {\n",
       "  display: block;\n",
       "}\n",
       "\n",
       "/* \"?\"-specific style due to the `<a>` HTML tag */\n",
       "\n",
       "#sk-container-id-1 a.estimator_doc_link {\n",
       "  float: right;\n",
       "  font-size: 1rem;\n",
       "  line-height: 1em;\n",
       "  font-family: monospace;\n",
       "  background-color: var(--sklearn-color-background);\n",
       "  border-radius: 1rem;\n",
       "  height: 1rem;\n",
       "  width: 1rem;\n",
       "  text-decoration: none;\n",
       "  /* unfitted */\n",
       "  color: var(--sklearn-color-unfitted-level-1);\n",
       "  border: var(--sklearn-color-unfitted-level-1) 1pt solid;\n",
       "}\n",
       "\n",
       "#sk-container-id-1 a.estimator_doc_link.fitted {\n",
       "  /* fitted */\n",
       "  border: var(--sklearn-color-fitted-level-1) 1pt solid;\n",
       "  color: var(--sklearn-color-fitted-level-1);\n",
       "}\n",
       "\n",
       "/* On hover */\n",
       "#sk-container-id-1 a.estimator_doc_link:hover {\n",
       "  /* unfitted */\n",
       "  background-color: var(--sklearn-color-unfitted-level-3);\n",
       "  color: var(--sklearn-color-background);\n",
       "  text-decoration: none;\n",
       "}\n",
       "\n",
       "#sk-container-id-1 a.estimator_doc_link.fitted:hover {\n",
       "  /* fitted */\n",
       "  background-color: var(--sklearn-color-fitted-level-3);\n",
       "}\n",
       "</style><div id=\"sk-container-id-1\" class=\"sk-top-container\"><div class=\"sk-text-repr-fallback\"><pre>LogisticRegression(max_iter=500, n_jobs=-1, random_state=39)</pre><b>In a Jupyter environment, please rerun this cell to show the HTML representation or trust the notebook. <br />On GitHub, the HTML representation is unable to render, please try loading this page with nbviewer.org.</b></div><div class=\"sk-container\" hidden><div class=\"sk-item\"><div class=\"sk-estimator fitted sk-toggleable\"><input class=\"sk-toggleable__control sk-hidden--visually\" id=\"sk-estimator-id-1\" type=\"checkbox\" checked><label for=\"sk-estimator-id-1\" class=\"sk-toggleable__label fitted sk-toggleable__label-arrow\"><div><div>LogisticRegression</div></div><div><a class=\"sk-estimator-doc-link fitted\" rel=\"noreferrer\" target=\"_blank\" href=\"https://scikit-learn.org/1.6/modules/generated/sklearn.linear_model.LogisticRegression.html\">?<span>Documentation for LogisticRegression</span></a><span class=\"sk-estimator-doc-link fitted\">i<span>Fitted</span></span></div></label><div class=\"sk-toggleable__content fitted\"><pre>LogisticRegression(max_iter=500, n_jobs=-1, random_state=39)</pre></div> </div></div></div></div>"
      ],
      "text/plain": [
       "LogisticRegression(max_iter=500, n_jobs=-1, random_state=39)"
      ]
     },
     "execution_count": 48,
     "metadata": {},
     "output_type": "execute_result"
    }
   ],
   "source": [
    "model = LogisticRegression(solver=\"lbfgs\", max_iter=500, random_state=39, n_jobs=-1)\n",
    "model.fit(X_train, y_train)"
   ]
  },
  {
   "cell_type": "code",
   "execution_count": 49,
   "id": "54cc58b4-9c87-4802-b861-004856327833",
   "metadata": {},
   "outputs": [
    {
     "data": {
      "text/plain": [
       "array([0.09791165, 0.02415102, 0.15351501, ..., 0.10351844, 0.01690121,\n",
       "       0.93983964], shape=(1535,))"
      ]
     },
     "execution_count": 49,
     "metadata": {},
     "output_type": "execute_result"
    }
   ],
   "source": [
    "y_pred = model.predict_proba(X_val)[:, 1]\n",
    "y_pred"
   ]
  },
  {
   "cell_type": "code",
   "execution_count": 50,
   "id": "c29c131c-2700-46b1-b7fb-5826b24e543c",
   "metadata": {},
   "outputs": [
    {
     "data": {
      "text/plain": [
       "np.float64(0.7438569424964936)"
      ]
     },
     "execution_count": 50,
     "metadata": {},
     "output_type": "execute_result"
    }
   ],
   "source": [
    "roc_auc_score(y_val, y_pred)"
   ]
  },
  {
   "cell_type": "markdown",
   "id": "a59a4347-b427-4ad3-9d0b-d10ceca597eb",
   "metadata": {},
   "source": [
    "### Tuning the C-value"
   ]
  },
  {
   "cell_type": "code",
   "execution_count": 51,
   "id": "16573b07-a017-4d53-995b-3ddb95ce9a9c",
   "metadata": {},
   "outputs": [
    {
     "name": "stdout",
     "output_type": "stream",
     "text": [
      "C = 0.001:\t roc_auc_score = 0.7312575970079476\n",
      "C = 0.01:\t roc_auc_score = 0.7522861150070127\n",
      "C = 0.1:\t roc_auc_score = 0.7451051893408135\n",
      "C = 1:\t roc_auc_score = 0.7438569424964936\n",
      "C = 10:\t roc_auc_score = 0.7435857877512857\n",
      "C = 100:\t roc_auc_score = 0.7437821411874709\n"
     ]
    }
   ],
   "source": [
    "scores = {}\n",
    "for C in [0.001, 0.01, 0.1, 1, 10, 100]:\n",
    "    model = LogisticRegression(\n",
    "        solver='lbfgs', C=C, max_iter=500, random_state=39, n_jobs=-1)\n",
    "    model.fit(X_train, y_train)\n",
    "    y_pred = model.predict_proba(X_val)[:, 1]\n",
    "    auc_score = roc_auc_score(y_val, y_pred)\n",
    "    scores[C] = round(auc_score, 3)\n",
    "    print(f\"C = {C}:\\t roc_auc_score = {auc_score}\")"
   ]
  },
  {
   "cell_type": "code",
   "execution_count": 52,
   "id": "71fbb457-b85b-4b17-8575-3134b1aa5f6d",
   "metadata": {},
   "outputs": [
    {
     "data": {
      "text/plain": [
       "{0.001: np.float64(0.731),\n",
       " 0.01: np.float64(0.752),\n",
       " 0.1: np.float64(0.745),\n",
       " 1: np.float64(0.744),\n",
       " 10: np.float64(0.744),\n",
       " 100: np.float64(0.744)}"
      ]
     },
     "execution_count": 52,
     "metadata": {},
     "output_type": "execute_result"
    }
   ],
   "source": [
    "scores"
   ]
  },
  {
   "cell_type": "code",
   "execution_count": 53,
   "id": "06419f84-9ef2-4c41-b5f2-d7f8bb114e3e",
   "metadata": {},
   "outputs": [
    {
     "name": "stdout",
     "output_type": "stream",
     "text": [
      "The best `C` is 0.01.\n"
     ]
    }
   ],
   "source": [
    "print(f\"The best `C` is {max(scores, key = scores.get)}.\")"
   ]
  },
  {
   "cell_type": "markdown",
   "id": "bbda6725-4317-47ff-b9f3-45251bcb5b53",
   "metadata": {},
   "source": [
    "## Decision trees\n",
    "- Training a decision tree\n",
    "- Decision trees parameter tuning"
   ]
  },
  {
   "cell_type": "code",
   "execution_count": 54,
   "id": "ad7583cd-8477-4f55-b6b6-3b99fa9d46b9",
   "metadata": {},
   "outputs": [
    {
     "data": {
      "text/plain": [
       "np.float64(0.9171458625525947)"
      ]
     },
     "execution_count": 54,
     "metadata": {},
     "output_type": "execute_result"
    }
   ],
   "source": [
    "dt = DecisionTreeClassifier()\n",
    "dt.fit(X_train, y_train)\n",
    "y_pred = dt.predict_proba(X_val)[:, 1]\n",
    "roc_auc_score(y_val, y_pred)"
   ]
  },
  {
   "cell_type": "markdown",
   "id": "a0f5f8b0-d80f-4175-9f17-b675ab61da54",
   "metadata": {},
   "source": [
    "### Tuning *max_depth*"
   ]
  },
  {
   "cell_type": "code",
   "execution_count": 55,
   "id": "dac6dea7-6bda-4e5b-83e5-26f6d6ea5936",
   "metadata": {},
   "outputs": [
    {
     "name": "stdout",
     "output_type": "stream",
     "text": [
      "   1 -> 0.699\n",
      "   2 -> 0.822\n",
      "   3 -> 0.873\n",
      "   4 -> 0.889\n",
      "   5 -> 0.886\n",
      "   6 -> 0.889\n",
      "  10 -> 0.914\n",
      "  15 -> 0.896\n",
      "  20 -> 0.918\n",
      "None -> 0.918\n"
     ]
    }
   ],
   "source": [
    "depths = [1, 2, 3, 4, 5, 6, 10, 15, 20, None]\n",
    "for depth in depths:\n",
    "    dt = DecisionTreeClassifier(max_depth=depth, random_state=39)\n",
    "    dt.fit(X_train, y_train)\n",
    "    y_pred = dt.predict_proba(X_val)[:, 1]\n",
    "    auc = roc_auc_score(y_val, y_pred)\n",
    "    print('%4s -> %.3f' % (depth, auc))"
   ]
  },
  {
   "cell_type": "markdown",
   "id": "dcabbe89-b75a-4b9d-ac87-75ae7ada4b79",
   "metadata": {},
   "source": [
    "### Tuning *min_samples_leaf*"
   ]
  },
  {
   "cell_type": "code",
   "execution_count": 56,
   "id": "559b561b-eda6-444a-875a-42f254d7e5ef",
   "metadata": {},
   "outputs": [],
   "source": [
    "scores = []\n",
    "\n",
    "for depth in [15, 20]:\n",
    "    for s in [1, 5, 10, 15, 20, 50, 100, 200, 500]:\n",
    "        dt = DecisionTreeClassifier(max_depth=depth, min_samples_leaf=s, random_state=39)\n",
    "        dt.fit(X_train, y_train)\n",
    "\n",
    "        y_pred = dt.predict_proba(X_val)[:, 1]\n",
    "        auc = roc_auc_score(y_val, y_pred)\n",
    "\n",
    "        scores.append((depth, s, auc))"
   ]
  },
  {
   "cell_type": "code",
   "execution_count": 57,
   "id": "87de67b2-8c24-4977-8767-4cdeca7cfaf9",
   "metadata": {},
   "outputs": [],
   "source": [
    "columns = ['max_depth', 'min_samples_leaf', 'auc']\n",
    "df_scores = pd.DataFrame(scores, columns=columns)"
   ]
  },
  {
   "cell_type": "code",
   "execution_count": 58,
   "id": "d768cb08-ad79-4f86-81dd-fb960a39d8e0",
   "metadata": {},
   "outputs": [
    {
     "data": {
      "text/html": [
       "<div>\n",
       "<style scoped>\n",
       "    .dataframe tbody tr th:only-of-type {\n",
       "        vertical-align: middle;\n",
       "    }\n",
       "\n",
       "    .dataframe tbody tr th {\n",
       "        vertical-align: top;\n",
       "    }\n",
       "\n",
       "    .dataframe thead tr th {\n",
       "        text-align: left;\n",
       "    }\n",
       "\n",
       "    .dataframe thead tr:last-of-type th {\n",
       "        text-align: right;\n",
       "    }\n",
       "</style>\n",
       "<table border=\"1\" class=\"dataframe\">\n",
       "  <thead>\n",
       "    <tr>\n",
       "      <th></th>\n",
       "      <th colspan=\"2\" halign=\"left\">auc</th>\n",
       "    </tr>\n",
       "    <tr>\n",
       "      <th>max_depth</th>\n",
       "      <th>15</th>\n",
       "      <th>20</th>\n",
       "    </tr>\n",
       "    <tr>\n",
       "      <th>min_samples_leaf</th>\n",
       "      <th></th>\n",
       "      <th></th>\n",
       "    </tr>\n",
       "  </thead>\n",
       "  <tbody>\n",
       "    <tr>\n",
       "      <th>1</th>\n",
       "      <td>0.896</td>\n",
       "      <td>0.918</td>\n",
       "    </tr>\n",
       "    <tr>\n",
       "      <th>5</th>\n",
       "      <td>0.915</td>\n",
       "      <td>0.935</td>\n",
       "    </tr>\n",
       "    <tr>\n",
       "      <th>10</th>\n",
       "      <td>0.931</td>\n",
       "      <td>0.943</td>\n",
       "    </tr>\n",
       "    <tr>\n",
       "      <th>15</th>\n",
       "      <td>0.947</td>\n",
       "      <td>0.954</td>\n",
       "    </tr>\n",
       "    <tr>\n",
       "      <th>20</th>\n",
       "      <td>0.941</td>\n",
       "      <td>0.951</td>\n",
       "    </tr>\n",
       "    <tr>\n",
       "      <th>50</th>\n",
       "      <td>0.963</td>\n",
       "      <td>0.963</td>\n",
       "    </tr>\n",
       "    <tr>\n",
       "      <th>100</th>\n",
       "      <td>0.967</td>\n",
       "      <td>0.967</td>\n",
       "    </tr>\n",
       "    <tr>\n",
       "      <th>200</th>\n",
       "      <td>0.960</td>\n",
       "      <td>0.960</td>\n",
       "    </tr>\n",
       "    <tr>\n",
       "      <th>500</th>\n",
       "      <td>0.890</td>\n",
       "      <td>0.890</td>\n",
       "    </tr>\n",
       "  </tbody>\n",
       "</table>\n",
       "</div>"
      ],
      "text/plain": [
       "                    auc       \n",
       "max_depth            15     20\n",
       "min_samples_leaf              \n",
       "1                 0.896  0.918\n",
       "5                 0.915  0.935\n",
       "10                0.931  0.943\n",
       "15                0.947  0.954\n",
       "20                0.941  0.951\n",
       "50                0.963  0.963\n",
       "100               0.967  0.967\n",
       "200               0.960  0.960\n",
       "500               0.890  0.890"
      ]
     },
     "execution_count": 58,
     "metadata": {},
     "output_type": "execute_result"
    }
   ],
   "source": [
    "df_scores_pivot = df_scores.pivot(index='min_samples_leaf', columns=[\n",
    "                                  'max_depth'], values=['auc'])\n",
    "df_scores_pivot.round(3)"
   ]
  },
  {
   "cell_type": "code",
   "execution_count": 59,
   "id": "f7ffa6db-9278-4161-99ab-763dbceef546",
   "metadata": {},
   "outputs": [
    {
     "data": {
      "text/plain": [
       "<Axes: xlabel='None-max_depth', ylabel='min_samples_leaf'>"
      ]
     },
     "execution_count": 59,
     "metadata": {},
     "output_type": "execute_result"
    },
    {
     "data": {
      "image/png": "[encoded data removed]",
      "text/plain": [
       "<Figure size 640x480 with 2 Axes>"
      ]
     },
     "metadata": {},
     "output_type": "display_data"
    }
   ],
   "source": [
    "sns.heatmap(df_scores_pivot, annot=True, fmt=\".3f\")"
   ]
  },
  {
   "cell_type": "markdown",
   "id": "d9d996e3-26bf-4da3-9f8f-c43c671b6b5b",
   "metadata": {},
   "source": [
    "The best combination needs **max_depth = 20** and **min_samples_leaf = 100** for **AUC = 0.967**"
   ]
  },
  {
   "cell_type": "code",
   "execution_count": 60,
   "id": "75d0f4df-a6b7-4326-885a-a4ecd484b32c",
   "metadata": {},
   "outputs": [
    {
     "data": {
      "text/html": [
       "<style>#sk-container-id-2 {\n",
       "  /* Definition of color scheme common for light and dark mode */\n",
       "  --sklearn-color-text: #000;\n",
       "  --sklearn-color-text-muted: #666;\n",
       "  --sklearn-color-line: gray;\n",
       "  /* Definition of color scheme for unfitted estimators */\n",
       "  --sklearn-color-unfitted-level-0: #fff5e6;\n",
       "  --sklearn-color-unfitted-level-1: #f6e4d2;\n",
       "  --sklearn-color-unfitted-level-2: #ffe0b3;\n",
       "  --sklearn-color-unfitted-level-3: chocolate;\n",
       "  /* Definition of color scheme for fitted estimators */\n",
       "  --sklearn-color-fitted-level-0: #f0f8ff;\n",
       "  --sklearn-color-fitted-level-1: #d4ebff;\n",
       "  --sklearn-color-fitted-level-2: #b3dbfd;\n",
       "  --sklearn-color-fitted-level-3: cornflowerblue;\n",
       "\n",
       "  /* Specific color for light theme */\n",
       "  --sklearn-color-text-on-default-background: var(--sg-text-color, var(--theme-code-foreground, var(--jp-content-font-color1, black)));\n",
       "  --sklearn-color-background: var(--sg-background-color, var(--theme-background, var(--jp-layout-color0, white)));\n",
       "  --sklearn-color-border-box: var(--sg-text-color, var(--theme-code-foreground, var(--jp-content-font-color1, black)));\n",
       "  --sklearn-color-icon: #696969;\n",
       "\n",
       "  @media (prefers-color-scheme: dark) {\n",
       "    /* Redefinition of color scheme for dark theme */\n",
       "    --sklearn-color-text-on-default-background: var(--sg-text-color, var(--theme-code-foreground, var(--jp-content-font-color1, white)));\n",
       "    --sklearn-color-background: var(--sg-background-color, var(--theme-background, var(--jp-layout-color0, #111)));\n",
       "    --sklearn-color-border-box: var(--sg-text-color, var(--theme-code-foreground, var(--jp-content-font-color1, white)));\n",
       "    --sklearn-color-icon: #878787;\n",
       "  }\n",
       "}\n",
       "\n",
       "#sk-container-id-2 {\n",
       "  color: var(--sklearn-color-text);\n",
       "}\n",
       "\n",
       "#sk-container-id-2 pre {\n",
       "  padding: 0;\n",
       "}\n",
       "\n",
       "#sk-container-id-2 input.sk-hidden--visually {\n",
       "  border: 0;\n",
       "  clip: rect(1px 1px 1px 1px);\n",
       "  clip: rect(1px, 1px, 1px, 1px);\n",
       "  height: 1px;\n",
       "  margin: -1px;\n",
       "  overflow: hidden;\n",
       "  padding: 0;\n",
       "  position: absolute;\n",
       "  width: 1px;\n",
       "}\n",
       "\n",
       "#sk-container-id-2 div.sk-dashed-wrapped {\n",
       "  border: 1px dashed var(--sklearn-color-line);\n",
       "  margin: 0 0.4em 0.5em 0.4em;\n",
       "  box-sizing: border-box;\n",
       "  padding-bottom: 0.4em;\n",
       "  background-color: var(--sklearn-color-background);\n",
       "}\n",
       "\n",
       "#sk-container-id-2 div.sk-container {\n",
       "  /* jupyter's `normalize.less` sets `[hidden] { display: none; }`\n",
       "     but bootstrap.min.css set `[hidden] { display: none !important; }`\n",
       "     so we also need the `!important` here to be able to override the\n",
       "     default hidden behavior on the sphinx rendered scikit-learn.org.\n",
       "     See: https://github.com/scikit-learn/scikit-learn/issues/21755 */\n",
       "  display: inline-block !important;\n",
       "  position: relative;\n",
       "}\n",
       "\n",
       "#sk-container-id-2 div.sk-text-repr-fallback {\n",
       "  display: none;\n",
       "}\n",
       "\n",
       "div.sk-parallel-item,\n",
       "div.sk-serial,\n",
       "div.sk-item {\n",
       "  /* draw centered vertical line to link estimators */\n",
       "  background-image: linear-gradient(var(--sklearn-color-text-on-default-background), var(--sklearn-color-text-on-default-background));\n",
       "  background-size: 2px 100%;\n",
       "  background-repeat: no-repeat;\n",
       "  background-position: center center;\n",
       "}\n",
       "\n",
       "/* Parallel-specific style estimator block */\n",
       "\n",
       "#sk-container-id-2 div.sk-parallel-item::after {\n",
       "  content: \"\";\n",
       "  width: 100%;\n",
       "  border-bottom: 2px solid var(--sklearn-color-text-on-default-background);\n",
       "  flex-grow: 1;\n",
       "}\n",
       "\n",
       "#sk-container-id-2 div.sk-parallel {\n",
       "  display: flex;\n",
       "  align-items: stretch;\n",
       "  justify-content: center;\n",
       "  background-color: var(--sklearn-color-background);\n",
       "  position: relative;\n",
       "}\n",
       "\n",
       "#sk-container-id-2 div.sk-parallel-item {\n",
       "  display: flex;\n",
       "  flex-direction: column;\n",
       "}\n",
       "\n",
       "#sk-container-id-2 div.sk-parallel-item:first-child::after {\n",
       "  align-self: flex-end;\n",
       "  width: 50%;\n",
       "}\n",
       "\n",
       "#sk-container-id-2 div.sk-parallel-item:last-child::after {\n",
       "  align-self: flex-start;\n",
       "  width: 50%;\n",
       "}\n",
       "\n",
       "#sk-container-id-2 div.sk-parallel-item:only-child::after {\n",
       "  width: 0;\n",
       "}\n",
       "\n",
       "/* Serial-specific style estimator block */\n",
       "\n",
       "#sk-container-id-2 div.sk-serial {\n",
       "  display: flex;\n",
       "  flex-direction: column;\n",
       "  align-items: center;\n",
       "  background-color: var(--sklearn-color-background);\n",
       "  padding-right: 1em;\n",
       "  padding-left: 1em;\n",
       "}\n",
       "\n",
       "\n",
       "/* Toggleable style: style used for estimator/Pipeline/ColumnTransformer box that is\n",
       "clickable and can be expanded/collapsed.\n",
       "- Pipeline and ColumnTransformer use this feature and define the default style\n",
       "- Estimators will overwrite some part of the style using the `sk-estimator` class\n",
       "*/\n",
       "\n",
       "/* Pipeline and ColumnTransformer style (default) */\n",
       "\n",
       "#sk-container-id-2 div.sk-toggleable {\n",
       "  /* Default theme specific background. It is overwritten whether we have a\n",
       "  specific estimator or a Pipeline/ColumnTransformer */\n",
       "  background-color: var(--sklearn-color-background);\n",
       "}\n",
       "\n",
       "/* Toggleable label */\n",
       "#sk-container-id-2 label.sk-toggleable__label {\n",
       "  cursor: pointer;\n",
       "  display: flex;\n",
       "  width: 100%;\n",
       "  margin-bottom: 0;\n",
       "  padding: 0.5em;\n",
       "  box-sizing: border-box;\n",
       "  text-align: center;\n",
       "  align-items: start;\n",
       "  justify-content: space-between;\n",
       "  gap: 0.5em;\n",
       "}\n",
       "\n",
       "#sk-container-id-2 label.sk-toggleable__label .caption {\n",
       "  font-size: 0.6rem;\n",
       "  font-weight: lighter;\n",
       "  color: var(--sklearn-color-text-muted);\n",
       "}\n",
       "\n",
       "#sk-container-id-2 label.sk-toggleable__label-arrow:before {\n",
       "  /* Arrow on the left of the label */\n",
       "  content: \"▸\";\n",
       "  float: left;\n",
       "  margin-right: 0.25em;\n",
       "  color: var(--sklearn-color-icon);\n",
       "}\n",
       "\n",
       "#sk-container-id-2 label.sk-toggleable__label-arrow:hover:before {\n",
       "  color: var(--sklearn-color-text);\n",
       "}\n",
       "\n",
       "/* Toggleable content - dropdown */\n",
       "\n",
       "#sk-container-id-2 div.sk-toggleable__content {\n",
       "  max-height: 0;\n",
       "  max-width: 0;\n",
       "  overflow: hidden;\n",
       "  text-align: left;\n",
       "  /* unfitted */\n",
       "  background-color: var(--sklearn-color-unfitted-level-0);\n",
       "}\n",
       "\n",
       "#sk-container-id-2 div.sk-toggleable__content.fitted {\n",
       "  /* fitted */\n",
       "  background-color: var(--sklearn-color-fitted-level-0);\n",
       "}\n",
       "\n",
       "#sk-container-id-2 div.sk-toggleable__content pre {\n",
       "  margin: 0.2em;\n",
       "  border-radius: 0.25em;\n",
       "  color: var(--sklearn-color-text);\n",
       "  /* unfitted */\n",
       "  background-color: var(--sklearn-color-unfitted-level-0);\n",
       "}\n",
       "\n",
       "#sk-container-id-2 div.sk-toggleable__content.fitted pre {\n",
       "  /* unfitted */\n",
       "  background-color: var(--sklearn-color-fitted-level-0);\n",
       "}\n",
       "\n",
       "#sk-container-id-2 input.sk-toggleable__control:checked~div.sk-toggleable__content {\n",
       "  /* Expand drop-down */\n",
       "  max-height: 200px;\n",
       "  max-width: 100%;\n",
       "  overflow: auto;\n",
       "}\n",
       "\n",
       "#sk-container-id-2 input.sk-toggleable__control:checked~label.sk-toggleable__label-arrow:before {\n",
       "  content: \"▾\";\n",
       "}\n",
       "\n",
       "/* Pipeline/ColumnTransformer-specific style */\n",
       "\n",
       "#sk-container-id-2 div.sk-label input.sk-toggleable__control:checked~label.sk-toggleable__label {\n",
       "  color: var(--sklearn-color-text);\n",
       "  background-color: var(--sklearn-color-unfitted-level-2);\n",
       "}\n",
       "\n",
       "#sk-container-id-2 div.sk-label.fitted input.sk-toggleable__control:checked~label.sk-toggleable__label {\n",
       "  background-color: var(--sklearn-color-fitted-level-2);\n",
       "}\n",
       "\n",
       "/* Estimator-specific style */\n",
       "\n",
       "/* Colorize estimator box */\n",
       "#sk-container-id-2 div.sk-estimator input.sk-toggleable__control:checked~label.sk-toggleable__label {\n",
       "  /* unfitted */\n",
       "  background-color: var(--sklearn-color-unfitted-level-2);\n",
       "}\n",
       "\n",
       "#sk-container-id-2 div.sk-estimator.fitted input.sk-toggleable__control:checked~label.sk-toggleable__label {\n",
       "  /* fitted */\n",
       "  background-color: var(--sklearn-color-fitted-level-2);\n",
       "}\n",
       "\n",
       "#sk-container-id-2 div.sk-label label.sk-toggleable__label,\n",
       "#sk-container-id-2 div.sk-label label {\n",
       "  /* The background is the default theme color */\n",
       "  color: var(--sklearn-color-text-on-default-background);\n",
       "}\n",
       "\n",
       "/* On hover, darken the color of the background */\n",
       "#sk-container-id-2 div.sk-label:hover label.sk-toggleable__label {\n",
       "  color: var(--sklearn-color-text);\n",
       "  background-color: var(--sklearn-color-unfitted-level-2);\n",
       "}\n",
       "\n",
       "/* Label box, darken color on hover, fitted */\n",
       "#sk-container-id-2 div.sk-label.fitted:hover label.sk-toggleable__label.fitted {\n",
       "  color: var(--sklearn-color-text);\n",
       "  background-color: var(--sklearn-color-fitted-level-2);\n",
       "}\n",
       "\n",
       "/* Estimator label */\n",
       "\n",
       "#sk-container-id-2 div.sk-label label {\n",
       "  font-family: monospace;\n",
       "  font-weight: bold;\n",
       "  display: inline-block;\n",
       "  line-height: 1.2em;\n",
       "}\n",
       "\n",
       "#sk-container-id-2 div.sk-label-container {\n",
       "  text-align: center;\n",
       "}\n",
       "\n",
       "/* Estimator-specific */\n",
       "#sk-container-id-2 div.sk-estimator {\n",
       "  font-family: monospace;\n",
       "  border: 1px dotted var(--sklearn-color-border-box);\n",
       "  border-radius: 0.25em;\n",
       "  box-sizing: border-box;\n",
       "  margin-bottom: 0.5em;\n",
       "  /* unfitted */\n",
       "  background-color: var(--sklearn-color-unfitted-level-0);\n",
       "}\n",
       "\n",
       "#sk-container-id-2 div.sk-estimator.fitted {\n",
       "  /* fitted */\n",
       "  background-color: var(--sklearn-color-fitted-level-0);\n",
       "}\n",
       "\n",
       "/* on hover */\n",
       "#sk-container-id-2 div.sk-estimator:hover {\n",
       "  /* unfitted */\n",
       "  background-color: var(--sklearn-color-unfitted-level-2);\n",
       "}\n",
       "\n",
       "#sk-container-id-2 div.sk-estimator.fitted:hover {\n",
       "  /* fitted */\n",
       "  background-color: var(--sklearn-color-fitted-level-2);\n",
       "}\n",
       "\n",
       "/* Specification for estimator info (e.g. \"i\" and \"?\") */\n",
       "\n",
       "/* Common style for \"i\" and \"?\" */\n",
       "\n",
       ".sk-estimator-doc-link,\n",
       "a:link.sk-estimator-doc-link,\n",
       "a:visited.sk-estimator-doc-link {\n",
       "  float: right;\n",
       "  font-size: smaller;\n",
       "  line-height: 1em;\n",
       "  font-family: monospace;\n",
       "  background-color: var(--sklearn-color-background);\n",
       "  border-radius: 1em;\n",
       "  height: 1em;\n",
       "  width: 1em;\n",
       "  text-decoration: none !important;\n",
       "  margin-left: 0.5em;\n",
       "  text-align: center;\n",
       "  /* unfitted */\n",
       "  border: var(--sklearn-color-unfitted-level-1) 1pt solid;\n",
       "  color: var(--sklearn-color-unfitted-level-1);\n",
       "}\n",
       "\n",
       ".sk-estimator-doc-link.fitted,\n",
       "a:link.sk-estimator-doc-link.fitted,\n",
       "a:visited.sk-estimator-doc-link.fitted {\n",
       "  /* fitted */\n",
       "  border: var(--sklearn-color-fitted-level-1) 1pt solid;\n",
       "  color: var(--sklearn-color-fitted-level-1);\n",
       "}\n",
       "\n",
       "/* On hover */\n",
       "div.sk-estimator:hover .sk-estimator-doc-link:hover,\n",
       ".sk-estimator-doc-link:hover,\n",
       "div.sk-label-container:hover .sk-estimator-doc-link:hover,\n",
       ".sk-estimator-doc-link:hover {\n",
       "  /* unfitted */\n",
       "  background-color: var(--sklearn-color-unfitted-level-3);\n",
       "  color: var(--sklearn-color-background);\n",
       "  text-decoration: none;\n",
       "}\n",
       "\n",
       "div.sk-estimator.fitted:hover .sk-estimator-doc-link.fitted:hover,\n",
       ".sk-estimator-doc-link.fitted:hover,\n",
       "div.sk-label-container:hover .sk-estimator-doc-link.fitted:hover,\n",
       ".sk-estimator-doc-link.fitted:hover {\n",
       "  /* fitted */\n",
       "  background-color: var(--sklearn-color-fitted-level-3);\n",
       "  color: var(--sklearn-color-background);\n",
       "  text-decoration: none;\n",
       "}\n",
       "\n",
       "/* Span, style for the box shown on hovering the info icon */\n",
       ".sk-estimator-doc-link span {\n",
       "  display: none;\n",
       "  z-index: 9999;\n",
       "  position: relative;\n",
       "  font-weight: normal;\n",
       "  right: .2ex;\n",
       "  padding: .5ex;\n",
       "  margin: .5ex;\n",
       "  width: min-content;\n",
       "  min-width: 20ex;\n",
       "  max-width: 50ex;\n",
       "  color: var(--sklearn-color-text);\n",
       "  box-shadow: 2pt 2pt 4pt #999;\n",
       "  /* unfitted */\n",
       "  background: var(--sklearn-color-unfitted-level-0);\n",
       "  border: .5pt solid var(--sklearn-color-unfitted-level-3);\n",
       "}\n",
       "\n",
       ".sk-estimator-doc-link.fitted span {\n",
       "  /* fitted */\n",
       "  background: var(--sklearn-color-fitted-level-0);\n",
       "  border: var(--sklearn-color-fitted-level-3);\n",
       "}\n",
       "\n",
       ".sk-estimator-doc-link:hover span {\n",
       "  display: block;\n",
       "}\n",
       "\n",
       "/* \"?\"-specific style due to the `<a>` HTML tag */\n",
       "\n",
       "#sk-container-id-2 a.estimator_doc_link {\n",
       "  float: right;\n",
       "  font-size: 1rem;\n",
       "  line-height: 1em;\n",
       "  font-family: monospace;\n",
       "  background-color: var(--sklearn-color-background);\n",
       "  border-radius: 1rem;\n",
       "  height: 1rem;\n",
       "  width: 1rem;\n",
       "  text-decoration: none;\n",
       "  /* unfitted */\n",
       "  color: var(--sklearn-color-unfitted-level-1);\n",
       "  border: var(--sklearn-color-unfitted-level-1) 1pt solid;\n",
       "}\n",
       "\n",
       "#sk-container-id-2 a.estimator_doc_link.fitted {\n",
       "  /* fitted */\n",
       "  border: var(--sklearn-color-fitted-level-1) 1pt solid;\n",
       "  color: var(--sklearn-color-fitted-level-1);\n",
       "}\n",
       "\n",
       "/* On hover */\n",
       "#sk-container-id-2 a.estimator_doc_link:hover {\n",
       "  /* unfitted */\n",
       "  background-color: var(--sklearn-color-unfitted-level-3);\n",
       "  color: var(--sklearn-color-background);\n",
       "  text-decoration: none;\n",
       "}\n",
       "\n",
       "#sk-container-id-2 a.estimator_doc_link.fitted:hover {\n",
       "  /* fitted */\n",
       "  background-color: var(--sklearn-color-fitted-level-3);\n",
       "}\n",
       "</style><div id=\"sk-container-id-2\" class=\"sk-top-container\"><div class=\"sk-text-repr-fallback\"><pre>DecisionTreeClassifier(max_depth=20, min_samples_leaf=100, random_state=39)</pre><b>In a Jupyter environment, please rerun this cell to show the HTML representation or trust the notebook. <br />On GitHub, the HTML representation is unable to render, please try loading this page with nbviewer.org.</b></div><div class=\"sk-container\" hidden><div class=\"sk-item\"><div class=\"sk-estimator fitted sk-toggleable\"><input class=\"sk-toggleable__control sk-hidden--visually\" id=\"sk-estimator-id-2\" type=\"checkbox\" checked><label for=\"sk-estimator-id-2\" class=\"sk-toggleable__label fitted sk-toggleable__label-arrow\"><div><div>DecisionTreeClassifier</div></div><div><a class=\"sk-estimator-doc-link fitted\" rel=\"noreferrer\" target=\"_blank\" href=\"https://scikit-learn.org/1.6/modules/generated/sklearn.tree.DecisionTreeClassifier.html\">?<span>Documentation for DecisionTreeClassifier</span></a><span class=\"sk-estimator-doc-link fitted\">i<span>Fitted</span></span></div></label><div class=\"sk-toggleable__content fitted\"><pre>DecisionTreeClassifier(max_depth=20, min_samples_leaf=100, random_state=39)</pre></div> </div></div></div></div>"
      ],
      "text/plain": [
       "DecisionTreeClassifier(max_depth=20, min_samples_leaf=100, random_state=39)"
      ]
     },
     "execution_count": 60,
     "metadata": {},
     "output_type": "execute_result"
    }
   ],
   "source": [
    "dt = DecisionTreeClassifier(max_depth=20, min_samples_leaf=100, random_state=39)\n",
    "dt.fit(X_train, y_train)"
   ]
  },
  {
   "cell_type": "code",
   "execution_count": 61,
   "id": "b39c9447-fe88-4723-b155-1a9101e32f13",
   "metadata": {},
   "outputs": [
    {
     "name": "stdout",
     "output_type": "stream",
     "text": [
      "|--- vibration <= 2.89\n",
      "|   |--- temperature <= 98.32\n",
      "|   |   |--- temperature <= 45.01\n",
      "|   |   |   |--- class: 1\n",
      "|   |   |--- temperature >  45.01\n",
      "|   |   |   |--- pressure <= 52.35\n",
      "|   |   |   |   |--- pressure <= 18.77\n",
      "|   |   |   |   |   |--- class: 0\n",
      "|   |   |   |   |--- pressure >  18.77\n",
      "|   |   |   |   |   |--- humidity <= 67.73\n",
      "|   |   |   |   |   |   |--- temperature <= 86.97\n",
      "|   |   |   |   |   |   |   |--- humidity <= 30.89\n",
      "|   |   |   |   |   |   |   |   |--- class: 0\n",
      "|   |   |   |   |   |   |   |--- humidity >  30.89\n",
      "|   |   |   |   |   |   |   |   |--- vibration <= 2.28\n",
      "|   |   |   |   |   |   |   |   |   |--- temperature <= 51.74\n",
      "|   |   |   |   |   |   |   |   |   |   |--- class: 0\n",
      "|   |   |   |   |   |   |   |   |   |--- temperature >  51.74\n",
      "|   |   |   |   |   |   |   |   |   |   |--- pressure <= 21.90\n",
      "|   |   |   |   |   |   |   |   |   |   |   |--- class: 0\n",
      "|   |   |   |   |   |   |   |   |   |   |--- pressure >  21.90\n",
      "|   |   |   |   |   |   |   |   |   |   |   |--- truncated branch of depth 2\n",
      "|   |   |   |   |   |   |   |   |--- vibration >  2.28\n",
      "|   |   |   |   |   |   |   |   |   |--- humidity <= 50.01\n",
      "|   |   |   |   |   |   |   |   |   |   |--- class: 0\n",
      "|   |   |   |   |   |   |   |   |   |--- humidity >  50.01\n",
      "|   |   |   |   |   |   |   |   |   |   |--- class: 0\n",
      "|   |   |   |   |   |   |--- temperature >  86.97\n",
      "|   |   |   |   |   |   |   |--- class: 0\n",
      "|   |   |   |   |   |--- humidity >  67.73\n",
      "|   |   |   |   |   |   |--- class: 0\n",
      "|   |   |   |--- pressure >  52.35\n",
      "|   |   |   |   |--- class: 0\n",
      "|   |--- temperature >  98.32\n",
      "|   |   |--- class: 1\n",
      "|--- vibration >  2.89\n",
      "|   |--- vibration <= 3.92\n",
      "|   |   |--- class: 1\n",
      "|   |--- vibration >  3.92\n",
      "|   |   |--- class: 1\n",
      "\n"
     ]
    }
   ],
   "source": [
    "print(export_text(dt, feature_names=list(dv.get_feature_names_out())))"
   ]
  },
  {
   "cell_type": "markdown",
   "id": "29e19f98-3efa-4b7b-923f-34beb44751c0",
   "metadata": {},
   "source": [
    "## Ensembles and Random Forest\n",
    "- Training a Random Forest\n",
    "- Tuning Random Forest"
   ]
  },
  {
   "cell_type": "code",
   "execution_count": 62,
   "id": "ea8aef96-a98e-4b28-ab6d-ac49deb4dc1d",
   "metadata": {},
   "outputs": [
    {
     "name": "stdout",
     "output_type": "stream",
     "text": [
      "AUC : 0.924\n"
     ]
    }
   ],
   "source": [
    "rf = RandomForestClassifier(n_estimators=10,\n",
    "                            random_state=39,\n",
    "                            n_jobs=-1)\n",
    "rf.fit(X_train, y_train)\n",
    "y_pred = rf.predict(X_val)\n",
    "print(\"AUC :\", round(roc_auc_score(y_val, y_pred), 3))"
   ]
  },
  {
   "cell_type": "markdown",
   "id": "548054ec-41c0-44ac-8de7-671189770fee",
   "metadata": {},
   "source": [
    "### Tuning **n_estimators**"
   ]
  },
  {
   "cell_type": "code",
   "execution_count": 63,
   "id": "7f61c3d8-e1d5-46ad-83d9-a9e472a5a9b0",
   "metadata": {},
   "outputs": [],
   "source": [
    "scores = []\n",
    "for n in range(10, 201, 10):\n",
    "    rf = RandomForestClassifier(n_estimators=n,\n",
    "                                random_state=39,\n",
    "                                n_jobs=-1)\n",
    "    rf.fit(X_train, y_train)\n",
    "    y_pred = rf.predict(X_val)\n",
    "    auc = roc_auc_score(y_val, y_pred)\n",
    "    scores.append((n, auc))"
   ]
  },
  {
   "cell_type": "code",
   "execution_count": 64,
   "id": "57911ce3-412a-4e4d-8855-e2f555ce4662",
   "metadata": {},
   "outputs": [
    {
     "data": {
      "text/html": [
       "<div>\n",
       "<style scoped>\n",
       "    .dataframe tbody tr th:only-of-type {\n",
       "        vertical-align: middle;\n",
       "    }\n",
       "\n",
       "    .dataframe tbody tr th {\n",
       "        vertical-align: top;\n",
       "    }\n",
       "\n",
       "    .dataframe thead th {\n",
       "        text-align: right;\n",
       "    }\n",
       "</style>\n",
       "<table border=\"1\" class=\"dataframe\">\n",
       "  <thead>\n",
       "    <tr style=\"text-align: right;\">\n",
       "      <th></th>\n",
       "      <th>n_estimators</th>\n",
       "      <th>auc</th>\n",
       "    </tr>\n",
       "  </thead>\n",
       "  <tbody>\n",
       "    <tr>\n",
       "      <th>0</th>\n",
       "      <td>10</td>\n",
       "      <td>0.923995</td>\n",
       "    </tr>\n",
       "    <tr>\n",
       "      <th>1</th>\n",
       "      <td>20</td>\n",
       "      <td>0.920769</td>\n",
       "    </tr>\n",
       "    <tr>\n",
       "      <th>2</th>\n",
       "      <td>30</td>\n",
       "      <td>0.923995</td>\n",
       "    </tr>\n",
       "    <tr>\n",
       "      <th>3</th>\n",
       "      <td>40</td>\n",
       "      <td>0.920769</td>\n",
       "    </tr>\n",
       "    <tr>\n",
       "      <th>4</th>\n",
       "      <td>50</td>\n",
       "      <td>0.921131</td>\n",
       "    </tr>\n",
       "    <tr>\n",
       "      <th>5</th>\n",
       "      <td>60</td>\n",
       "      <td>0.920769</td>\n",
       "    </tr>\n",
       "    <tr>\n",
       "      <th>6</th>\n",
       "      <td>70</td>\n",
       "      <td>0.923995</td>\n",
       "    </tr>\n",
       "    <tr>\n",
       "      <th>7</th>\n",
       "      <td>80</td>\n",
       "      <td>0.923633</td>\n",
       "    </tr>\n",
       "    <tr>\n",
       "      <th>8</th>\n",
       "      <td>90</td>\n",
       "      <td>0.923633</td>\n",
       "    </tr>\n",
       "    <tr>\n",
       "      <th>9</th>\n",
       "      <td>100</td>\n",
       "      <td>0.923633</td>\n",
       "    </tr>\n",
       "    <tr>\n",
       "      <th>10</th>\n",
       "      <td>110</td>\n",
       "      <td>0.923633</td>\n",
       "    </tr>\n",
       "    <tr>\n",
       "      <th>11</th>\n",
       "      <td>120</td>\n",
       "      <td>0.923633</td>\n",
       "    </tr>\n",
       "    <tr>\n",
       "      <th>12</th>\n",
       "      <td>130</td>\n",
       "      <td>0.923633</td>\n",
       "    </tr>\n",
       "    <tr>\n",
       "      <th>13</th>\n",
       "      <td>140</td>\n",
       "      <td>0.923633</td>\n",
       "    </tr>\n",
       "    <tr>\n",
       "      <th>14</th>\n",
       "      <td>150</td>\n",
       "      <td>0.923633</td>\n",
       "    </tr>\n",
       "    <tr>\n",
       "      <th>15</th>\n",
       "      <td>160</td>\n",
       "      <td>0.923633</td>\n",
       "    </tr>\n",
       "    <tr>\n",
       "      <th>16</th>\n",
       "      <td>170</td>\n",
       "      <td>0.923633</td>\n",
       "    </tr>\n",
       "    <tr>\n",
       "      <th>17</th>\n",
       "      <td>180</td>\n",
       "      <td>0.923633</td>\n",
       "    </tr>\n",
       "    <tr>\n",
       "      <th>18</th>\n",
       "      <td>190</td>\n",
       "      <td>0.923995</td>\n",
       "    </tr>\n",
       "    <tr>\n",
       "      <th>19</th>\n",
       "      <td>200</td>\n",
       "      <td>0.923633</td>\n",
       "    </tr>\n",
       "  </tbody>\n",
       "</table>\n",
       "</div>"
      ],
      "text/plain": [
       "    n_estimators       auc\n",
       "0             10  0.923995\n",
       "1             20  0.920769\n",
       "2             30  0.923995\n",
       "3             40  0.920769\n",
       "4             50  0.921131\n",
       "5             60  0.920769\n",
       "6             70  0.923995\n",
       "7             80  0.923633\n",
       "8             90  0.923633\n",
       "9            100  0.923633\n",
       "10           110  0.923633\n",
       "11           120  0.923633\n",
       "12           130  0.923633\n",
       "13           140  0.923633\n",
       "14           150  0.923633\n",
       "15           160  0.923633\n",
       "16           170  0.923633\n",
       "17           180  0.923633\n",
       "18           190  0.923995\n",
       "19           200  0.923633"
      ]
     },
     "execution_count": 64,
     "metadata": {},
     "output_type": "execute_result"
    }
   ],
   "source": [
    "df_scores = pd.DataFrame(scores, columns=[\"n_estimators\", \"auc\"])\n",
    "df_scores.round(9)"
   ]
  },
  {
   "cell_type": "code",
   "execution_count": 65,
   "id": "63416c4b-9256-451d-9c0e-4fa29a91db8b",
   "metadata": {},
   "outputs": [
    {
     "data": {
      "text/plain": [
       "[<matplotlib.lines.Line2D at 0x27daeee8990>]"
      ]
     },
     "execution_count": 65,
     "metadata": {},
     "output_type": "execute_result"
    },
    {
     "data": {
      "image/png": "[encoded data removed]",
      "text/plain": [
       "<Figure size 640x480 with 1 Axes>"
      ]
     },
     "metadata": {},
     "output_type": "display_data"
    }
   ],
   "source": [
    "plt.plot(df_scores.n_estimators, df_scores.auc)"
   ]
  },
  {
   "cell_type": "markdown",
   "id": "ae4dfc2d-db43-4c21-b1cf-f3c21917af3c",
   "metadata": {},
   "source": [
    "### Tuning **max_depth**"
   ]
  },
  {
   "cell_type": "code",
   "execution_count": 66,
   "id": "d4bd3bb1-727b-467b-8a01-3b6bda5eea81",
   "metadata": {},
   "outputs": [],
   "source": [
    "scores = []\n",
    "for d in [5, 10, 15, 20]:\n",
    "    for n in range(10, 201, 10):\n",
    "        rf = RandomForestClassifier(n_estimators=n,\n",
    "                                    max_depth=d,\n",
    "                                    random_state=39,\n",
    "                                    n_jobs=-1)\n",
    "        rf.fit(X_train, y_train)\n",
    "        y_pred = rf.predict(X_val)\n",
    "        auc = roc_auc_score(y_val, y_pred)\n",
    "        scores.append((d, n, auc))"
   ]
  },
  {
   "cell_type": "code",
   "execution_count": 67,
   "id": "eae69b1e-6f6a-4066-9ac9-71a8a90b719a",
   "metadata": {},
   "outputs": [
    {
     "data": {
      "text/html": [
       "<div>\n",
       "<style scoped>\n",
       "    .dataframe tbody tr th:only-of-type {\n",
       "        vertical-align: middle;\n",
       "    }\n",
       "\n",
       "    .dataframe tbody tr th {\n",
       "        vertical-align: top;\n",
       "    }\n",
       "\n",
       "    .dataframe thead th {\n",
       "        text-align: right;\n",
       "    }\n",
       "</style>\n",
       "<table border=\"1\" class=\"dataframe\">\n",
       "  <thead>\n",
       "    <tr style=\"text-align: right;\">\n",
       "      <th></th>\n",
       "      <th>max_depth</th>\n",
       "      <th>n_estimators</th>\n",
       "      <th>auc</th>\n",
       "    </tr>\n",
       "  </thead>\n",
       "  <tbody>\n",
       "    <tr>\n",
       "      <th>0</th>\n",
       "      <td>5</td>\n",
       "      <td>10</td>\n",
       "      <td>0.886010</td>\n",
       "    </tr>\n",
       "    <tr>\n",
       "      <th>1</th>\n",
       "      <td>5</td>\n",
       "      <td>20</td>\n",
       "      <td>0.879558</td>\n",
       "    </tr>\n",
       "    <tr>\n",
       "      <th>2</th>\n",
       "      <td>5</td>\n",
       "      <td>30</td>\n",
       "      <td>0.876332</td>\n",
       "    </tr>\n",
       "    <tr>\n",
       "      <th>3</th>\n",
       "      <td>5</td>\n",
       "      <td>40</td>\n",
       "      <td>0.876332</td>\n",
       "    </tr>\n",
       "    <tr>\n",
       "      <th>4</th>\n",
       "      <td>5</td>\n",
       "      <td>50</td>\n",
       "      <td>0.879558</td>\n",
       "    </tr>\n",
       "  </tbody>\n",
       "</table>\n",
       "</div>"
      ],
      "text/plain": [
       "   max_depth  n_estimators       auc\n",
       "0          5            10  0.886010\n",
       "1          5            20  0.879558\n",
       "2          5            30  0.876332\n",
       "3          5            40  0.876332\n",
       "4          5            50  0.879558"
      ]
     },
     "execution_count": 67,
     "metadata": {},
     "output_type": "execute_result"
    }
   ],
   "source": [
    "df_scores = pd.DataFrame(scores, columns=[\"max_depth\", \"n_estimators\", \"auc\"])\n",
    "df_scores.head()"
   ]
  },
  {
   "cell_type": "code",
   "execution_count": 68,
   "id": "828cde3e-3362-4bf8-9a94-900b17d78201",
   "metadata": {},
   "outputs": [
    {
     "data": {
      "text/plain": [
       "<matplotlib.legend.Legend at 0x27daef40b10>"
      ]
     },
     "execution_count": 68,
     "metadata": {},
     "output_type": "execute_result"
    },
    {
     "data": {
      "image/png": "[encoded data removed]",
      "text/plain": [
       "<Figure size 640x480 with 1 Axes>"
      ]
     },
     "metadata": {},
     "output_type": "display_data"
    }
   ],
   "source": [
    "for d in [5, 10, 15, 20]:\n",
    "    df_subset = df_scores[df_scores.max_depth == d]\n",
    "    plt.plot(df_subset.n_estimators, df_subset.auc, label='max_depth=%d' % d)\n",
    "    plt.ylim(0.92, 0.93)\n",
    "\n",
    "plt.legend()"
   ]
  },
  {
   "cell_type": "code",
   "execution_count": 69,
   "id": "5395c0f9-ed70-444d-9544-ea7e1a124a1f",
   "metadata": {},
   "outputs": [],
   "source": [
    "max_depth = 15"
   ]
  },
  {
   "cell_type": "markdown",
   "id": "9a69b6ba-bc25-44b6-9b0f-7b09bfbc40d7",
   "metadata": {},
   "source": [
    "### Tuning **min_samples_leaf**"
   ]
  },
  {
   "cell_type": "code",
   "execution_count": 70,
   "id": "b38a2df7-516c-4e2c-843a-51d640ce5edf",
   "metadata": {},
   "outputs": [],
   "source": [
    "scores = []\n",
    "for s in [1, 3, 5, 10, 50]:\n",
    "    for n in range(10, 201, 5):\n",
    "        rf = RandomForestClassifier(n_estimators=n,\n",
    "                                    max_depth=max_depth,\n",
    "                                    min_samples_leaf=s,\n",
    "                                    random_state=39,\n",
    "                                    n_jobs=-1)\n",
    "        rf.fit(X_train, y_train)\n",
    "        y_pred = rf.predict(X_val)\n",
    "        auc = roc_auc_score(y_val, y_pred)\n",
    "        scores.append((s, n, auc))"
   ]
  },
  {
   "cell_type": "code",
   "execution_count": 71,
   "id": "a822da23-550e-4894-81c2-7b46052d7dfb",
   "metadata": {},
   "outputs": [],
   "source": [
    "columns = ['min_samples_leaf', 'n_estimators', 'auc']\n",
    "df_scores = pd.DataFrame(scores, columns=columns)"
   ]
  },
  {
   "cell_type": "code",
   "execution_count": 72,
   "id": "c471aa2b-823d-43a0-8fb3-0e2ac7d26ec1",
   "metadata": {},
   "outputs": [
    {
     "data": {
      "text/plain": [
       "<matplotlib.legend.Legend at 0x27daef4ee10>"
      ]
     },
     "execution_count": 72,
     "metadata": {},
     "output_type": "execute_result"
    },
    {
     "data": {
      "image/png": "[encoded data removed]",
      "text/plain": [
       "<Figure size 640x480 with 1 Axes>"
      ]
     },
     "metadata": {},
     "output_type": "display_data"
    }
   ],
   "source": [
    "for s in [1, 3, 5, 10, 50]:\n",
    "    df_subset = df_scores[df_scores.min_samples_leaf == s]\n",
    "\n",
    "    plt.plot(df_subset.n_estimators, df_subset.auc,\n",
    "             # color=col,\n",
    "             label='min_samples_leaf=%d' % s)\n",
    "\n",
    "plt.legend()"
   ]
  },
  {
   "cell_type": "code",
   "execution_count": 73,
   "id": "64306944-0721-46b6-b727-f07116f35299",
   "metadata": {},
   "outputs": [],
   "source": [
    "min_samples_leaf = 3"
   ]
  },
  {
   "cell_type": "markdown",
   "id": "4f63dd77-3919-4846-90aa-c4c12ce1c29c",
   "metadata": {},
   "source": [
    "### Best Random Forest model"
   ]
  },
  {
   "cell_type": "code",
   "execution_count": 74,
   "id": "da328933-3586-409d-9f52-bf579151fb6e",
   "metadata": {},
   "outputs": [
    {
     "name": "stdout",
     "output_type": "stream",
     "text": [
      "AUC: 0.9768443197755959\n"
     ]
    }
   ],
   "source": [
    "rf = RandomForestClassifier(n_estimators=190,\n",
    "                            max_depth=max_depth,\n",
    "                            min_samples_leaf=min_samples_leaf,\n",
    "                            random_state=39,\n",
    "                            n_jobs=-1)\n",
    "rf.fit(X_train, y_train)\n",
    "y_pred = rf.predict_proba(X_val)[:, 1]\n",
    "auc = roc_auc_score(y_val, y_pred)\n",
    "print(\"AUC:\", auc)"
   ]
  },
  {
   "cell_type": "markdown",
   "id": "58032708-93f4-47e0-a3c6-0b5f29b5364c",
   "metadata": {},
   "source": [
    "## Gradient boosting and XGBoost\n",
    "- Training the first model\n",
    "- Performance monitoring\n",
    "- Parsing xgboost's monitoring output\n",
    "- XGBoost parameter tuning"
   ]
  },
  {
   "cell_type": "code",
   "execution_count": 75,
   "id": "072221fc-02db-4009-a8e9-38eda9decbd3",
   "metadata": {},
   "outputs": [],
   "source": [
    "features = list(dv.get_feature_names_out())\n",
    "dtrain = xgb.DMatrix(X_train, label=y_train, feature_names=features)\n",
    "dval = xgb.DMatrix(X_val, label=y_val, feature_names=features)"
   ]
  },
  {
   "cell_type": "markdown",
   "id": "c09ffa15-b087-4e22-a33f-27b42dd9f530",
   "metadata": {},
   "source": [
    "### Training the first model"
   ]
  },
  {
   "cell_type": "code",
   "execution_count": 76,
   "id": "3723953a-d836-4ac2-8411-43641ab72bb9",
   "metadata": {},
   "outputs": [],
   "source": [
    "xgb_params = {\n",
    "    'eta': 0.3,\n",
    "    'max_depth': 6,\n",
    "    'min_child_weight': 1,\n",
    "\n",
    "    'objective': 'binary:logistic',\n",
    "\n",
    "    'seed': 39,\n",
    "    'verbosity': 1,\n",
    "}\n",
    "\n",
    "model = xgb.train(xgb_params, dtrain, num_boost_round=10)"
   ]
  },
  {
   "cell_type": "code",
   "execution_count": 77,
   "id": "099e2f89-09bd-4fa9-a7bc-cd95f385d512",
   "metadata": {},
   "outputs": [],
   "source": [
    "y_pred = model.predict(dval)"
   ]
  },
  {
   "cell_type": "code",
   "execution_count": 78,
   "id": "3af212e2-2273-4c0d-a9a6-1c28a036b9d2",
   "metadata": {},
   "outputs": [
    {
     "data": {
      "text/plain": [
       "np.float64(0.9752828424497427)"
      ]
     },
     "execution_count": 78,
     "metadata": {},
     "output_type": "execute_result"
    }
   ],
   "source": [
    "roc_auc_score(y_val, y_pred)"
   ]
  },
  {
   "cell_type": "markdown",
   "id": "c8c4694f-86dd-4470-979d-724e9b40ab68",
   "metadata": {},
   "source": [
    "### Performance Monitoring"
   ]
  },
  {
   "cell_type": "code",
   "execution_count": 79,
   "id": "34a03845-5598-465e-a5ec-897122263eef",
   "metadata": {},
   "outputs": [],
   "source": [
    "watchlist = [(dtrain, 'train'), (dval, 'val')]"
   ]
  },
  {
   "cell_type": "code",
   "execution_count": 80,
   "id": "e5f778f1-339f-4ce4-a3df-c56285b1f492",
   "metadata": {},
   "outputs": [],
   "source": [
    "%%capture output\n",
    "\n",
    "xgb_params = {\n",
    "    'eta': 0.3,\n",
    "    'max_depth': 6,\n",
    "    'min_child_weight': 1,\n",
    "\n",
    "    'objective': 'binary:logistic',\n",
    "    'eval_metric': 'auc',\n",
    "\n",
    "    'seed': 39,\n",
    "    'verbosity': 1,\n",
    "}\n",
    "\n",
    "model = xgb.train(xgb_params, dtrain, num_boost_round=200,\n",
    "                  verbose_eval=5,\n",
    "                  evals=watchlist)"
   ]
  },
  {
   "cell_type": "code",
   "execution_count": 81,
   "id": "ec206372-c899-4536-a447-ff56901170cc",
   "metadata": {},
   "outputs": [],
   "source": [
    "s = output.stdout"
   ]
  },
  {
   "cell_type": "code",
   "execution_count": 82,
   "id": "3f343086-a7f5-4a54-b934-c6f4e16568d9",
   "metadata": {},
   "outputs": [
    {
     "name": "stdout",
     "output_type": "stream",
     "text": [
      "[0]\ttrain-auc:0.94753\tval-auc:0.94269\n",
      "[5]\ttrain-auc:0.99085\tval-auc:0.96755\n",
      "[10]\ttrain-auc:0.99787\tval-auc:0.97461\n",
      "[15]\ttrain-auc:0.99888\tval-auc:0.97883\n",
      "[20]\ttrain-auc:0.99948\tval-auc:0.97914\n",
      "[25]\ttr\n"
     ]
    }
   ],
   "source": [
    "print(s[:200])"
   ]
  },
  {
   "cell_type": "markdown",
   "id": "97c0a04a-0df9-46a2-9200-a796e5db094f",
   "metadata": {},
   "source": [
    "### Parsing xgboost's monitoring output"
   ]
  },
  {
   "cell_type": "code",
   "execution_count": 83,
   "id": "0d97b60d-ced7-4ce6-91a7-da90c1e4aa45",
   "metadata": {},
   "outputs": [],
   "source": [
    "def parse_xgb_output(output):\n",
    "    results = []\n",
    "\n",
    "    for line in output.stdout.strip().split('\\n'):\n",
    "        it_line, train_line, val_line = line.split('\\t')\n",
    "\n",
    "        it = int(it_line.strip('[]'))\n",
    "        train = float(train_line.split(':')[1])\n",
    "        val = float(val_line.split(':')[1])\n",
    "\n",
    "        results.append((it, train, val))\n",
    "\n",
    "    columns = ['num_iter', 'train_auc', 'val_auc']\n",
    "    df_results = pd.DataFrame(results, columns=columns)\n",
    "    return df_results"
   ]
  },
  {
   "cell_type": "code",
   "execution_count": 84,
   "id": "27c9099b-0bea-4b62-8c55-fe030cac8875",
   "metadata": {},
   "outputs": [],
   "source": [
    "df_score = parse_xgb_output(output)"
   ]
  },
  {
   "cell_type": "code",
   "execution_count": 85,
   "id": "1fdb9b2c-5d54-42c2-8751-bfff586ffbfd",
   "metadata": {},
   "outputs": [
    {
     "data": {
      "text/plain": [
       "<matplotlib.legend.Legend at 0x27daf1b1b50>"
      ]
     },
     "execution_count": 85,
     "metadata": {},
     "output_type": "execute_result"
    },
    {
     "data": {
      "image/png": "[encoded data removed]",
      "text/plain": [
       "<Figure size 640x480 with 1 Axes>"
      ]
     },
     "metadata": {},
     "output_type": "display_data"
    }
   ],
   "source": [
    "plt.plot(df_score.num_iter, df_score.train_auc, label='train')\n",
    "plt.plot(df_score.num_iter, df_score.val_auc, label='val')\n",
    "plt.legend()"
   ]
  },
  {
   "cell_type": "code",
   "execution_count": 86,
   "id": "75006600-c418-45c9-be8d-7f86f452bc0b",
   "metadata": {},
   "outputs": [
    {
     "data": {
      "text/plain": [
       "<matplotlib.legend.Legend at 0x27dc0607f90>"
      ]
     },
     "execution_count": 86,
     "metadata": {},
     "output_type": "execute_result"
    },
    {
     "data": {
      "image/png": "[encoded data removed]",
      "text/plain": [
       "<Figure size 640x480 with 1 Axes>"
      ]
     },
     "metadata": {},
     "output_type": "display_data"
    }
   ],
   "source": [
    "plt.plot(df_score.num_iter, df_score.val_auc, label='val')\n",
    "plt.legend()"
   ]
  },
  {
   "cell_type": "markdown",
   "id": "e3dc34f4-1c4e-446d-be75-ab6596a2071f",
   "metadata": {},
   "source": [
    "### XGBoost parameter tuning\n",
    "**Tuning Eta**\n",
    "\n",
    "Eta = 0.3"
   ]
  },
  {
   "cell_type": "code",
   "execution_count": 87,
   "id": "e3d7d84f-2bf1-4751-a32a-a723f4384c37",
   "metadata": {},
   "outputs": [],
   "source": [
    "scores = {}"
   ]
  },
  {
   "cell_type": "code",
   "execution_count": 88,
   "id": "fb6743f6-022d-4b5e-bad3-336758766037",
   "metadata": {},
   "outputs": [],
   "source": [
    "%%capture output\n",
    "\n",
    "xgb_params = {\n",
    "    'eta': 0.3,\n",
    "    'max_depth': 6,\n",
    "    'min_child_weight': 1,\n",
    "\n",
    "    'objective': 'binary:logistic',\n",
    "    'eval_metric': 'auc',\n",
    "\n",
    "    'seed': 39,\n",
    "    'verbosity': 1\n",
    "}\n",
    "\n",
    "model = xgb.train(xgb_params, dtrain, num_boost_round=200,\n",
    "                  verbose_eval=5,\n",
    "                  evals=watchlist)"
   ]
  },
  {
   "cell_type": "code",
   "execution_count": 89,
   "id": "6f8131a7-9a47-4f51-a78c-1d57bc1e9b46",
   "metadata": {},
   "outputs": [
    {
     "data": {
      "text/plain": [
       "'eta=0.3'"
      ]
     },
     "execution_count": 89,
     "metadata": {},
     "output_type": "execute_result"
    }
   ],
   "source": [
    "key = 'eta=%s' % (xgb_params['eta'])\n",
    "scores[key] = parse_xgb_output(output)\n",
    "key"
   ]
  },
  {
   "cell_type": "code",
   "execution_count": 90,
   "id": "f7cac306-da40-412f-a793-fd3d28426c00",
   "metadata": {},
   "outputs": [
    {
     "data": {
      "text/html": [
       "<div>\n",
       "<style scoped>\n",
       "    .dataframe tbody tr th:only-of-type {\n",
       "        vertical-align: middle;\n",
       "    }\n",
       "\n",
       "    .dataframe tbody tr th {\n",
       "        vertical-align: top;\n",
       "    }\n",
       "\n",
       "    .dataframe thead th {\n",
       "        text-align: right;\n",
       "    }\n",
       "</style>\n",
       "<table border=\"1\" class=\"dataframe\">\n",
       "  <thead>\n",
       "    <tr style=\"text-align: right;\">\n",
       "      <th></th>\n",
       "      <th>num_iter</th>\n",
       "      <th>train_auc</th>\n",
       "      <th>val_auc</th>\n",
       "    </tr>\n",
       "  </thead>\n",
       "  <tbody>\n",
       "    <tr>\n",
       "      <th>0</th>\n",
       "      <td>0</td>\n",
       "      <td>0.94753</td>\n",
       "      <td>0.94269</td>\n",
       "    </tr>\n",
       "    <tr>\n",
       "      <th>1</th>\n",
       "      <td>5</td>\n",
       "      <td>0.99085</td>\n",
       "      <td>0.96755</td>\n",
       "    </tr>\n",
       "    <tr>\n",
       "      <th>2</th>\n",
       "      <td>10</td>\n",
       "      <td>0.99787</td>\n",
       "      <td>0.97461</td>\n",
       "    </tr>\n",
       "    <tr>\n",
       "      <th>3</th>\n",
       "      <td>15</td>\n",
       "      <td>0.99888</td>\n",
       "      <td>0.97883</td>\n",
       "    </tr>\n",
       "    <tr>\n",
       "      <th>4</th>\n",
       "      <td>20</td>\n",
       "      <td>0.99948</td>\n",
       "      <td>0.97914</td>\n",
       "    </tr>\n",
       "    <tr>\n",
       "      <th>5</th>\n",
       "      <td>25</td>\n",
       "      <td>0.99968</td>\n",
       "      <td>0.97937</td>\n",
       "    </tr>\n",
       "    <tr>\n",
       "      <th>6</th>\n",
       "      <td>30</td>\n",
       "      <td>0.99988</td>\n",
       "      <td>0.98043</td>\n",
       "    </tr>\n",
       "    <tr>\n",
       "      <th>7</th>\n",
       "      <td>35</td>\n",
       "      <td>0.99996</td>\n",
       "      <td>0.97882</td>\n",
       "    </tr>\n",
       "    <tr>\n",
       "      <th>8</th>\n",
       "      <td>40</td>\n",
       "      <td>0.99999</td>\n",
       "      <td>0.97986</td>\n",
       "    </tr>\n",
       "    <tr>\n",
       "      <th>9</th>\n",
       "      <td>45</td>\n",
       "      <td>1.00000</td>\n",
       "      <td>0.97986</td>\n",
       "    </tr>\n",
       "    <tr>\n",
       "      <th>10</th>\n",
       "      <td>50</td>\n",
       "      <td>1.00000</td>\n",
       "      <td>0.97964</td>\n",
       "    </tr>\n",
       "    <tr>\n",
       "      <th>11</th>\n",
       "      <td>55</td>\n",
       "      <td>1.00000</td>\n",
       "      <td>0.97873</td>\n",
       "    </tr>\n",
       "    <tr>\n",
       "      <th>12</th>\n",
       "      <td>60</td>\n",
       "      <td>1.00000</td>\n",
       "      <td>0.97940</td>\n",
       "    </tr>\n",
       "    <tr>\n",
       "      <th>13</th>\n",
       "      <td>65</td>\n",
       "      <td>1.00000</td>\n",
       "      <td>0.97959</td>\n",
       "    </tr>\n",
       "    <tr>\n",
       "      <th>14</th>\n",
       "      <td>70</td>\n",
       "      <td>1.00000</td>\n",
       "      <td>0.97943</td>\n",
       "    </tr>\n",
       "    <tr>\n",
       "      <th>15</th>\n",
       "      <td>75</td>\n",
       "      <td>1.00000</td>\n",
       "      <td>0.97934</td>\n",
       "    </tr>\n",
       "    <tr>\n",
       "      <th>16</th>\n",
       "      <td>80</td>\n",
       "      <td>1.00000</td>\n",
       "      <td>0.97950</td>\n",
       "    </tr>\n",
       "    <tr>\n",
       "      <th>17</th>\n",
       "      <td>85</td>\n",
       "      <td>1.00000</td>\n",
       "      <td>0.97975</td>\n",
       "    </tr>\n",
       "    <tr>\n",
       "      <th>18</th>\n",
       "      <td>90</td>\n",
       "      <td>1.00000</td>\n",
       "      <td>0.97952</td>\n",
       "    </tr>\n",
       "    <tr>\n",
       "      <th>19</th>\n",
       "      <td>95</td>\n",
       "      <td>1.00000</td>\n",
       "      <td>0.97939</td>\n",
       "    </tr>\n",
       "    <tr>\n",
       "      <th>20</th>\n",
       "      <td>100</td>\n",
       "      <td>1.00000</td>\n",
       "      <td>0.97941</td>\n",
       "    </tr>\n",
       "    <tr>\n",
       "      <th>21</th>\n",
       "      <td>105</td>\n",
       "      <td>1.00000</td>\n",
       "      <td>0.97934</td>\n",
       "    </tr>\n",
       "    <tr>\n",
       "      <th>22</th>\n",
       "      <td>110</td>\n",
       "      <td>1.00000</td>\n",
       "      <td>0.97940</td>\n",
       "    </tr>\n",
       "    <tr>\n",
       "      <th>23</th>\n",
       "      <td>115</td>\n",
       "      <td>1.00000</td>\n",
       "      <td>0.97916</td>\n",
       "    </tr>\n",
       "    <tr>\n",
       "      <th>24</th>\n",
       "      <td>120</td>\n",
       "      <td>1.00000</td>\n",
       "      <td>0.97945</td>\n",
       "    </tr>\n",
       "    <tr>\n",
       "      <th>25</th>\n",
       "      <td>125</td>\n",
       "      <td>1.00000</td>\n",
       "      <td>0.97899</td>\n",
       "    </tr>\n",
       "    <tr>\n",
       "      <th>26</th>\n",
       "      <td>130</td>\n",
       "      <td>1.00000</td>\n",
       "      <td>0.97933</td>\n",
       "    </tr>\n",
       "    <tr>\n",
       "      <th>27</th>\n",
       "      <td>135</td>\n",
       "      <td>1.00000</td>\n",
       "      <td>0.97943</td>\n",
       "    </tr>\n",
       "    <tr>\n",
       "      <th>28</th>\n",
       "      <td>140</td>\n",
       "      <td>1.00000</td>\n",
       "      <td>0.97939</td>\n",
       "    </tr>\n",
       "    <tr>\n",
       "      <th>29</th>\n",
       "      <td>145</td>\n",
       "      <td>1.00000</td>\n",
       "      <td>0.97921</td>\n",
       "    </tr>\n",
       "    <tr>\n",
       "      <th>30</th>\n",
       "      <td>150</td>\n",
       "      <td>1.00000</td>\n",
       "      <td>0.97921</td>\n",
       "    </tr>\n",
       "    <tr>\n",
       "      <th>31</th>\n",
       "      <td>155</td>\n",
       "      <td>1.00000</td>\n",
       "      <td>0.97915</td>\n",
       "    </tr>\n",
       "    <tr>\n",
       "      <th>32</th>\n",
       "      <td>160</td>\n",
       "      <td>1.00000</td>\n",
       "      <td>0.97950</td>\n",
       "    </tr>\n",
       "    <tr>\n",
       "      <th>33</th>\n",
       "      <td>165</td>\n",
       "      <td>1.00000</td>\n",
       "      <td>0.97931</td>\n",
       "    </tr>\n",
       "    <tr>\n",
       "      <th>34</th>\n",
       "      <td>170</td>\n",
       "      <td>1.00000</td>\n",
       "      <td>0.97935</td>\n",
       "    </tr>\n",
       "    <tr>\n",
       "      <th>35</th>\n",
       "      <td>175</td>\n",
       "      <td>1.00000</td>\n",
       "      <td>0.97926</td>\n",
       "    </tr>\n",
       "    <tr>\n",
       "      <th>36</th>\n",
       "      <td>180</td>\n",
       "      <td>1.00000</td>\n",
       "      <td>0.97927</td>\n",
       "    </tr>\n",
       "    <tr>\n",
       "      <th>37</th>\n",
       "      <td>185</td>\n",
       "      <td>1.00000</td>\n",
       "      <td>0.97913</td>\n",
       "    </tr>\n",
       "    <tr>\n",
       "      <th>38</th>\n",
       "      <td>190</td>\n",
       "      <td>1.00000</td>\n",
       "      <td>0.97914</td>\n",
       "    </tr>\n",
       "    <tr>\n",
       "      <th>39</th>\n",
       "      <td>195</td>\n",
       "      <td>1.00000</td>\n",
       "      <td>0.97924</td>\n",
       "    </tr>\n",
       "    <tr>\n",
       "      <th>40</th>\n",
       "      <td>199</td>\n",
       "      <td>1.00000</td>\n",
       "      <td>0.97907</td>\n",
       "    </tr>\n",
       "  </tbody>\n",
       "</table>\n",
       "</div>"
      ],
      "text/plain": [
       "    num_iter  train_auc  val_auc\n",
       "0          0    0.94753  0.94269\n",
       "1          5    0.99085  0.96755\n",
       "2         10    0.99787  0.97461\n",
       "3         15    0.99888  0.97883\n",
       "4         20    0.99948  0.97914\n",
       "5         25    0.99968  0.97937\n",
       "6         30    0.99988  0.98043\n",
       "7         35    0.99996  0.97882\n",
       "8         40    0.99999  0.97986\n",
       "9         45    1.00000  0.97986\n",
       "10        50    1.00000  0.97964\n",
       "11        55    1.00000  0.97873\n",
       "12        60    1.00000  0.97940\n",
       "13        65    1.00000  0.97959\n",
       "14        70    1.00000  0.97943\n",
       "15        75    1.00000  0.97934\n",
       "16        80    1.00000  0.97950\n",
       "17        85    1.00000  0.97975\n",
       "18        90    1.00000  0.97952\n",
       "19        95    1.00000  0.97939\n",
       "20       100    1.00000  0.97941\n",
       "21       105    1.00000  0.97934\n",
       "22       110    1.00000  0.97940\n",
       "23       115    1.00000  0.97916\n",
       "24       120    1.00000  0.97945\n",
       "25       125    1.00000  0.97899\n",
       "26       130    1.00000  0.97933\n",
       "27       135    1.00000  0.97943\n",
       "28       140    1.00000  0.97939\n",
       "29       145    1.00000  0.97921\n",
       "30       150    1.00000  0.97921\n",
       "31       155    1.00000  0.97915\n",
       "32       160    1.00000  0.97950\n",
       "33       165    1.00000  0.97931\n",
       "34       170    1.00000  0.97935\n",
       "35       175    1.00000  0.97926\n",
       "36       180    1.00000  0.97927\n",
       "37       185    1.00000  0.97913\n",
       "38       190    1.00000  0.97914\n",
       "39       195    1.00000  0.97924\n",
       "40       199    1.00000  0.97907"
      ]
     },
     "execution_count": 90,
     "metadata": {},
     "output_type": "execute_result"
    }
   ],
   "source": [
    "scores['eta=0.3']"
   ]
  },
  {
   "cell_type": "markdown",
   "id": "3e537015-a4b9-4d11-bb33-8972cf28434b",
   "metadata": {},
   "source": [
    "---\n",
    "Eta = 1.0"
   ]
  },
  {
   "cell_type": "code",
   "execution_count": 91,
   "id": "31af5477-3651-46ec-9050-5e0e4fc849c7",
   "metadata": {},
   "outputs": [],
   "source": [
    "%%capture output\n",
    "\n",
    "xgb_params = {\n",
    "    'eta': 1.0,\n",
    "    'max_depth': 6,\n",
    "    'min_child_weight': 1,\n",
    "\n",
    "    'objective': 'binary:logistic',\n",
    "    'eval_metric': 'auc',\n",
    "\n",
    "    'seed': 39,\n",
    "    'verbosity': 1\n",
    "}\n",
    "\n",
    "model = xgb.train(xgb_params, dtrain, num_boost_round=200,\n",
    "                  verbose_eval=5,\n",
    "                  evals=watchlist)"
   ]
  },
  {
   "cell_type": "code",
   "execution_count": 92,
   "id": "7675c03a-72dc-4ff2-b01f-db08f3395baf",
   "metadata": {},
   "outputs": [
    {
     "data": {
      "text/plain": [
       "'eta=1.0'"
      ]
     },
     "execution_count": 92,
     "metadata": {},
     "output_type": "execute_result"
    }
   ],
   "source": [
    "key = 'eta=%s' % (xgb_params['eta'])\n",
    "scores[key] = parse_xgb_output(output)\n",
    "key"
   ]
  },
  {
   "cell_type": "code",
   "execution_count": 93,
   "id": "2125dad7-5a1d-48c2-a54f-a50e90f17fa2",
   "metadata": {},
   "outputs": [
    {
     "data": {
      "text/html": [
       "<div>\n",
       "<style scoped>\n",
       "    .dataframe tbody tr th:only-of-type {\n",
       "        vertical-align: middle;\n",
       "    }\n",
       "\n",
       "    .dataframe tbody tr th {\n",
       "        vertical-align: top;\n",
       "    }\n",
       "\n",
       "    .dataframe thead th {\n",
       "        text-align: right;\n",
       "    }\n",
       "</style>\n",
       "<table border=\"1\" class=\"dataframe\">\n",
       "  <thead>\n",
       "    <tr style=\"text-align: right;\">\n",
       "      <th></th>\n",
       "      <th>num_iter</th>\n",
       "      <th>train_auc</th>\n",
       "      <th>val_auc</th>\n",
       "    </tr>\n",
       "  </thead>\n",
       "  <tbody>\n",
       "    <tr>\n",
       "      <th>0</th>\n",
       "      <td>0</td>\n",
       "      <td>0.94753</td>\n",
       "      <td>0.94269</td>\n",
       "    </tr>\n",
       "    <tr>\n",
       "      <th>1</th>\n",
       "      <td>5</td>\n",
       "      <td>0.99873</td>\n",
       "      <td>0.97549</td>\n",
       "    </tr>\n",
       "    <tr>\n",
       "      <th>2</th>\n",
       "      <td>10</td>\n",
       "      <td>0.99992</td>\n",
       "      <td>0.97384</td>\n",
       "    </tr>\n",
       "    <tr>\n",
       "      <th>3</th>\n",
       "      <td>15</td>\n",
       "      <td>1.00000</td>\n",
       "      <td>0.97503</td>\n",
       "    </tr>\n",
       "    <tr>\n",
       "      <th>4</th>\n",
       "      <td>20</td>\n",
       "      <td>1.00000</td>\n",
       "      <td>0.97597</td>\n",
       "    </tr>\n",
       "    <tr>\n",
       "      <th>5</th>\n",
       "      <td>25</td>\n",
       "      <td>1.00000</td>\n",
       "      <td>0.97676</td>\n",
       "    </tr>\n",
       "    <tr>\n",
       "      <th>6</th>\n",
       "      <td>30</td>\n",
       "      <td>1.00000</td>\n",
       "      <td>0.97818</td>\n",
       "    </tr>\n",
       "    <tr>\n",
       "      <th>7</th>\n",
       "      <td>35</td>\n",
       "      <td>1.00000</td>\n",
       "      <td>0.97875</td>\n",
       "    </tr>\n",
       "    <tr>\n",
       "      <th>8</th>\n",
       "      <td>40</td>\n",
       "      <td>1.00000</td>\n",
       "      <td>0.97846</td>\n",
       "    </tr>\n",
       "    <tr>\n",
       "      <th>9</th>\n",
       "      <td>45</td>\n",
       "      <td>1.00000</td>\n",
       "      <td>0.97832</td>\n",
       "    </tr>\n",
       "    <tr>\n",
       "      <th>10</th>\n",
       "      <td>50</td>\n",
       "      <td>1.00000</td>\n",
       "      <td>0.97770</td>\n",
       "    </tr>\n",
       "    <tr>\n",
       "      <th>11</th>\n",
       "      <td>55</td>\n",
       "      <td>1.00000</td>\n",
       "      <td>0.97760</td>\n",
       "    </tr>\n",
       "    <tr>\n",
       "      <th>12</th>\n",
       "      <td>60</td>\n",
       "      <td>1.00000</td>\n",
       "      <td>0.97791</td>\n",
       "    </tr>\n",
       "    <tr>\n",
       "      <th>13</th>\n",
       "      <td>65</td>\n",
       "      <td>1.00000</td>\n",
       "      <td>0.97791</td>\n",
       "    </tr>\n",
       "    <tr>\n",
       "      <th>14</th>\n",
       "      <td>70</td>\n",
       "      <td>1.00000</td>\n",
       "      <td>0.97756</td>\n",
       "    </tr>\n",
       "    <tr>\n",
       "      <th>15</th>\n",
       "      <td>75</td>\n",
       "      <td>1.00000</td>\n",
       "      <td>0.97731</td>\n",
       "    </tr>\n",
       "    <tr>\n",
       "      <th>16</th>\n",
       "      <td>80</td>\n",
       "      <td>1.00000</td>\n",
       "      <td>0.97730</td>\n",
       "    </tr>\n",
       "    <tr>\n",
       "      <th>17</th>\n",
       "      <td>85</td>\n",
       "      <td>1.00000</td>\n",
       "      <td>0.97774</td>\n",
       "    </tr>\n",
       "    <tr>\n",
       "      <th>18</th>\n",
       "      <td>90</td>\n",
       "      <td>1.00000</td>\n",
       "      <td>0.97766</td>\n",
       "    </tr>\n",
       "    <tr>\n",
       "      <th>19</th>\n",
       "      <td>95</td>\n",
       "      <td>1.00000</td>\n",
       "      <td>0.97766</td>\n",
       "    </tr>\n",
       "    <tr>\n",
       "      <th>20</th>\n",
       "      <td>100</td>\n",
       "      <td>1.00000</td>\n",
       "      <td>0.97772</td>\n",
       "    </tr>\n",
       "    <tr>\n",
       "      <th>21</th>\n",
       "      <td>105</td>\n",
       "      <td>1.00000</td>\n",
       "      <td>0.97762</td>\n",
       "    </tr>\n",
       "    <tr>\n",
       "      <th>22</th>\n",
       "      <td>110</td>\n",
       "      <td>1.00000</td>\n",
       "      <td>0.97765</td>\n",
       "    </tr>\n",
       "    <tr>\n",
       "      <th>23</th>\n",
       "      <td>115</td>\n",
       "      <td>1.00000</td>\n",
       "      <td>0.97752</td>\n",
       "    </tr>\n",
       "    <tr>\n",
       "      <th>24</th>\n",
       "      <td>120</td>\n",
       "      <td>1.00000</td>\n",
       "      <td>0.97771</td>\n",
       "    </tr>\n",
       "    <tr>\n",
       "      <th>25</th>\n",
       "      <td>125</td>\n",
       "      <td>1.00000</td>\n",
       "      <td>0.97727</td>\n",
       "    </tr>\n",
       "    <tr>\n",
       "      <th>26</th>\n",
       "      <td>130</td>\n",
       "      <td>1.00000</td>\n",
       "      <td>0.97726</td>\n",
       "    </tr>\n",
       "    <tr>\n",
       "      <th>27</th>\n",
       "      <td>135</td>\n",
       "      <td>1.00000</td>\n",
       "      <td>0.97739</td>\n",
       "    </tr>\n",
       "    <tr>\n",
       "      <th>28</th>\n",
       "      <td>140</td>\n",
       "      <td>1.00000</td>\n",
       "      <td>0.97741</td>\n",
       "    </tr>\n",
       "    <tr>\n",
       "      <th>29</th>\n",
       "      <td>145</td>\n",
       "      <td>1.00000</td>\n",
       "      <td>0.97736</td>\n",
       "    </tr>\n",
       "    <tr>\n",
       "      <th>30</th>\n",
       "      <td>150</td>\n",
       "      <td>1.00000</td>\n",
       "      <td>0.97750</td>\n",
       "    </tr>\n",
       "    <tr>\n",
       "      <th>31</th>\n",
       "      <td>155</td>\n",
       "      <td>1.00000</td>\n",
       "      <td>0.97748</td>\n",
       "    </tr>\n",
       "    <tr>\n",
       "      <th>32</th>\n",
       "      <td>160</td>\n",
       "      <td>1.00000</td>\n",
       "      <td>0.97745</td>\n",
       "    </tr>\n",
       "    <tr>\n",
       "      <th>33</th>\n",
       "      <td>165</td>\n",
       "      <td>1.00000</td>\n",
       "      <td>0.97731</td>\n",
       "    </tr>\n",
       "    <tr>\n",
       "      <th>34</th>\n",
       "      <td>170</td>\n",
       "      <td>1.00000</td>\n",
       "      <td>0.97738</td>\n",
       "    </tr>\n",
       "    <tr>\n",
       "      <th>35</th>\n",
       "      <td>175</td>\n",
       "      <td>1.00000</td>\n",
       "      <td>0.97717</td>\n",
       "    </tr>\n",
       "    <tr>\n",
       "      <th>36</th>\n",
       "      <td>180</td>\n",
       "      <td>1.00000</td>\n",
       "      <td>0.97718</td>\n",
       "    </tr>\n",
       "    <tr>\n",
       "      <th>37</th>\n",
       "      <td>185</td>\n",
       "      <td>1.00000</td>\n",
       "      <td>0.97732</td>\n",
       "    </tr>\n",
       "    <tr>\n",
       "      <th>38</th>\n",
       "      <td>190</td>\n",
       "      <td>1.00000</td>\n",
       "      <td>0.97734</td>\n",
       "    </tr>\n",
       "    <tr>\n",
       "      <th>39</th>\n",
       "      <td>195</td>\n",
       "      <td>1.00000</td>\n",
       "      <td>0.97728</td>\n",
       "    </tr>\n",
       "    <tr>\n",
       "      <th>40</th>\n",
       "      <td>199</td>\n",
       "      <td>1.00000</td>\n",
       "      <td>0.97737</td>\n",
       "    </tr>\n",
       "  </tbody>\n",
       "</table>\n",
       "</div>"
      ],
      "text/plain": [
       "    num_iter  train_auc  val_auc\n",
       "0          0    0.94753  0.94269\n",
       "1          5    0.99873  0.97549\n",
       "2         10    0.99992  0.97384\n",
       "3         15    1.00000  0.97503\n",
       "4         20    1.00000  0.97597\n",
       "5         25    1.00000  0.97676\n",
       "6         30    1.00000  0.97818\n",
       "7         35    1.00000  0.97875\n",
       "8         40    1.00000  0.97846\n",
       "9         45    1.00000  0.97832\n",
       "10        50    1.00000  0.97770\n",
       "11        55    1.00000  0.97760\n",
       "12        60    1.00000  0.97791\n",
       "13        65    1.00000  0.97791\n",
       "14        70    1.00000  0.97756\n",
       "15        75    1.00000  0.97731\n",
       "16        80    1.00000  0.97730\n",
       "17        85    1.00000  0.97774\n",
       "18        90    1.00000  0.97766\n",
       "19        95    1.00000  0.97766\n",
       "20       100    1.00000  0.97772\n",
       "21       105    1.00000  0.97762\n",
       "22       110    1.00000  0.97765\n",
       "23       115    1.00000  0.97752\n",
       "24       120    1.00000  0.97771\n",
       "25       125    1.00000  0.97727\n",
       "26       130    1.00000  0.97726\n",
       "27       135    1.00000  0.97739\n",
       "28       140    1.00000  0.97741\n",
       "29       145    1.00000  0.97736\n",
       "30       150    1.00000  0.97750\n",
       "31       155    1.00000  0.97748\n",
       "32       160    1.00000  0.97745\n",
       "33       165    1.00000  0.97731\n",
       "34       170    1.00000  0.97738\n",
       "35       175    1.00000  0.97717\n",
       "36       180    1.00000  0.97718\n",
       "37       185    1.00000  0.97732\n",
       "38       190    1.00000  0.97734\n",
       "39       195    1.00000  0.97728\n",
       "40       199    1.00000  0.97737"
      ]
     },
     "execution_count": 93,
     "metadata": {},
     "output_type": "execute_result"
    }
   ],
   "source": [
    "scores['eta=1.0']"
   ]
  },
  {
   "cell_type": "markdown",
   "id": "60eb8caa-4caf-40d4-97b0-66e0a18e97d5",
   "metadata": {},
   "source": [
    "---\n",
    "Eta = 0.1"
   ]
  },
  {
   "cell_type": "code",
   "execution_count": 94,
   "id": "105e259a-c03e-423a-8c9d-40207e5d4ca7",
   "metadata": {},
   "outputs": [],
   "source": [
    "%%capture output\n",
    "\n",
    "xgb_params = {\n",
    "    'eta': 0.1,\n",
    "    'max_depth': 6,\n",
    "    'min_child_weight': 1,\n",
    "\n",
    "    'objective': 'binary:logistic',\n",
    "    'eval_metric': 'auc',\n",
    "\n",
    "    'seed': 39,\n",
    "    'verbosity': 1\n",
    "}\n",
    "\n",
    "model = xgb.train(xgb_params, dtrain, num_boost_round=200,\n",
    "                  verbose_eval=5,\n",
    "                  evals=watchlist)"
   ]
  },
  {
   "cell_type": "code",
   "execution_count": 95,
   "id": "c6f31e19-212d-4bea-8e55-3c571517ce44",
   "metadata": {},
   "outputs": [
    {
     "data": {
      "text/plain": [
       "'eta=0.1'"
      ]
     },
     "execution_count": 95,
     "metadata": {},
     "output_type": "execute_result"
    }
   ],
   "source": [
    "key = 'eta=%s' % (xgb_params['eta'])\n",
    "scores[key] = parse_xgb_output(output)\n",
    "key"
   ]
  },
  {
   "cell_type": "code",
   "execution_count": 96,
   "id": "7a00ca36-eb7d-49f9-a83c-fab364824c9d",
   "metadata": {},
   "outputs": [
    {
     "data": {
      "text/html": [
       "<div>\n",
       "<style scoped>\n",
       "    .dataframe tbody tr th:only-of-type {\n",
       "        vertical-align: middle;\n",
       "    }\n",
       "\n",
       "    .dataframe tbody tr th {\n",
       "        vertical-align: top;\n",
       "    }\n",
       "\n",
       "    .dataframe thead th {\n",
       "        text-align: right;\n",
       "    }\n",
       "</style>\n",
       "<table border=\"1\" class=\"dataframe\">\n",
       "  <thead>\n",
       "    <tr style=\"text-align: right;\">\n",
       "      <th></th>\n",
       "      <th>num_iter</th>\n",
       "      <th>train_auc</th>\n",
       "      <th>val_auc</th>\n",
       "    </tr>\n",
       "  </thead>\n",
       "  <tbody>\n",
       "    <tr>\n",
       "      <th>0</th>\n",
       "      <td>0</td>\n",
       "      <td>0.94753</td>\n",
       "      <td>0.94269</td>\n",
       "    </tr>\n",
       "    <tr>\n",
       "      <th>1</th>\n",
       "      <td>5</td>\n",
       "      <td>0.97455</td>\n",
       "      <td>0.95386</td>\n",
       "    </tr>\n",
       "    <tr>\n",
       "      <th>2</th>\n",
       "      <td>10</td>\n",
       "      <td>0.98402</td>\n",
       "      <td>0.96119</td>\n",
       "    </tr>\n",
       "    <tr>\n",
       "      <th>3</th>\n",
       "      <td>15</td>\n",
       "      <td>0.99100</td>\n",
       "      <td>0.96488</td>\n",
       "    </tr>\n",
       "    <tr>\n",
       "      <th>4</th>\n",
       "      <td>20</td>\n",
       "      <td>0.99617</td>\n",
       "      <td>0.97362</td>\n",
       "    </tr>\n",
       "    <tr>\n",
       "      <th>5</th>\n",
       "      <td>25</td>\n",
       "      <td>0.99739</td>\n",
       "      <td>0.97435</td>\n",
       "    </tr>\n",
       "    <tr>\n",
       "      <th>6</th>\n",
       "      <td>30</td>\n",
       "      <td>0.99800</td>\n",
       "      <td>0.97644</td>\n",
       "    </tr>\n",
       "    <tr>\n",
       "      <th>7</th>\n",
       "      <td>35</td>\n",
       "      <td>0.99832</td>\n",
       "      <td>0.97613</td>\n",
       "    </tr>\n",
       "    <tr>\n",
       "      <th>8</th>\n",
       "      <td>40</td>\n",
       "      <td>0.99870</td>\n",
       "      <td>0.97836</td>\n",
       "    </tr>\n",
       "    <tr>\n",
       "      <th>9</th>\n",
       "      <td>45</td>\n",
       "      <td>0.99891</td>\n",
       "      <td>0.98050</td>\n",
       "    </tr>\n",
       "    <tr>\n",
       "      <th>10</th>\n",
       "      <td>50</td>\n",
       "      <td>0.99906</td>\n",
       "      <td>0.98081</td>\n",
       "    </tr>\n",
       "    <tr>\n",
       "      <th>11</th>\n",
       "      <td>55</td>\n",
       "      <td>0.99920</td>\n",
       "      <td>0.98102</td>\n",
       "    </tr>\n",
       "    <tr>\n",
       "      <th>12</th>\n",
       "      <td>60</td>\n",
       "      <td>0.99935</td>\n",
       "      <td>0.97979</td>\n",
       "    </tr>\n",
       "    <tr>\n",
       "      <th>13</th>\n",
       "      <td>65</td>\n",
       "      <td>0.99948</td>\n",
       "      <td>0.98049</td>\n",
       "    </tr>\n",
       "    <tr>\n",
       "      <th>14</th>\n",
       "      <td>70</td>\n",
       "      <td>0.99963</td>\n",
       "      <td>0.98023</td>\n",
       "    </tr>\n",
       "    <tr>\n",
       "      <th>15</th>\n",
       "      <td>75</td>\n",
       "      <td>0.99970</td>\n",
       "      <td>0.97960</td>\n",
       "    </tr>\n",
       "    <tr>\n",
       "      <th>16</th>\n",
       "      <td>80</td>\n",
       "      <td>0.99977</td>\n",
       "      <td>0.98007</td>\n",
       "    </tr>\n",
       "    <tr>\n",
       "      <th>17</th>\n",
       "      <td>85</td>\n",
       "      <td>0.99983</td>\n",
       "      <td>0.98001</td>\n",
       "    </tr>\n",
       "    <tr>\n",
       "      <th>18</th>\n",
       "      <td>90</td>\n",
       "      <td>0.99984</td>\n",
       "      <td>0.97986</td>\n",
       "    </tr>\n",
       "    <tr>\n",
       "      <th>19</th>\n",
       "      <td>95</td>\n",
       "      <td>0.99987</td>\n",
       "      <td>0.97968</td>\n",
       "    </tr>\n",
       "    <tr>\n",
       "      <th>20</th>\n",
       "      <td>100</td>\n",
       "      <td>0.99989</td>\n",
       "      <td>0.97978</td>\n",
       "    </tr>\n",
       "    <tr>\n",
       "      <th>21</th>\n",
       "      <td>105</td>\n",
       "      <td>0.99992</td>\n",
       "      <td>0.97997</td>\n",
       "    </tr>\n",
       "    <tr>\n",
       "      <th>22</th>\n",
       "      <td>110</td>\n",
       "      <td>0.99995</td>\n",
       "      <td>0.97960</td>\n",
       "    </tr>\n",
       "    <tr>\n",
       "      <th>23</th>\n",
       "      <td>115</td>\n",
       "      <td>0.99996</td>\n",
       "      <td>0.97936</td>\n",
       "    </tr>\n",
       "    <tr>\n",
       "      <th>24</th>\n",
       "      <td>120</td>\n",
       "      <td>0.99996</td>\n",
       "      <td>0.97926</td>\n",
       "    </tr>\n",
       "    <tr>\n",
       "      <th>25</th>\n",
       "      <td>125</td>\n",
       "      <td>0.99998</td>\n",
       "      <td>0.97929</td>\n",
       "    </tr>\n",
       "    <tr>\n",
       "      <th>26</th>\n",
       "      <td>130</td>\n",
       "      <td>0.99998</td>\n",
       "      <td>0.97948</td>\n",
       "    </tr>\n",
       "    <tr>\n",
       "      <th>27</th>\n",
       "      <td>135</td>\n",
       "      <td>0.99999</td>\n",
       "      <td>0.97957</td>\n",
       "    </tr>\n",
       "    <tr>\n",
       "      <th>28</th>\n",
       "      <td>140</td>\n",
       "      <td>0.99999</td>\n",
       "      <td>0.97927</td>\n",
       "    </tr>\n",
       "    <tr>\n",
       "      <th>29</th>\n",
       "      <td>145</td>\n",
       "      <td>1.00000</td>\n",
       "      <td>0.97922</td>\n",
       "    </tr>\n",
       "    <tr>\n",
       "      <th>30</th>\n",
       "      <td>150</td>\n",
       "      <td>1.00000</td>\n",
       "      <td>0.97900</td>\n",
       "    </tr>\n",
       "    <tr>\n",
       "      <th>31</th>\n",
       "      <td>155</td>\n",
       "      <td>1.00000</td>\n",
       "      <td>0.97907</td>\n",
       "    </tr>\n",
       "    <tr>\n",
       "      <th>32</th>\n",
       "      <td>160</td>\n",
       "      <td>1.00000</td>\n",
       "      <td>0.97883</td>\n",
       "    </tr>\n",
       "    <tr>\n",
       "      <th>33</th>\n",
       "      <td>165</td>\n",
       "      <td>1.00000</td>\n",
       "      <td>0.97885</td>\n",
       "    </tr>\n",
       "    <tr>\n",
       "      <th>34</th>\n",
       "      <td>170</td>\n",
       "      <td>1.00000</td>\n",
       "      <td>0.97878</td>\n",
       "    </tr>\n",
       "    <tr>\n",
       "      <th>35</th>\n",
       "      <td>175</td>\n",
       "      <td>1.00000</td>\n",
       "      <td>0.97879</td>\n",
       "    </tr>\n",
       "    <tr>\n",
       "      <th>36</th>\n",
       "      <td>180</td>\n",
       "      <td>1.00000</td>\n",
       "      <td>0.97899</td>\n",
       "    </tr>\n",
       "    <tr>\n",
       "      <th>37</th>\n",
       "      <td>185</td>\n",
       "      <td>1.00000</td>\n",
       "      <td>0.97880</td>\n",
       "    </tr>\n",
       "    <tr>\n",
       "      <th>38</th>\n",
       "      <td>190</td>\n",
       "      <td>1.00000</td>\n",
       "      <td>0.97882</td>\n",
       "    </tr>\n",
       "    <tr>\n",
       "      <th>39</th>\n",
       "      <td>195</td>\n",
       "      <td>1.00000</td>\n",
       "      <td>0.97878</td>\n",
       "    </tr>\n",
       "    <tr>\n",
       "      <th>40</th>\n",
       "      <td>199</td>\n",
       "      <td>1.00000</td>\n",
       "      <td>0.97884</td>\n",
       "    </tr>\n",
       "  </tbody>\n",
       "</table>\n",
       "</div>"
      ],
      "text/plain": [
       "    num_iter  train_auc  val_auc\n",
       "0          0    0.94753  0.94269\n",
       "1          5    0.97455  0.95386\n",
       "2         10    0.98402  0.96119\n",
       "3         15    0.99100  0.96488\n",
       "4         20    0.99617  0.97362\n",
       "5         25    0.99739  0.97435\n",
       "6         30    0.99800  0.97644\n",
       "7         35    0.99832  0.97613\n",
       "8         40    0.99870  0.97836\n",
       "9         45    0.99891  0.98050\n",
       "10        50    0.99906  0.98081\n",
       "11        55    0.99920  0.98102\n",
       "12        60    0.99935  0.97979\n",
       "13        65    0.99948  0.98049\n",
       "14        70    0.99963  0.98023\n",
       "15        75    0.99970  0.97960\n",
       "16        80    0.99977  0.98007\n",
       "17        85    0.99983  0.98001\n",
       "18        90    0.99984  0.97986\n",
       "19        95    0.99987  0.97968\n",
       "20       100    0.99989  0.97978\n",
       "21       105    0.99992  0.97997\n",
       "22       110    0.99995  0.97960\n",
       "23       115    0.99996  0.97936\n",
       "24       120    0.99996  0.97926\n",
       "25       125    0.99998  0.97929\n",
       "26       130    0.99998  0.97948\n",
       "27       135    0.99999  0.97957\n",
       "28       140    0.99999  0.97927\n",
       "29       145    1.00000  0.97922\n",
       "30       150    1.00000  0.97900\n",
       "31       155    1.00000  0.97907\n",
       "32       160    1.00000  0.97883\n",
       "33       165    1.00000  0.97885\n",
       "34       170    1.00000  0.97878\n",
       "35       175    1.00000  0.97879\n",
       "36       180    1.00000  0.97899\n",
       "37       185    1.00000  0.97880\n",
       "38       190    1.00000  0.97882\n",
       "39       195    1.00000  0.97878\n",
       "40       199    1.00000  0.97884"
      ]
     },
     "execution_count": 96,
     "metadata": {},
     "output_type": "execute_result"
    }
   ],
   "source": [
    "scores['eta=0.1']"
   ]
  },
  {
   "cell_type": "markdown",
   "id": "05c5f62f-43d9-493e-8107-145e711fdd56",
   "metadata": {},
   "source": [
    "---\n",
    "Eta = 0.05"
   ]
  },
  {
   "cell_type": "code",
   "execution_count": 97,
   "id": "ff364a20-d0f1-40ae-b14d-8da3f1e326fd",
   "metadata": {},
   "outputs": [],
   "source": [
    "%%capture output\n",
    "\n",
    "xgb_params = {\n",
    "    'eta': 0.05,\n",
    "    'max_depth': 6,\n",
    "    'min_child_weight': 1,\n",
    "\n",
    "    'objective': 'binary:logistic',\n",
    "    'eval_metric': 'auc',\n",
    "\n",
    "    'seed': 39,\n",
    "    'verbosity': 1\n",
    "}\n",
    "\n",
    "model = xgb.train(xgb_params, dtrain, num_boost_round=200,\n",
    "                  verbose_eval=5,\n",
    "                  evals=watchlist)"
   ]
  },
  {
   "cell_type": "code",
   "execution_count": 98,
   "id": "30b41e8c-6374-4efe-adad-87767b72d6d3",
   "metadata": {},
   "outputs": [
    {
     "data": {
      "text/plain": [
       "'eta=0.05'"
      ]
     },
     "execution_count": 98,
     "metadata": {},
     "output_type": "execute_result"
    }
   ],
   "source": [
    "key = 'eta=%s' % (xgb_params['eta'])\n",
    "scores[key] = parse_xgb_output(output)\n",
    "key"
   ]
  },
  {
   "cell_type": "code",
   "execution_count": 99,
   "id": "213fdd1c-ce42-4148-a471-5b172d827480",
   "metadata": {},
   "outputs": [
    {
     "data": {
      "text/html": [
       "<div>\n",
       "<style scoped>\n",
       "    .dataframe tbody tr th:only-of-type {\n",
       "        vertical-align: middle;\n",
       "    }\n",
       "\n",
       "    .dataframe tbody tr th {\n",
       "        vertical-align: top;\n",
       "    }\n",
       "\n",
       "    .dataframe thead th {\n",
       "        text-align: right;\n",
       "    }\n",
       "</style>\n",
       "<table border=\"1\" class=\"dataframe\">\n",
       "  <thead>\n",
       "    <tr style=\"text-align: right;\">\n",
       "      <th></th>\n",
       "      <th>num_iter</th>\n",
       "      <th>train_auc</th>\n",
       "      <th>val_auc</th>\n",
       "    </tr>\n",
       "  </thead>\n",
       "  <tbody>\n",
       "    <tr>\n",
       "      <th>0</th>\n",
       "      <td>0</td>\n",
       "      <td>0.94753</td>\n",
       "      <td>0.94269</td>\n",
       "    </tr>\n",
       "    <tr>\n",
       "      <th>1</th>\n",
       "      <td>5</td>\n",
       "      <td>0.96415</td>\n",
       "      <td>0.95171</td>\n",
       "    </tr>\n",
       "    <tr>\n",
       "      <th>2</th>\n",
       "      <td>10</td>\n",
       "      <td>0.97443</td>\n",
       "      <td>0.95382</td>\n",
       "    </tr>\n",
       "    <tr>\n",
       "      <th>3</th>\n",
       "      <td>15</td>\n",
       "      <td>0.98354</td>\n",
       "      <td>0.96098</td>\n",
       "    </tr>\n",
       "    <tr>\n",
       "      <th>4</th>\n",
       "      <td>20</td>\n",
       "      <td>0.98391</td>\n",
       "      <td>0.96097</td>\n",
       "    </tr>\n",
       "    <tr>\n",
       "      <th>5</th>\n",
       "      <td>25</td>\n",
       "      <td>0.98495</td>\n",
       "      <td>0.96640</td>\n",
       "    </tr>\n",
       "    <tr>\n",
       "      <th>6</th>\n",
       "      <td>30</td>\n",
       "      <td>0.98807</td>\n",
       "      <td>0.96585</td>\n",
       "    </tr>\n",
       "    <tr>\n",
       "      <th>7</th>\n",
       "      <td>35</td>\n",
       "      <td>0.99263</td>\n",
       "      <td>0.96922</td>\n",
       "    </tr>\n",
       "    <tr>\n",
       "      <th>8</th>\n",
       "      <td>40</td>\n",
       "      <td>0.99390</td>\n",
       "      <td>0.97328</td>\n",
       "    </tr>\n",
       "    <tr>\n",
       "      <th>9</th>\n",
       "      <td>45</td>\n",
       "      <td>0.99655</td>\n",
       "      <td>0.97424</td>\n",
       "    </tr>\n",
       "    <tr>\n",
       "      <th>10</th>\n",
       "      <td>50</td>\n",
       "      <td>0.99703</td>\n",
       "      <td>0.97385</td>\n",
       "    </tr>\n",
       "    <tr>\n",
       "      <th>11</th>\n",
       "      <td>55</td>\n",
       "      <td>0.99743</td>\n",
       "      <td>0.97567</td>\n",
       "    </tr>\n",
       "    <tr>\n",
       "      <th>12</th>\n",
       "      <td>60</td>\n",
       "      <td>0.99775</td>\n",
       "      <td>0.97597</td>\n",
       "    </tr>\n",
       "    <tr>\n",
       "      <th>13</th>\n",
       "      <td>65</td>\n",
       "      <td>0.99799</td>\n",
       "      <td>0.97579</td>\n",
       "    </tr>\n",
       "    <tr>\n",
       "      <th>14</th>\n",
       "      <td>70</td>\n",
       "      <td>0.99822</td>\n",
       "      <td>0.97633</td>\n",
       "    </tr>\n",
       "    <tr>\n",
       "      <th>15</th>\n",
       "      <td>75</td>\n",
       "      <td>0.99837</td>\n",
       "      <td>0.97675</td>\n",
       "    </tr>\n",
       "    <tr>\n",
       "      <th>16</th>\n",
       "      <td>80</td>\n",
       "      <td>0.99849</td>\n",
       "      <td>0.97769</td>\n",
       "    </tr>\n",
       "    <tr>\n",
       "      <th>17</th>\n",
       "      <td>85</td>\n",
       "      <td>0.99866</td>\n",
       "      <td>0.97813</td>\n",
       "    </tr>\n",
       "    <tr>\n",
       "      <th>18</th>\n",
       "      <td>90</td>\n",
       "      <td>0.99877</td>\n",
       "      <td>0.97847</td>\n",
       "    </tr>\n",
       "    <tr>\n",
       "      <th>19</th>\n",
       "      <td>95</td>\n",
       "      <td>0.99886</td>\n",
       "      <td>0.97814</td>\n",
       "    </tr>\n",
       "    <tr>\n",
       "      <th>20</th>\n",
       "      <td>100</td>\n",
       "      <td>0.99894</td>\n",
       "      <td>0.97798</td>\n",
       "    </tr>\n",
       "    <tr>\n",
       "      <th>21</th>\n",
       "      <td>105</td>\n",
       "      <td>0.99902</td>\n",
       "      <td>0.97834</td>\n",
       "    </tr>\n",
       "    <tr>\n",
       "      <th>22</th>\n",
       "      <td>110</td>\n",
       "      <td>0.99906</td>\n",
       "      <td>0.97853</td>\n",
       "    </tr>\n",
       "    <tr>\n",
       "      <th>23</th>\n",
       "      <td>115</td>\n",
       "      <td>0.99916</td>\n",
       "      <td>0.97841</td>\n",
       "    </tr>\n",
       "    <tr>\n",
       "      <th>24</th>\n",
       "      <td>120</td>\n",
       "      <td>0.99925</td>\n",
       "      <td>0.97888</td>\n",
       "    </tr>\n",
       "    <tr>\n",
       "      <th>25</th>\n",
       "      <td>125</td>\n",
       "      <td>0.99934</td>\n",
       "      <td>0.97887</td>\n",
       "    </tr>\n",
       "    <tr>\n",
       "      <th>26</th>\n",
       "      <td>130</td>\n",
       "      <td>0.99941</td>\n",
       "      <td>0.97888</td>\n",
       "    </tr>\n",
       "    <tr>\n",
       "      <th>27</th>\n",
       "      <td>135</td>\n",
       "      <td>0.99945</td>\n",
       "      <td>0.97898</td>\n",
       "    </tr>\n",
       "    <tr>\n",
       "      <th>28</th>\n",
       "      <td>140</td>\n",
       "      <td>0.99953</td>\n",
       "      <td>0.97887</td>\n",
       "    </tr>\n",
       "    <tr>\n",
       "      <th>29</th>\n",
       "      <td>145</td>\n",
       "      <td>0.99958</td>\n",
       "      <td>0.97877</td>\n",
       "    </tr>\n",
       "    <tr>\n",
       "      <th>30</th>\n",
       "      <td>150</td>\n",
       "      <td>0.99961</td>\n",
       "      <td>0.97872</td>\n",
       "    </tr>\n",
       "    <tr>\n",
       "      <th>31</th>\n",
       "      <td>155</td>\n",
       "      <td>0.99964</td>\n",
       "      <td>0.97862</td>\n",
       "    </tr>\n",
       "    <tr>\n",
       "      <th>32</th>\n",
       "      <td>160</td>\n",
       "      <td>0.99968</td>\n",
       "      <td>0.97877</td>\n",
       "    </tr>\n",
       "    <tr>\n",
       "      <th>33</th>\n",
       "      <td>165</td>\n",
       "      <td>0.99971</td>\n",
       "      <td>0.97885</td>\n",
       "    </tr>\n",
       "    <tr>\n",
       "      <th>34</th>\n",
       "      <td>170</td>\n",
       "      <td>0.99975</td>\n",
       "      <td>0.97886</td>\n",
       "    </tr>\n",
       "    <tr>\n",
       "      <th>35</th>\n",
       "      <td>175</td>\n",
       "      <td>0.99978</td>\n",
       "      <td>0.97877</td>\n",
       "    </tr>\n",
       "    <tr>\n",
       "      <th>36</th>\n",
       "      <td>180</td>\n",
       "      <td>0.99981</td>\n",
       "      <td>0.97872</td>\n",
       "    </tr>\n",
       "    <tr>\n",
       "      <th>37</th>\n",
       "      <td>185</td>\n",
       "      <td>0.99983</td>\n",
       "      <td>0.97876</td>\n",
       "    </tr>\n",
       "    <tr>\n",
       "      <th>38</th>\n",
       "      <td>190</td>\n",
       "      <td>0.99984</td>\n",
       "      <td>0.97888</td>\n",
       "    </tr>\n",
       "    <tr>\n",
       "      <th>39</th>\n",
       "      <td>195</td>\n",
       "      <td>0.99985</td>\n",
       "      <td>0.97890</td>\n",
       "    </tr>\n",
       "    <tr>\n",
       "      <th>40</th>\n",
       "      <td>199</td>\n",
       "      <td>0.99987</td>\n",
       "      <td>0.97896</td>\n",
       "    </tr>\n",
       "  </tbody>\n",
       "</table>\n",
       "</div>"
      ],
      "text/plain": [
       "    num_iter  train_auc  val_auc\n",
       "0          0    0.94753  0.94269\n",
       "1          5    0.96415  0.95171\n",
       "2         10    0.97443  0.95382\n",
       "3         15    0.98354  0.96098\n",
       "4         20    0.98391  0.96097\n",
       "5         25    0.98495  0.96640\n",
       "6         30    0.98807  0.96585\n",
       "7         35    0.99263  0.96922\n",
       "8         40    0.99390  0.97328\n",
       "9         45    0.99655  0.97424\n",
       "10        50    0.99703  0.97385\n",
       "11        55    0.99743  0.97567\n",
       "12        60    0.99775  0.97597\n",
       "13        65    0.99799  0.97579\n",
       "14        70    0.99822  0.97633\n",
       "15        75    0.99837  0.97675\n",
       "16        80    0.99849  0.97769\n",
       "17        85    0.99866  0.97813\n",
       "18        90    0.99877  0.97847\n",
       "19        95    0.99886  0.97814\n",
       "20       100    0.99894  0.97798\n",
       "21       105    0.99902  0.97834\n",
       "22       110    0.99906  0.97853\n",
       "23       115    0.99916  0.97841\n",
       "24       120    0.99925  0.97888\n",
       "25       125    0.99934  0.97887\n",
       "26       130    0.99941  0.97888\n",
       "27       135    0.99945  0.97898\n",
       "28       140    0.99953  0.97887\n",
       "29       145    0.99958  0.97877\n",
       "30       150    0.99961  0.97872\n",
       "31       155    0.99964  0.97862\n",
       "32       160    0.99968  0.97877\n",
       "33       165    0.99971  0.97885\n",
       "34       170    0.99975  0.97886\n",
       "35       175    0.99978  0.97877\n",
       "36       180    0.99981  0.97872\n",
       "37       185    0.99983  0.97876\n",
       "38       190    0.99984  0.97888\n",
       "39       195    0.99985  0.97890\n",
       "40       199    0.99987  0.97896"
      ]
     },
     "execution_count": 99,
     "metadata": {},
     "output_type": "execute_result"
    }
   ],
   "source": [
    "scores['eta=0.05']"
   ]
  },
  {
   "cell_type": "markdown",
   "id": "9ff53759-1c67-4c01-81f9-59d5847ecac7",
   "metadata": {},
   "source": [
    "---\n",
    "Eta = 0.01"
   ]
  },
  {
   "cell_type": "code",
   "execution_count": 100,
   "id": "15e53ea6-ca10-4f32-9497-5ec954cb0d59",
   "metadata": {},
   "outputs": [],
   "source": [
    "%%capture output\n",
    "\n",
    "xgb_params = {\n",
    "    'eta': 0.01,\n",
    "    'max_depth': 6,\n",
    "    'min_child_weight': 1,\n",
    "\n",
    "    'objective': 'binary:logistic',\n",
    "    'eval_metric': 'auc',\n",
    "\n",
    "    'seed': 39,\n",
    "    'verbosity': 1\n",
    "}\n",
    "\n",
    "model = xgb.train(xgb_params, dtrain, num_boost_round=200,\n",
    "                  verbose_eval=5,\n",
    "                  evals=watchlist)"
   ]
  },
  {
   "cell_type": "code",
   "execution_count": 101,
   "id": "18b7e893-b67c-4a4b-a61d-6917a3835e88",
   "metadata": {},
   "outputs": [
    {
     "data": {
      "text/plain": [
       "'eta=0.01'"
      ]
     },
     "execution_count": 101,
     "metadata": {},
     "output_type": "execute_result"
    }
   ],
   "source": [
    "key = 'eta=%s' % (xgb_params['eta'])\n",
    "scores[key] = parse_xgb_output(output)\n",
    "key"
   ]
  },
  {
   "cell_type": "code",
   "execution_count": 102,
   "id": "f9fa5e7e-e9ed-4b84-8968-4111bc2a43c4",
   "metadata": {},
   "outputs": [
    {
     "data": {
      "text/html": [
       "<div>\n",
       "<style scoped>\n",
       "    .dataframe tbody tr th:only-of-type {\n",
       "        vertical-align: middle;\n",
       "    }\n",
       "\n",
       "    .dataframe tbody tr th {\n",
       "        vertical-align: top;\n",
       "    }\n",
       "\n",
       "    .dataframe thead th {\n",
       "        text-align: right;\n",
       "    }\n",
       "</style>\n",
       "<table border=\"1\" class=\"dataframe\">\n",
       "  <thead>\n",
       "    <tr style=\"text-align: right;\">\n",
       "      <th></th>\n",
       "      <th>num_iter</th>\n",
       "      <th>train_auc</th>\n",
       "      <th>val_auc</th>\n",
       "    </tr>\n",
       "  </thead>\n",
       "  <tbody>\n",
       "    <tr>\n",
       "      <th>0</th>\n",
       "      <td>0</td>\n",
       "      <td>0.94753</td>\n",
       "      <td>0.94269</td>\n",
       "    </tr>\n",
       "    <tr>\n",
       "      <th>1</th>\n",
       "      <td>5</td>\n",
       "      <td>0.95710</td>\n",
       "      <td>0.94536</td>\n",
       "    </tr>\n",
       "    <tr>\n",
       "      <th>2</th>\n",
       "      <td>10</td>\n",
       "      <td>0.95768</td>\n",
       "      <td>0.94542</td>\n",
       "    </tr>\n",
       "    <tr>\n",
       "      <th>3</th>\n",
       "      <td>15</td>\n",
       "      <td>0.96387</td>\n",
       "      <td>0.95160</td>\n",
       "    </tr>\n",
       "    <tr>\n",
       "      <th>4</th>\n",
       "      <td>20</td>\n",
       "      <td>0.96403</td>\n",
       "      <td>0.95158</td>\n",
       "    </tr>\n",
       "    <tr>\n",
       "      <th>5</th>\n",
       "      <td>25</td>\n",
       "      <td>0.96414</td>\n",
       "      <td>0.95164</td>\n",
       "    </tr>\n",
       "    <tr>\n",
       "      <th>6</th>\n",
       "      <td>30</td>\n",
       "      <td>0.96730</td>\n",
       "      <td>0.95149</td>\n",
       "    </tr>\n",
       "    <tr>\n",
       "      <th>7</th>\n",
       "      <td>35</td>\n",
       "      <td>0.96737</td>\n",
       "      <td>0.95142</td>\n",
       "    </tr>\n",
       "    <tr>\n",
       "      <th>8</th>\n",
       "      <td>40</td>\n",
       "      <td>0.96837</td>\n",
       "      <td>0.95123</td>\n",
       "    </tr>\n",
       "    <tr>\n",
       "      <th>9</th>\n",
       "      <td>45</td>\n",
       "      <td>0.97442</td>\n",
       "      <td>0.95083</td>\n",
       "    </tr>\n",
       "    <tr>\n",
       "      <th>10</th>\n",
       "      <td>50</td>\n",
       "      <td>0.97445</td>\n",
       "      <td>0.95379</td>\n",
       "    </tr>\n",
       "    <tr>\n",
       "      <th>11</th>\n",
       "      <td>55</td>\n",
       "      <td>0.97452</td>\n",
       "      <td>0.95380</td>\n",
       "    </tr>\n",
       "    <tr>\n",
       "      <th>12</th>\n",
       "      <td>60</td>\n",
       "      <td>0.98020</td>\n",
       "      <td>0.95555</td>\n",
       "    </tr>\n",
       "    <tr>\n",
       "      <th>13</th>\n",
       "      <td>65</td>\n",
       "      <td>0.98219</td>\n",
       "      <td>0.96113</td>\n",
       "    </tr>\n",
       "    <tr>\n",
       "      <th>14</th>\n",
       "      <td>70</td>\n",
       "      <td>0.98335</td>\n",
       "      <td>0.96094</td>\n",
       "    </tr>\n",
       "    <tr>\n",
       "      <th>15</th>\n",
       "      <td>75</td>\n",
       "      <td>0.98340</td>\n",
       "      <td>0.96101</td>\n",
       "    </tr>\n",
       "    <tr>\n",
       "      <th>16</th>\n",
       "      <td>80</td>\n",
       "      <td>0.98348</td>\n",
       "      <td>0.96108</td>\n",
       "    </tr>\n",
       "    <tr>\n",
       "      <th>17</th>\n",
       "      <td>85</td>\n",
       "      <td>0.98358</td>\n",
       "      <td>0.96104</td>\n",
       "    </tr>\n",
       "    <tr>\n",
       "      <th>18</th>\n",
       "      <td>90</td>\n",
       "      <td>0.98371</td>\n",
       "      <td>0.96109</td>\n",
       "    </tr>\n",
       "    <tr>\n",
       "      <th>19</th>\n",
       "      <td>95</td>\n",
       "      <td>0.98382</td>\n",
       "      <td>0.96108</td>\n",
       "    </tr>\n",
       "    <tr>\n",
       "      <th>20</th>\n",
       "      <td>100</td>\n",
       "      <td>0.98392</td>\n",
       "      <td>0.96115</td>\n",
       "    </tr>\n",
       "    <tr>\n",
       "      <th>21</th>\n",
       "      <td>105</td>\n",
       "      <td>0.98407</td>\n",
       "      <td>0.96116</td>\n",
       "    </tr>\n",
       "    <tr>\n",
       "      <th>22</th>\n",
       "      <td>110</td>\n",
       "      <td>0.98411</td>\n",
       "      <td>0.96123</td>\n",
       "    </tr>\n",
       "    <tr>\n",
       "      <th>23</th>\n",
       "      <td>115</td>\n",
       "      <td>0.98416</td>\n",
       "      <td>0.96126</td>\n",
       "    </tr>\n",
       "    <tr>\n",
       "      <th>24</th>\n",
       "      <td>120</td>\n",
       "      <td>0.98420</td>\n",
       "      <td>0.96132</td>\n",
       "    </tr>\n",
       "    <tr>\n",
       "      <th>25</th>\n",
       "      <td>125</td>\n",
       "      <td>0.98415</td>\n",
       "      <td>0.96125</td>\n",
       "    </tr>\n",
       "    <tr>\n",
       "      <th>26</th>\n",
       "      <td>130</td>\n",
       "      <td>0.98599</td>\n",
       "      <td>0.96654</td>\n",
       "    </tr>\n",
       "    <tr>\n",
       "      <th>27</th>\n",
       "      <td>135</td>\n",
       "      <td>0.98611</td>\n",
       "      <td>0.96677</td>\n",
       "    </tr>\n",
       "    <tr>\n",
       "      <th>28</th>\n",
       "      <td>140</td>\n",
       "      <td>0.98699</td>\n",
       "      <td>0.96624</td>\n",
       "    </tr>\n",
       "    <tr>\n",
       "      <th>29</th>\n",
       "      <td>145</td>\n",
       "      <td>0.99128</td>\n",
       "      <td>0.96680</td>\n",
       "    </tr>\n",
       "    <tr>\n",
       "      <th>30</th>\n",
       "      <td>150</td>\n",
       "      <td>0.99170</td>\n",
       "      <td>0.96935</td>\n",
       "    </tr>\n",
       "    <tr>\n",
       "      <th>31</th>\n",
       "      <td>155</td>\n",
       "      <td>0.99187</td>\n",
       "      <td>0.96923</td>\n",
       "    </tr>\n",
       "    <tr>\n",
       "      <th>32</th>\n",
       "      <td>160</td>\n",
       "      <td>0.99213</td>\n",
       "      <td>0.96906</td>\n",
       "    </tr>\n",
       "    <tr>\n",
       "      <th>33</th>\n",
       "      <td>165</td>\n",
       "      <td>0.99230</td>\n",
       "      <td>0.96898</td>\n",
       "    </tr>\n",
       "    <tr>\n",
       "      <th>34</th>\n",
       "      <td>170</td>\n",
       "      <td>0.99247</td>\n",
       "      <td>0.96880</td>\n",
       "    </tr>\n",
       "    <tr>\n",
       "      <th>35</th>\n",
       "      <td>175</td>\n",
       "      <td>0.99260</td>\n",
       "      <td>0.96857</td>\n",
       "    </tr>\n",
       "    <tr>\n",
       "      <th>36</th>\n",
       "      <td>180</td>\n",
       "      <td>0.99271</td>\n",
       "      <td>0.96861</td>\n",
       "    </tr>\n",
       "    <tr>\n",
       "      <th>37</th>\n",
       "      <td>185</td>\n",
       "      <td>0.99278</td>\n",
       "      <td>0.97134</td>\n",
       "    </tr>\n",
       "    <tr>\n",
       "      <th>38</th>\n",
       "      <td>190</td>\n",
       "      <td>0.99289</td>\n",
       "      <td>0.97139</td>\n",
       "    </tr>\n",
       "    <tr>\n",
       "      <th>39</th>\n",
       "      <td>195</td>\n",
       "      <td>0.99289</td>\n",
       "      <td>0.97349</td>\n",
       "    </tr>\n",
       "    <tr>\n",
       "      <th>40</th>\n",
       "      <td>199</td>\n",
       "      <td>0.99380</td>\n",
       "      <td>0.97347</td>\n",
       "    </tr>\n",
       "  </tbody>\n",
       "</table>\n",
       "</div>"
      ],
      "text/plain": [
       "    num_iter  train_auc  val_auc\n",
       "0          0    0.94753  0.94269\n",
       "1          5    0.95710  0.94536\n",
       "2         10    0.95768  0.94542\n",
       "3         15    0.96387  0.95160\n",
       "4         20    0.96403  0.95158\n",
       "5         25    0.96414  0.95164\n",
       "6         30    0.96730  0.95149\n",
       "7         35    0.96737  0.95142\n",
       "8         40    0.96837  0.95123\n",
       "9         45    0.97442  0.95083\n",
       "10        50    0.97445  0.95379\n",
       "11        55    0.97452  0.95380\n",
       "12        60    0.98020  0.95555\n",
       "13        65    0.98219  0.96113\n",
       "14        70    0.98335  0.96094\n",
       "15        75    0.98340  0.96101\n",
       "16        80    0.98348  0.96108\n",
       "17        85    0.98358  0.96104\n",
       "18        90    0.98371  0.96109\n",
       "19        95    0.98382  0.96108\n",
       "20       100    0.98392  0.96115\n",
       "21       105    0.98407  0.96116\n",
       "22       110    0.98411  0.96123\n",
       "23       115    0.98416  0.96126\n",
       "24       120    0.98420  0.96132\n",
       "25       125    0.98415  0.96125\n",
       "26       130    0.98599  0.96654\n",
       "27       135    0.98611  0.96677\n",
       "28       140    0.98699  0.96624\n",
       "29       145    0.99128  0.96680\n",
       "30       150    0.99170  0.96935\n",
       "31       155    0.99187  0.96923\n",
       "32       160    0.99213  0.96906\n",
       "33       165    0.99230  0.96898\n",
       "34       170    0.99247  0.96880\n",
       "35       175    0.99260  0.96857\n",
       "36       180    0.99271  0.96861\n",
       "37       185    0.99278  0.97134\n",
       "38       190    0.99289  0.97139\n",
       "39       195    0.99289  0.97349\n",
       "40       199    0.99380  0.97347"
      ]
     },
     "execution_count": 102,
     "metadata": {},
     "output_type": "execute_result"
    }
   ],
   "source": [
    "scores['eta=0.01']"
   ]
  },
  {
   "cell_type": "markdown",
   "id": "064a7ac5-dcb5-4819-9fa9-ad361983bd9b",
   "metadata": {},
   "source": [
    "**Plotting Eta**"
   ]
  },
  {
   "cell_type": "code",
   "execution_count": 103,
   "id": "386d5824-86d9-4e55-ba5d-fcfa91d4b635",
   "metadata": {},
   "outputs": [
    {
     "data": {
      "text/plain": [
       "dict_keys(['eta=0.3', 'eta=1.0', 'eta=0.1', 'eta=0.05', 'eta=0.01'])"
      ]
     },
     "execution_count": 103,
     "metadata": {},
     "output_type": "execute_result"
    }
   ],
   "source": [
    "scores.keys()"
   ]
  },
  {
   "cell_type": "code",
   "execution_count": 104,
   "id": "1c6f40c2-b9e7-470d-b790-0f2d7c2a7baf",
   "metadata": {},
   "outputs": [
    {
     "data": {
      "text/plain": [
       "<matplotlib.legend.Legend at 0x27dc065c9d0>"
      ]
     },
     "execution_count": 104,
     "metadata": {},
     "output_type": "execute_result"
    },
    {
     "data": {
      "image/png": "[encoded data removed]",
      "text/plain": [
       "<Figure size 640x480 with 1 Axes>"
      ]
     },
     "metadata": {},
     "output_type": "display_data"
    }
   ],
   "source": [
    "for key, df_score in scores.items():\n",
    "    plt.plot(df_score.num_iter, df_score.val_auc, label=key)\n",
    "plt.legend()"
   ]
  },
  {
   "cell_type": "markdown",
   "id": "8a461aea-5032-4200-86de-4e765f8c2a7c",
   "metadata": {},
   "source": [
    "Look at extrem and middle curves :"
   ]
  },
  {
   "cell_type": "code",
   "execution_count": 105,
   "id": "0f96868b-e9ae-4e0e-b948-d10e03dd6b3e",
   "metadata": {},
   "outputs": [
    {
     "data": {
      "text/plain": [
       "<matplotlib.legend.Legend at 0x27dc0750b10>"
      ]
     },
     "execution_count": 105,
     "metadata": {},
     "output_type": "execute_result"
    },
    {
     "data": {
      "image/png": "[encoded data removed]",
      "text/plain": [
       "<Figure size 640x480 with 1 Axes>"
      ]
     },
     "metadata": {},
     "output_type": "display_data"
    }
   ],
   "source": [
    "etas = ['eta=0.01', 'eta=0.05', 'eta=0.1']\n",
    "for eta in etas:\n",
    "    df_score = scores[eta]\n",
    "    plt.plot(df_score.num_iter, df_score.val_auc, label=eta)\n",
    "plt.legend()"
   ]
  },
  {
   "cell_type": "markdown",
   "id": "38394b4f-8769-45de-832c-6eb78e748aa2",
   "metadata": {},
   "source": [
    "The '**eta=0.1**' model appears to be the best choice.\n",
    "\n",
    "**Tuning max_depth**\n",
    "\n",
    "max_depth=6"
   ]
  },
  {
   "cell_type": "code",
   "execution_count": 106,
   "id": "d6e6e61b-fb48-4735-a91b-922027fa55a5",
   "metadata": {},
   "outputs": [],
   "source": [
    "scores = {}"
   ]
  },
  {
   "cell_type": "code",
   "execution_count": 107,
   "id": "5a41d588-d5b4-468d-81b8-6ede22bbafa5",
   "metadata": {},
   "outputs": [],
   "source": [
    "%%capture output\n",
    "\n",
    "xgb_params = {\n",
    "    'eta': 0.1,\n",
    "    'max_depth': 6,\n",
    "    'min_child_weight': 1,\n",
    "\n",
    "    'objective': 'binary:logistic',\n",
    "    'eval_metric': 'auc',\n",
    "\n",
    "    'seed': 39,\n",
    "    'verbosity': 1\n",
    "}\n",
    "\n",
    "model = xgb.train(xgb_params, dtrain, num_boost_round=200,\n",
    "                  verbose_eval=5,\n",
    "                  evals=watchlist)"
   ]
  },
  {
   "cell_type": "code",
   "execution_count": 108,
   "id": "f323f5c6-c6ba-481d-a6e4-7a6e99cf620b",
   "metadata": {},
   "outputs": [
    {
     "data": {
      "text/plain": [
       "'max_depth=6'"
      ]
     },
     "execution_count": 108,
     "metadata": {},
     "output_type": "execute_result"
    }
   ],
   "source": [
    "key = 'max_depth=%s' % (xgb_params['max_depth'])\n",
    "scores[key] = parse_xgb_output(output)\n",
    "key"
   ]
  },
  {
   "cell_type": "markdown",
   "id": "9a132094-a449-42c0-bf03-c1da7072175c",
   "metadata": {},
   "source": [
    "---\n",
    "max_depth=3"
   ]
  },
  {
   "cell_type": "code",
   "execution_count": 109,
   "id": "f1feee09-f219-4791-bcf8-3f8ece1f90a3",
   "metadata": {},
   "outputs": [],
   "source": [
    "%%capture output\n",
    "\n",
    "xgb_params = {\n",
    "    'eta': 0.1,\n",
    "    'max_depth': 3,\n",
    "    'min_child_weight': 1,\n",
    "\n",
    "    'objective': 'binary:logistic',\n",
    "    'eval_metric': 'auc',\n",
    "\n",
    "    'seed': 39,\n",
    "    'verbosity': 1\n",
    "}\n",
    "\n",
    "model = xgb.train(xgb_params, dtrain, num_boost_round=200,\n",
    "                  verbose_eval=5,\n",
    "                  evals=watchlist)"
   ]
  },
  {
   "cell_type": "code",
   "execution_count": 110,
   "id": "b69e72ea-88fb-412f-986c-090906fcec0b",
   "metadata": {},
   "outputs": [
    {
     "data": {
      "text/plain": [
       "'max_depth=3'"
      ]
     },
     "execution_count": 110,
     "metadata": {},
     "output_type": "execute_result"
    }
   ],
   "source": [
    "key = 'max_depth=%s' % (xgb_params['max_depth'])\n",
    "scores[key] = parse_xgb_output(output)\n",
    "key"
   ]
  },
  {
   "cell_type": "markdown",
   "id": "06914d95-02df-4243-8832-0d5f39e04e29",
   "metadata": {},
   "source": [
    "---\n",
    "max_depth=4"
   ]
  },
  {
   "cell_type": "code",
   "execution_count": 111,
   "id": "461f1d8a-76be-4a01-b828-3c7c2cece801",
   "metadata": {},
   "outputs": [],
   "source": [
    "%%capture output\n",
    "\n",
    "xgb_params = {\n",
    "    'eta': 0.1,\n",
    "    'max_depth': 4,\n",
    "    'min_child_weight': 1,\n",
    "\n",
    "    'objective': 'binary:logistic',\n",
    "    'eval_metric': 'auc',\n",
    "\n",
    "    'seed': 39,\n",
    "    'verbosity': 1\n",
    "}\n",
    "\n",
    "model = xgb.train(xgb_params, dtrain, num_boost_round=200,\n",
    "                  verbose_eval=5,\n",
    "                  evals=watchlist)"
   ]
  },
  {
   "cell_type": "code",
   "execution_count": 112,
   "id": "a4b01ce6-84c9-4678-ae3e-0b4f89325b75",
   "metadata": {},
   "outputs": [
    {
     "data": {
      "text/plain": [
       "'max_depth=4'"
      ]
     },
     "execution_count": 112,
     "metadata": {},
     "output_type": "execute_result"
    }
   ],
   "source": [
    "key = 'max_depth=%s' % (xgb_params['max_depth'])\n",
    "scores[key] = parse_xgb_output(output)\n",
    "key"
   ]
  },
  {
   "cell_type": "markdown",
   "id": "fd562f2f-6564-4646-97a3-756fa61b5cb8",
   "metadata": {},
   "source": [
    "---\n",
    "max_depth=5"
   ]
  },
  {
   "cell_type": "code",
   "execution_count": 113,
   "id": "11b9b2ad-c8bd-4c45-a30d-f4244ac11587",
   "metadata": {},
   "outputs": [],
   "source": [
    "%%capture output\n",
    "\n",
    "xgb_params = {\n",
    "    'eta': 0.1,\n",
    "    'max_depth': 5,\n",
    "    'min_child_weight': 1,\n",
    "\n",
    "    'objective': 'binary:logistic',\n",
    "    'eval_metric': 'auc',\n",
    "\n",
    "    'seed': 39,\n",
    "    'verbosity': 1\n",
    "}\n",
    "\n",
    "model = xgb.train(xgb_params, dtrain, num_boost_round=200,\n",
    "                  verbose_eval=5,\n",
    "                  evals=watchlist)"
   ]
  },
  {
   "cell_type": "code",
   "execution_count": 114,
   "id": "fcf214ff-4792-4c68-9985-8a723517b043",
   "metadata": {},
   "outputs": [
    {
     "data": {
      "text/plain": [
       "'max_depth=5'"
      ]
     },
     "execution_count": 114,
     "metadata": {},
     "output_type": "execute_result"
    }
   ],
   "source": [
    "key = 'max_depth=%s' % (xgb_params['max_depth'])\n",
    "scores[key] = parse_xgb_output(output)\n",
    "key"
   ]
  },
  {
   "cell_type": "markdown",
   "id": "b3355396-24c9-4ff4-9ffc-2141bf0b7a4c",
   "metadata": {},
   "source": [
    "---\n",
    "max_depth=10"
   ]
  },
  {
   "cell_type": "code",
   "execution_count": 115,
   "id": "9e5d3ee1-e744-408e-8fd5-20277f3fe74c",
   "metadata": {},
   "outputs": [],
   "source": [
    "%%capture output\n",
    "\n",
    "xgb_params = {\n",
    "    'eta': 0.1,\n",
    "    'max_depth': 10,\n",
    "    'min_child_weight': 1,\n",
    "\n",
    "    'objective': 'binary:logistic',\n",
    "    'eval_metric': 'auc',\n",
    "\n",
    "    'seed': 39,\n",
    "    'verbosity': 1\n",
    "}\n",
    "\n",
    "model = xgb.train(xgb_params, dtrain, num_boost_round=200,\n",
    "                  verbose_eval=5,\n",
    "                  evals=watchlist)"
   ]
  },
  {
   "cell_type": "code",
   "execution_count": 116,
   "id": "8a14fe83-399b-4a47-80f8-b44e2e5515d1",
   "metadata": {},
   "outputs": [
    {
     "data": {
      "text/plain": [
       "'max_depth=10'"
      ]
     },
     "execution_count": 116,
     "metadata": {},
     "output_type": "execute_result"
    }
   ],
   "source": [
    "key = 'max_depth=%s' % (xgb_params['max_depth'])\n",
    "scores[key] = parse_xgb_output(output)\n",
    "key"
   ]
  },
  {
   "cell_type": "markdown",
   "id": "57c4f4b2-caa9-4ee4-852a-d14b24d8a8f1",
   "metadata": {},
   "source": [
    "**Plotting max_depth**"
   ]
  },
  {
   "cell_type": "code",
   "execution_count": 117,
   "id": "5d98631e-3efc-494c-8d1b-ffcf94869f40",
   "metadata": {},
   "outputs": [
    {
     "data": {
      "text/plain": [
       "<matplotlib.legend.Legend at 0x27dc06dc1d0>"
      ]
     },
     "execution_count": 117,
     "metadata": {},
     "output_type": "execute_result"
    },
    {
     "data": {
      "image/png": "[encoded data removed]",
      "text/plain": [
       "<Figure size 640x480 with 1 Axes>"
      ]
     },
     "metadata": {},
     "output_type": "display_data"
    }
   ],
   "source": [
    "for max_depth, df_score in scores.items():\n",
    "    plt.plot(df_score.num_iter, df_score.val_auc, label=max_depth)\n",
    "plt.legend()"
   ]
  },
  {
   "cell_type": "markdown",
   "id": "2ae1caa6-7074-48c9-b1d3-0632c9786c18",
   "metadata": {},
   "source": [
    "Let's have a focus :"
   ]
  },
  {
   "cell_type": "code",
   "execution_count": 118,
   "id": "ab493d7d-0926-422c-a1e1-e0e29b3ab0ac",
   "metadata": {},
   "outputs": [
    {
     "data": {
      "text/plain": [
       "<matplotlib.legend.Legend at 0x27dc09c88d0>"
      ]
     },
     "execution_count": 118,
     "metadata": {},
     "output_type": "execute_result"
    },
    {
     "data": {
      "image/png": "[encoded data removed]",
      "text/plain": [
       "<Figure size 640x480 with 1 Axes>"
      ]
     },
     "metadata": {},
     "output_type": "display_data"
    }
   ],
   "source": [
    "for max_depth, df_score in scores.items():\n",
    "    plt.plot(df_score.num_iter, df_score.val_auc, label=max_depth)\n",
    "\n",
    "plt.ylim(0.978, 0.982)\n",
    "plt.legend()"
   ]
  },
  {
   "cell_type": "markdown",
   "id": "74fc653b-e98e-41cd-b50a-c5f19a2f11cc",
   "metadata": {},
   "source": [
    "'**max_depth=10**' is now fixed.\n",
    "\n",
    "**Tuning min_child_weight**\n",
    "\n",
    "min_child_weight=1"
   ]
  },
  {
   "cell_type": "code",
   "execution_count": 119,
   "id": "4d615ece-87cf-4033-88c9-af2c95ad4465",
   "metadata": {},
   "outputs": [],
   "source": [
    "scores = {}"
   ]
  },
  {
   "cell_type": "code",
   "execution_count": 120,
   "id": "0f52cd5b-57f2-45c3-8ca5-e67ea9257c6d",
   "metadata": {},
   "outputs": [],
   "source": [
    "%%capture output\n",
    "\n",
    "xgb_params = {\n",
    "    'eta': 0.1,\n",
    "    'max_depth': 10,\n",
    "    'min_child_weight': 1,\n",
    "\n",
    "    'objective': 'binary:logistic',\n",
    "    'eval_metric': 'auc',\n",
    "\n",
    "    'seed': 39,\n",
    "    'verbosity': 1\n",
    "}\n",
    "\n",
    "model = xgb.train(xgb_params, dtrain, num_boost_round=200,\n",
    "                  verbose_eval=5,\n",
    "                  evals=watchlist)"
   ]
  },
  {
   "cell_type": "code",
   "execution_count": 121,
   "id": "32e4a138-7644-449e-af8b-3ddaa04f4bd7",
   "metadata": {},
   "outputs": [
    {
     "data": {
      "text/plain": [
       "'min_child_weight=1'"
      ]
     },
     "execution_count": 121,
     "metadata": {},
     "output_type": "execute_result"
    }
   ],
   "source": [
    "key = 'min_child_weight=%s' % (xgb_params['min_child_weight'])\n",
    "scores[key] = parse_xgb_output(output)\n",
    "key"
   ]
  },
  {
   "cell_type": "markdown",
   "id": "37ee3641-d80a-408e-99b8-a33a8bc43376",
   "metadata": {},
   "source": [
    "---\n",
    "min_child_weight=10"
   ]
  },
  {
   "cell_type": "code",
   "execution_count": 122,
   "id": "557509d9-7ba1-4c7a-9878-9aa3cdcd53e7",
   "metadata": {},
   "outputs": [],
   "source": [
    "%%capture output\n",
    "\n",
    "xgb_params = {\n",
    "    'eta': 0.1,\n",
    "    'max_depth': 10,\n",
    "    'min_child_weight': 10,\n",
    "\n",
    "    'objective': 'binary:logistic',\n",
    "    'eval_metric': 'auc',\n",
    "\n",
    "    'seed': 39,\n",
    "    'verbosity': 1\n",
    "}\n",
    "\n",
    "model = xgb.train(xgb_params, dtrain, num_boost_round=200,\n",
    "                  verbose_eval=5,\n",
    "                  evals=watchlist)"
   ]
  },
  {
   "cell_type": "code",
   "execution_count": 123,
   "id": "4fa18227-0089-430f-a777-0ba606577acc",
   "metadata": {},
   "outputs": [
    {
     "data": {
      "text/plain": [
       "'min_child_weight=10'"
      ]
     },
     "execution_count": 123,
     "metadata": {},
     "output_type": "execute_result"
    }
   ],
   "source": [
    "key = 'min_child_weight=%s' % (xgb_params['min_child_weight'])\n",
    "scores[key] = parse_xgb_output(output)\n",
    "key"
   ]
  },
  {
   "cell_type": "markdown",
   "id": "938105cf-07f1-4e50-89a8-633d3254de14",
   "metadata": {},
   "source": [
    "---\n",
    "min_child_weight=10"
   ]
  },
  {
   "cell_type": "code",
   "execution_count": 124,
   "id": "7d6f6c90-ce2d-4900-9246-03f2e4c179cc",
   "metadata": {},
   "outputs": [],
   "source": [
    "%%capture output\n",
    "\n",
    "xgb_params = {\n",
    "    'eta': 0.1,\n",
    "    'max_depth': 10,\n",
    "    'min_child_weight': 30,\n",
    "\n",
    "    'objective': 'binary:logistic',\n",
    "    'eval_metric': 'auc',\n",
    "\n",
    "    'seed': 39,\n",
    "    'verbosity': 1\n",
    "}\n",
    "\n",
    "model = xgb.train(xgb_params, dtrain, num_boost_round=200,\n",
    "                  verbose_eval=5,\n",
    "                  evals=watchlist)"
   ]
  },
  {
   "cell_type": "code",
   "execution_count": 125,
   "id": "bfe8956a-9eb5-4594-a30e-96408027b15e",
   "metadata": {},
   "outputs": [
    {
     "data": {
      "text/plain": [
       "'min_child_weight=30'"
      ]
     },
     "execution_count": 125,
     "metadata": {},
     "output_type": "execute_result"
    }
   ],
   "source": [
    "key = 'min_child_weight=%s' % (xgb_params['min_child_weight'])\n",
    "scores[key] = parse_xgb_output(output)\n",
    "key"
   ]
  },
  {
   "cell_type": "markdown",
   "id": "230999e9-c228-420b-b6d7-de35cfcd203f",
   "metadata": {},
   "source": [
    "**Plotting min_child_weight**"
   ]
  },
  {
   "cell_type": "code",
   "execution_count": 126,
   "id": "c47bb268-e662-40c5-83eb-5ccfbbe46d4b",
   "metadata": {},
   "outputs": [
    {
     "data": {
      "text/plain": [
       "<matplotlib.legend.Legend at 0x27dc0751b50>"
      ]
     },
     "execution_count": 126,
     "metadata": {},
     "output_type": "execute_result"
    },
    {
     "data": {
      "image/png": "[encoded data removed]",
      "text/plain": [
       "<Figure size 640x480 with 1 Axes>"
      ]
     },
     "metadata": {},
     "output_type": "display_data"
    }
   ],
   "source": [
    "for min_child_weight, df_score in scores.items():\n",
    "    plt.plot(df_score.num_iter, df_score.val_auc, label=min_child_weight)\n",
    "plt.ylim(0.978, 0.984)\n",
    "plt.legend()"
   ]
  },
  {
   "cell_type": "markdown",
   "id": "28f2a5ea-2ece-46f4-9ae1-0b0d0e9edddf",
   "metadata": {},
   "source": [
    "'**min_child_weight=10**' is the best choice."
   ]
  },
  {
   "cell_type": "code",
   "execution_count": 127,
   "id": "32654a1b-53d2-4bc8-8445-1c8a407b5cfc",
   "metadata": {},
   "outputs": [
    {
     "data": {
      "text/html": [
       "<div>\n",
       "<style scoped>\n",
       "    .dataframe tbody tr th:only-of-type {\n",
       "        vertical-align: middle;\n",
       "    }\n",
       "\n",
       "    .dataframe tbody tr th {\n",
       "        vertical-align: top;\n",
       "    }\n",
       "\n",
       "    .dataframe thead th {\n",
       "        text-align: right;\n",
       "    }\n",
       "</style>\n",
       "<table border=\"1\" class=\"dataframe\">\n",
       "  <thead>\n",
       "    <tr style=\"text-align: right;\">\n",
       "      <th></th>\n",
       "      <th>num_iter</th>\n",
       "      <th>train_auc</th>\n",
       "      <th>val_auc</th>\n",
       "    </tr>\n",
       "  </thead>\n",
       "  <tbody>\n",
       "    <tr>\n",
       "      <th>0</th>\n",
       "      <td>0</td>\n",
       "      <td>0.97849</td>\n",
       "      <td>0.95835</td>\n",
       "    </tr>\n",
       "    <tr>\n",
       "      <th>1</th>\n",
       "      <td>5</td>\n",
       "      <td>0.98552</td>\n",
       "      <td>0.96063</td>\n",
       "    </tr>\n",
       "    <tr>\n",
       "      <th>2</th>\n",
       "      <td>10</td>\n",
       "      <td>0.98974</td>\n",
       "      <td>0.96674</td>\n",
       "    </tr>\n",
       "    <tr>\n",
       "      <th>3</th>\n",
       "      <td>15</td>\n",
       "      <td>0.99173</td>\n",
       "      <td>0.97309</td>\n",
       "    </tr>\n",
       "    <tr>\n",
       "      <th>4</th>\n",
       "      <td>20</td>\n",
       "      <td>0.99277</td>\n",
       "      <td>0.97382</td>\n",
       "    </tr>\n",
       "    <tr>\n",
       "      <th>5</th>\n",
       "      <td>25</td>\n",
       "      <td>0.99363</td>\n",
       "      <td>0.97810</td>\n",
       "    </tr>\n",
       "    <tr>\n",
       "      <th>6</th>\n",
       "      <td>30</td>\n",
       "      <td>0.99421</td>\n",
       "      <td>0.98018</td>\n",
       "    </tr>\n",
       "    <tr>\n",
       "      <th>7</th>\n",
       "      <td>35</td>\n",
       "      <td>0.99471</td>\n",
       "      <td>0.97990</td>\n",
       "    </tr>\n",
       "    <tr>\n",
       "      <th>8</th>\n",
       "      <td>40</td>\n",
       "      <td>0.99515</td>\n",
       "      <td>0.98039</td>\n",
       "    </tr>\n",
       "    <tr>\n",
       "      <th>9</th>\n",
       "      <td>45</td>\n",
       "      <td>0.99549</td>\n",
       "      <td>0.98023</td>\n",
       "    </tr>\n",
       "    <tr>\n",
       "      <th>10</th>\n",
       "      <td>50</td>\n",
       "      <td>0.99585</td>\n",
       "      <td>0.97985</td>\n",
       "    </tr>\n",
       "    <tr>\n",
       "      <th>11</th>\n",
       "      <td>55</td>\n",
       "      <td>0.99610</td>\n",
       "      <td>0.98011</td>\n",
       "    </tr>\n",
       "    <tr>\n",
       "      <th>12</th>\n",
       "      <td>60</td>\n",
       "      <td>0.99632</td>\n",
       "      <td>0.98000</td>\n",
       "    </tr>\n",
       "    <tr>\n",
       "      <th>13</th>\n",
       "      <td>65</td>\n",
       "      <td>0.99650</td>\n",
       "      <td>0.98023</td>\n",
       "    </tr>\n",
       "    <tr>\n",
       "      <th>14</th>\n",
       "      <td>70</td>\n",
       "      <td>0.99665</td>\n",
       "      <td>0.98027</td>\n",
       "    </tr>\n",
       "    <tr>\n",
       "      <th>15</th>\n",
       "      <td>75</td>\n",
       "      <td>0.99679</td>\n",
       "      <td>0.98065</td>\n",
       "    </tr>\n",
       "    <tr>\n",
       "      <th>16</th>\n",
       "      <td>80</td>\n",
       "      <td>0.99694</td>\n",
       "      <td>0.98100</td>\n",
       "    </tr>\n",
       "    <tr>\n",
       "      <th>17</th>\n",
       "      <td>85</td>\n",
       "      <td>0.99698</td>\n",
       "      <td>0.98144</td>\n",
       "    </tr>\n",
       "    <tr>\n",
       "      <th>18</th>\n",
       "      <td>90</td>\n",
       "      <td>0.99707</td>\n",
       "      <td>0.98136</td>\n",
       "    </tr>\n",
       "    <tr>\n",
       "      <th>19</th>\n",
       "      <td>95</td>\n",
       "      <td>0.99712</td>\n",
       "      <td>0.98148</td>\n",
       "    </tr>\n",
       "    <tr>\n",
       "      <th>20</th>\n",
       "      <td>100</td>\n",
       "      <td>0.99715</td>\n",
       "      <td>0.98162</td>\n",
       "    </tr>\n",
       "    <tr>\n",
       "      <th>21</th>\n",
       "      <td>105</td>\n",
       "      <td>0.99719</td>\n",
       "      <td>0.98154</td>\n",
       "    </tr>\n",
       "    <tr>\n",
       "      <th>22</th>\n",
       "      <td>110</td>\n",
       "      <td>0.99726</td>\n",
       "      <td>0.98157</td>\n",
       "    </tr>\n",
       "    <tr>\n",
       "      <th>23</th>\n",
       "      <td>115</td>\n",
       "      <td>0.99731</td>\n",
       "      <td>0.98171</td>\n",
       "    </tr>\n",
       "    <tr>\n",
       "      <th>24</th>\n",
       "      <td>120</td>\n",
       "      <td>0.99738</td>\n",
       "      <td>0.98169</td>\n",
       "    </tr>\n",
       "    <tr>\n",
       "      <th>25</th>\n",
       "      <td>125</td>\n",
       "      <td>0.99742</td>\n",
       "      <td>0.98183</td>\n",
       "    </tr>\n",
       "    <tr>\n",
       "      <th>26</th>\n",
       "      <td>130</td>\n",
       "      <td>0.99753</td>\n",
       "      <td>0.98184</td>\n",
       "    </tr>\n",
       "    <tr>\n",
       "      <th>27</th>\n",
       "      <td>135</td>\n",
       "      <td>0.99762</td>\n",
       "      <td>0.98184</td>\n",
       "    </tr>\n",
       "    <tr>\n",
       "      <th>28</th>\n",
       "      <td>140</td>\n",
       "      <td>0.99767</td>\n",
       "      <td>0.98188</td>\n",
       "    </tr>\n",
       "    <tr>\n",
       "      <th>29</th>\n",
       "      <td>145</td>\n",
       "      <td>0.99774</td>\n",
       "      <td>0.98181</td>\n",
       "    </tr>\n",
       "    <tr>\n",
       "      <th>30</th>\n",
       "      <td>150</td>\n",
       "      <td>0.99780</td>\n",
       "      <td>0.98184</td>\n",
       "    </tr>\n",
       "    <tr>\n",
       "      <th>31</th>\n",
       "      <td>155</td>\n",
       "      <td>0.99784</td>\n",
       "      <td>0.98187</td>\n",
       "    </tr>\n",
       "    <tr>\n",
       "      <th>32</th>\n",
       "      <td>160</td>\n",
       "      <td>0.99789</td>\n",
       "      <td>0.98213</td>\n",
       "    </tr>\n",
       "    <tr>\n",
       "      <th>33</th>\n",
       "      <td>165</td>\n",
       "      <td>0.99795</td>\n",
       "      <td>0.98204</td>\n",
       "    </tr>\n",
       "    <tr>\n",
       "      <th>34</th>\n",
       "      <td>170</td>\n",
       "      <td>0.99798</td>\n",
       "      <td>0.98210</td>\n",
       "    </tr>\n",
       "    <tr>\n",
       "      <th>35</th>\n",
       "      <td>175</td>\n",
       "      <td>0.99803</td>\n",
       "      <td>0.98212</td>\n",
       "    </tr>\n",
       "    <tr>\n",
       "      <th>36</th>\n",
       "      <td>180</td>\n",
       "      <td>0.99807</td>\n",
       "      <td>0.98202</td>\n",
       "    </tr>\n",
       "    <tr>\n",
       "      <th>37</th>\n",
       "      <td>185</td>\n",
       "      <td>0.99810</td>\n",
       "      <td>0.98196</td>\n",
       "    </tr>\n",
       "    <tr>\n",
       "      <th>38</th>\n",
       "      <td>190</td>\n",
       "      <td>0.99814</td>\n",
       "      <td>0.98191</td>\n",
       "    </tr>\n",
       "    <tr>\n",
       "      <th>39</th>\n",
       "      <td>195</td>\n",
       "      <td>0.99819</td>\n",
       "      <td>0.98207</td>\n",
       "    </tr>\n",
       "    <tr>\n",
       "      <th>40</th>\n",
       "      <td>199</td>\n",
       "      <td>0.99821</td>\n",
       "      <td>0.98210</td>\n",
       "    </tr>\n",
       "  </tbody>\n",
       "</table>\n",
       "</div>"
      ],
      "text/plain": [
       "    num_iter  train_auc  val_auc\n",
       "0          0    0.97849  0.95835\n",
       "1          5    0.98552  0.96063\n",
       "2         10    0.98974  0.96674\n",
       "3         15    0.99173  0.97309\n",
       "4         20    0.99277  0.97382\n",
       "5         25    0.99363  0.97810\n",
       "6         30    0.99421  0.98018\n",
       "7         35    0.99471  0.97990\n",
       "8         40    0.99515  0.98039\n",
       "9         45    0.99549  0.98023\n",
       "10        50    0.99585  0.97985\n",
       "11        55    0.99610  0.98011\n",
       "12        60    0.99632  0.98000\n",
       "13        65    0.99650  0.98023\n",
       "14        70    0.99665  0.98027\n",
       "15        75    0.99679  0.98065\n",
       "16        80    0.99694  0.98100\n",
       "17        85    0.99698  0.98144\n",
       "18        90    0.99707  0.98136\n",
       "19        95    0.99712  0.98148\n",
       "20       100    0.99715  0.98162\n",
       "21       105    0.99719  0.98154\n",
       "22       110    0.99726  0.98157\n",
       "23       115    0.99731  0.98171\n",
       "24       120    0.99738  0.98169\n",
       "25       125    0.99742  0.98183\n",
       "26       130    0.99753  0.98184\n",
       "27       135    0.99762  0.98184\n",
       "28       140    0.99767  0.98188\n",
       "29       145    0.99774  0.98181\n",
       "30       150    0.99780  0.98184\n",
       "31       155    0.99784  0.98187\n",
       "32       160    0.99789  0.98213\n",
       "33       165    0.99795  0.98204\n",
       "34       170    0.99798  0.98210\n",
       "35       175    0.99803  0.98212\n",
       "36       180    0.99807  0.98202\n",
       "37       185    0.99810  0.98196\n",
       "38       190    0.99814  0.98191\n",
       "39       195    0.99819  0.98207\n",
       "40       199    0.99821  0.98210"
      ]
     },
     "execution_count": 127,
     "metadata": {},
     "output_type": "execute_result"
    }
   ],
   "source": [
    "scores['min_child_weight=10']"
   ]
  },
  {
   "cell_type": "markdown",
   "id": "f98bd4f8-a7e2-4070-94be-63219bad66a1",
   "metadata": {},
   "source": [
    "Looking for optimum iterations number :"
   ]
  },
  {
   "cell_type": "code",
   "execution_count": 128,
   "id": "6e5d3840-1d36-4cf1-997a-c0e111b96ae1",
   "metadata": {},
   "outputs": [],
   "source": [
    "scores = {}"
   ]
  },
  {
   "cell_type": "code",
   "execution_count": 129,
   "id": "035d76bc-a086-4f1d-8749-0a3cac8537b2",
   "metadata": {},
   "outputs": [],
   "source": [
    "%%capture output\n",
    "\n",
    "xgb_params = {\n",
    "    'eta': 0.1,\n",
    "    'max_depth': 10,\n",
    "    'min_child_weight': 10,\n",
    "\n",
    "    'objective': 'binary:logistic',\n",
    "    'eval_metric': 'auc',\n",
    "\n",
    "    'seed': 39,\n",
    "    'verbosity': 1\n",
    "}\n",
    "\n",
    "model = xgb.train(xgb_params, dtrain, num_boost_round=200,\n",
    "                  verbose_eval=1,\n",
    "                  evals=watchlist)"
   ]
  },
  {
   "cell_type": "code",
   "execution_count": 130,
   "id": "9452ef04-f195-484f-b9b7-d62ea076e8aa",
   "metadata": {},
   "outputs": [
    {
     "data": {
      "text/plain": [
       "'min_child_weight=10'"
      ]
     },
     "execution_count": 130,
     "metadata": {},
     "output_type": "execute_result"
    }
   ],
   "source": [
    "key = 'min_child_weight=%s' % (xgb_params['min_child_weight'])\n",
    "scores[key] = parse_xgb_output(output)\n",
    "key"
   ]
  },
  {
   "cell_type": "code",
   "execution_count": 131,
   "id": "1c932c27-1962-4980-b8cb-b3f1219aad1a",
   "metadata": {},
   "outputs": [
    {
     "data": {
      "text/html": [
       "<div>\n",
       "<style scoped>\n",
       "    .dataframe tbody tr th:only-of-type {\n",
       "        vertical-align: middle;\n",
       "    }\n",
       "\n",
       "    .dataframe tbody tr th {\n",
       "        vertical-align: top;\n",
       "    }\n",
       "\n",
       "    .dataframe thead th {\n",
       "        text-align: right;\n",
       "    }\n",
       "</style>\n",
       "<table border=\"1\" class=\"dataframe\">\n",
       "  <thead>\n",
       "    <tr style=\"text-align: right;\">\n",
       "      <th></th>\n",
       "      <th>num_iter</th>\n",
       "      <th>train_auc</th>\n",
       "      <th>val_auc</th>\n",
       "    </tr>\n",
       "  </thead>\n",
       "  <tbody>\n",
       "    <tr>\n",
       "      <th>150</th>\n",
       "      <td>150</td>\n",
       "      <td>0.99780</td>\n",
       "      <td>0.98184</td>\n",
       "    </tr>\n",
       "    <tr>\n",
       "      <th>151</th>\n",
       "      <td>151</td>\n",
       "      <td>0.99781</td>\n",
       "      <td>0.98185</td>\n",
       "    </tr>\n",
       "    <tr>\n",
       "      <th>152</th>\n",
       "      <td>152</td>\n",
       "      <td>0.99782</td>\n",
       "      <td>0.98185</td>\n",
       "    </tr>\n",
       "    <tr>\n",
       "      <th>153</th>\n",
       "      <td>153</td>\n",
       "      <td>0.99782</td>\n",
       "      <td>0.98185</td>\n",
       "    </tr>\n",
       "    <tr>\n",
       "      <th>154</th>\n",
       "      <td>154</td>\n",
       "      <td>0.99783</td>\n",
       "      <td>0.98188</td>\n",
       "    </tr>\n",
       "    <tr>\n",
       "      <th>155</th>\n",
       "      <td>155</td>\n",
       "      <td>0.99784</td>\n",
       "      <td>0.98187</td>\n",
       "    </tr>\n",
       "    <tr>\n",
       "      <th>156</th>\n",
       "      <td>156</td>\n",
       "      <td>0.99785</td>\n",
       "      <td>0.98195</td>\n",
       "    </tr>\n",
       "    <tr>\n",
       "      <th>157</th>\n",
       "      <td>157</td>\n",
       "      <td>0.99786</td>\n",
       "      <td>0.98199</td>\n",
       "    </tr>\n",
       "    <tr>\n",
       "      <th>158</th>\n",
       "      <td>158</td>\n",
       "      <td>0.99787</td>\n",
       "      <td>0.98213</td>\n",
       "    </tr>\n",
       "    <tr>\n",
       "      <th>159</th>\n",
       "      <td>159</td>\n",
       "      <td>0.99787</td>\n",
       "      <td>0.98219</td>\n",
       "    </tr>\n",
       "    <tr>\n",
       "      <th>160</th>\n",
       "      <td>160</td>\n",
       "      <td>0.99789</td>\n",
       "      <td>0.98213</td>\n",
       "    </tr>\n",
       "    <tr>\n",
       "      <th>161</th>\n",
       "      <td>161</td>\n",
       "      <td>0.99790</td>\n",
       "      <td>0.98216</td>\n",
       "    </tr>\n",
       "    <tr>\n",
       "      <th>162</th>\n",
       "      <td>162</td>\n",
       "      <td>0.99792</td>\n",
       "      <td>0.98215</td>\n",
       "    </tr>\n",
       "    <tr>\n",
       "      <th>163</th>\n",
       "      <td>163</td>\n",
       "      <td>0.99794</td>\n",
       "      <td>0.98212</td>\n",
       "    </tr>\n",
       "    <tr>\n",
       "      <th>164</th>\n",
       "      <td>164</td>\n",
       "      <td>0.99795</td>\n",
       "      <td>0.98202</td>\n",
       "    </tr>\n",
       "    <tr>\n",
       "      <th>165</th>\n",
       "      <td>165</td>\n",
       "      <td>0.99795</td>\n",
       "      <td>0.98204</td>\n",
       "    </tr>\n",
       "    <tr>\n",
       "      <th>166</th>\n",
       "      <td>166</td>\n",
       "      <td>0.99796</td>\n",
       "      <td>0.98201</td>\n",
       "    </tr>\n",
       "    <tr>\n",
       "      <th>167</th>\n",
       "      <td>167</td>\n",
       "      <td>0.99798</td>\n",
       "      <td>0.98207</td>\n",
       "    </tr>\n",
       "    <tr>\n",
       "      <th>168</th>\n",
       "      <td>168</td>\n",
       "      <td>0.99797</td>\n",
       "      <td>0.98208</td>\n",
       "    </tr>\n",
       "    <tr>\n",
       "      <th>169</th>\n",
       "      <td>169</td>\n",
       "      <td>0.99799</td>\n",
       "      <td>0.98209</td>\n",
       "    </tr>\n",
       "  </tbody>\n",
       "</table>\n",
       "</div>"
      ],
      "text/plain": [
       "     num_iter  train_auc  val_auc\n",
       "150       150    0.99780  0.98184\n",
       "151       151    0.99781  0.98185\n",
       "152       152    0.99782  0.98185\n",
       "153       153    0.99782  0.98185\n",
       "154       154    0.99783  0.98188\n",
       "155       155    0.99784  0.98187\n",
       "156       156    0.99785  0.98195\n",
       "157       157    0.99786  0.98199\n",
       "158       158    0.99787  0.98213\n",
       "159       159    0.99787  0.98219\n",
       "160       160    0.99789  0.98213\n",
       "161       161    0.99790  0.98216\n",
       "162       162    0.99792  0.98215\n",
       "163       163    0.99794  0.98212\n",
       "164       164    0.99795  0.98202\n",
       "165       165    0.99795  0.98204\n",
       "166       166    0.99796  0.98201\n",
       "167       167    0.99798  0.98207\n",
       "168       168    0.99797  0.98208\n",
       "169       169    0.99799  0.98209"
      ]
     },
     "execution_count": 131,
     "metadata": {},
     "output_type": "execute_result"
    }
   ],
   "source": [
    "scores['min_child_weight=10'].iloc[150: 170]"
   ]
  },
  {
   "cell_type": "markdown",
   "id": "a4ced14c-cc6d-41ef-bd67-e7a5c61fd5df",
   "metadata": {},
   "source": [
    "Model with best params :"
   ]
  },
  {
   "cell_type": "code",
   "execution_count": 132,
   "id": "57053d92-5a74-4c78-b76a-e228309817f7",
   "metadata": {},
   "outputs": [],
   "source": [
    "xgb_params = {\n",
    "    'eta': 0.1,\n",
    "    'max_depth': 10,\n",
    "    'min_child_weight': 10,\n",
    "\n",
    "    'objective': 'binary:logistic',\n",
    "    'eval_metric': 'auc',\n",
    "\n",
    "    'seed': 39,\n",
    "    'verbosity': 1\n",
    "}\n",
    "\n",
    "model = xgb.train(xgb_params, dtrain, num_boost_round=159)"
   ]
  },
  {
   "cell_type": "markdown",
   "id": "85f59ad9-e6a8-4e83-99ab-db1e537c985b",
   "metadata": {},
   "source": [
    "## Selecting the final model\n",
    "### Choosing between XGBoost, random forest and decision tree\n",
    "Retrain the best model of each type"
   ]
  },
  {
   "cell_type": "code",
   "execution_count": 133,
   "id": "abddb847-3aa8-4026-8867-0688495b1bac",
   "metadata": {},
   "outputs": [
    {
     "data": {
      "text/html": [
       "<style>#sk-container-id-3 {\n",
       "  /* Definition of color scheme common for light and dark mode */\n",
       "  --sklearn-color-text: #000;\n",
       "  --sklearn-color-text-muted: #666;\n",
       "  --sklearn-color-line: gray;\n",
       "  /* Definition of color scheme for unfitted estimators */\n",
       "  --sklearn-color-unfitted-level-0: #fff5e6;\n",
       "  --sklearn-color-unfitted-level-1: #f6e4d2;\n",
       "  --sklearn-color-unfitted-level-2: #ffe0b3;\n",
       "  --sklearn-color-unfitted-level-3: chocolate;\n",
       "  /* Definition of color scheme for fitted estimators */\n",
       "  --sklearn-color-fitted-level-0: #f0f8ff;\n",
       "  --sklearn-color-fitted-level-1: #d4ebff;\n",
       "  --sklearn-color-fitted-level-2: #b3dbfd;\n",
       "  --sklearn-color-fitted-level-3: cornflowerblue;\n",
       "\n",
       "  /* Specific color for light theme */\n",
       "  --sklearn-color-text-on-default-background: var(--sg-text-color, var(--theme-code-foreground, var(--jp-content-font-color1, black)));\n",
       "  --sklearn-color-background: var(--sg-background-color, var(--theme-background, var(--jp-layout-color0, white)));\n",
       "  --sklearn-color-border-box: var(--sg-text-color, var(--theme-code-foreground, var(--jp-content-font-color1, black)));\n",
       "  --sklearn-color-icon: #696969;\n",
       "\n",
       "  @media (prefers-color-scheme: dark) {\n",
       "    /* Redefinition of color scheme for dark theme */\n",
       "    --sklearn-color-text-on-default-background: var(--sg-text-color, var(--theme-code-foreground, var(--jp-content-font-color1, white)));\n",
       "    --sklearn-color-background: var(--sg-background-color, var(--theme-background, var(--jp-layout-color0, #111)));\n",
       "    --sklearn-color-border-box: var(--sg-text-color, var(--theme-code-foreground, var(--jp-content-font-color1, white)));\n",
       "    --sklearn-color-icon: #878787;\n",
       "  }\n",
       "}\n",
       "\n",
       "#sk-container-id-3 {\n",
       "  color: var(--sklearn-color-text);\n",
       "}\n",
       "\n",
       "#sk-container-id-3 pre {\n",
       "  padding: 0;\n",
       "}\n",
       "\n",
       "#sk-container-id-3 input.sk-hidden--visually {\n",
       "  border: 0;\n",
       "  clip: rect(1px 1px 1px 1px);\n",
       "  clip: rect(1px, 1px, 1px, 1px);\n",
       "  height: 1px;\n",
       "  margin: -1px;\n",
       "  overflow: hidden;\n",
       "  padding: 0;\n",
       "  position: absolute;\n",
       "  width: 1px;\n",
       "}\n",
       "\n",
       "#sk-container-id-3 div.sk-dashed-wrapped {\n",
       "  border: 1px dashed var(--sklearn-color-line);\n",
       "  margin: 0 0.4em 0.5em 0.4em;\n",
       "  box-sizing: border-box;\n",
       "  padding-bottom: 0.4em;\n",
       "  background-color: var(--sklearn-color-background);\n",
       "}\n",
       "\n",
       "#sk-container-id-3 div.sk-container {\n",
       "  /* jupyter's `normalize.less` sets `[hidden] { display: none; }`\n",
       "     but bootstrap.min.css set `[hidden] { display: none !important; }`\n",
       "     so we also need the `!important` here to be able to override the\n",
       "     default hidden behavior on the sphinx rendered scikit-learn.org.\n",
       "     See: https://github.com/scikit-learn/scikit-learn/issues/21755 */\n",
       "  display: inline-block !important;\n",
       "  position: relative;\n",
       "}\n",
       "\n",
       "#sk-container-id-3 div.sk-text-repr-fallback {\n",
       "  display: none;\n",
       "}\n",
       "\n",
       "div.sk-parallel-item,\n",
       "div.sk-serial,\n",
       "div.sk-item {\n",
       "  /* draw centered vertical line to link estimators */\n",
       "  background-image: linear-gradient(var(--sklearn-color-text-on-default-background), var(--sklearn-color-text-on-default-background));\n",
       "  background-size: 2px 100%;\n",
       "  background-repeat: no-repeat;\n",
       "  background-position: center center;\n",
       "}\n",
       "\n",
       "/* Parallel-specific style estimator block */\n",
       "\n",
       "#sk-container-id-3 div.sk-parallel-item::after {\n",
       "  content: \"\";\n",
       "  width: 100%;\n",
       "  border-bottom: 2px solid var(--sklearn-color-text-on-default-background);\n",
       "  flex-grow: 1;\n",
       "}\n",
       "\n",
       "#sk-container-id-3 div.sk-parallel {\n",
       "  display: flex;\n",
       "  align-items: stretch;\n",
       "  justify-content: center;\n",
       "  background-color: var(--sklearn-color-background);\n",
       "  position: relative;\n",
       "}\n",
       "\n",
       "#sk-container-id-3 div.sk-parallel-item {\n",
       "  display: flex;\n",
       "  flex-direction: column;\n",
       "}\n",
       "\n",
       "#sk-container-id-3 div.sk-parallel-item:first-child::after {\n",
       "  align-self: flex-end;\n",
       "  width: 50%;\n",
       "}\n",
       "\n",
       "#sk-container-id-3 div.sk-parallel-item:last-child::after {\n",
       "  align-self: flex-start;\n",
       "  width: 50%;\n",
       "}\n",
       "\n",
       "#sk-container-id-3 div.sk-parallel-item:only-child::after {\n",
       "  width: 0;\n",
       "}\n",
       "\n",
       "/* Serial-specific style estimator block */\n",
       "\n",
       "#sk-container-id-3 div.sk-serial {\n",
       "  display: flex;\n",
       "  flex-direction: column;\n",
       "  align-items: center;\n",
       "  background-color: var(--sklearn-color-background);\n",
       "  padding-right: 1em;\n",
       "  padding-left: 1em;\n",
       "}\n",
       "\n",
       "\n",
       "/* Toggleable style: style used for estimator/Pipeline/ColumnTransformer box that is\n",
       "clickable and can be expanded/collapsed.\n",
       "- Pipeline and ColumnTransformer use this feature and define the default style\n",
       "- Estimators will overwrite some part of the style using the `sk-estimator` class\n",
       "*/\n",
       "\n",
       "/* Pipeline and ColumnTransformer style (default) */\n",
       "\n",
       "#sk-container-id-3 div.sk-toggleable {\n",
       "  /* Default theme specific background. It is overwritten whether we have a\n",
       "  specific estimator or a Pipeline/ColumnTransformer */\n",
       "  background-color: var(--sklearn-color-background);\n",
       "}\n",
       "\n",
       "/* Toggleable label */\n",
       "#sk-container-id-3 label.sk-toggleable__label {\n",
       "  cursor: pointer;\n",
       "  display: flex;\n",
       "  width: 100%;\n",
       "  margin-bottom: 0;\n",
       "  padding: 0.5em;\n",
       "  box-sizing: border-box;\n",
       "  text-align: center;\n",
       "  align-items: start;\n",
       "  justify-content: space-between;\n",
       "  gap: 0.5em;\n",
       "}\n",
       "\n",
       "#sk-container-id-3 label.sk-toggleable__label .caption {\n",
       "  font-size: 0.6rem;\n",
       "  font-weight: lighter;\n",
       "  color: var(--sklearn-color-text-muted);\n",
       "}\n",
       "\n",
       "#sk-container-id-3 label.sk-toggleable__label-arrow:before {\n",
       "  /* Arrow on the left of the label */\n",
       "  content: \"▸\";\n",
       "  float: left;\n",
       "  margin-right: 0.25em;\n",
       "  color: var(--sklearn-color-icon);\n",
       "}\n",
       "\n",
       "#sk-container-id-3 label.sk-toggleable__label-arrow:hover:before {\n",
       "  color: var(--sklearn-color-text);\n",
       "}\n",
       "\n",
       "/* Toggleable content - dropdown */\n",
       "\n",
       "#sk-container-id-3 div.sk-toggleable__content {\n",
       "  max-height: 0;\n",
       "  max-width: 0;\n",
       "  overflow: hidden;\n",
       "  text-align: left;\n",
       "  /* unfitted */\n",
       "  background-color: var(--sklearn-color-unfitted-level-0);\n",
       "}\n",
       "\n",
       "#sk-container-id-3 div.sk-toggleable__content.fitted {\n",
       "  /* fitted */\n",
       "  background-color: var(--sklearn-color-fitted-level-0);\n",
       "}\n",
       "\n",
       "#sk-container-id-3 div.sk-toggleable__content pre {\n",
       "  margin: 0.2em;\n",
       "  border-radius: 0.25em;\n",
       "  color: var(--sklearn-color-text);\n",
       "  /* unfitted */\n",
       "  background-color: var(--sklearn-color-unfitted-level-0);\n",
       "}\n",
       "\n",
       "#sk-container-id-3 div.sk-toggleable__content.fitted pre {\n",
       "  /* unfitted */\n",
       "  background-color: var(--sklearn-color-fitted-level-0);\n",
       "}\n",
       "\n",
       "#sk-container-id-3 input.sk-toggleable__control:checked~div.sk-toggleable__content {\n",
       "  /* Expand drop-down */\n",
       "  max-height: 200px;\n",
       "  max-width: 100%;\n",
       "  overflow: auto;\n",
       "}\n",
       "\n",
       "#sk-container-id-3 input.sk-toggleable__control:checked~label.sk-toggleable__label-arrow:before {\n",
       "  content: \"▾\";\n",
       "}\n",
       "\n",
       "/* Pipeline/ColumnTransformer-specific style */\n",
       "\n",
       "#sk-container-id-3 div.sk-label input.sk-toggleable__control:checked~label.sk-toggleable__label {\n",
       "  color: var(--sklearn-color-text);\n",
       "  background-color: var(--sklearn-color-unfitted-level-2);\n",
       "}\n",
       "\n",
       "#sk-container-id-3 div.sk-label.fitted input.sk-toggleable__control:checked~label.sk-toggleable__label {\n",
       "  background-color: var(--sklearn-color-fitted-level-2);\n",
       "}\n",
       "\n",
       "/* Estimator-specific style */\n",
       "\n",
       "/* Colorize estimator box */\n",
       "#sk-container-id-3 div.sk-estimator input.sk-toggleable__control:checked~label.sk-toggleable__label {\n",
       "  /* unfitted */\n",
       "  background-color: var(--sklearn-color-unfitted-level-2);\n",
       "}\n",
       "\n",
       "#sk-container-id-3 div.sk-estimator.fitted input.sk-toggleable__control:checked~label.sk-toggleable__label {\n",
       "  /* fitted */\n",
       "  background-color: var(--sklearn-color-fitted-level-2);\n",
       "}\n",
       "\n",
       "#sk-container-id-3 div.sk-label label.sk-toggleable__label,\n",
       "#sk-container-id-3 div.sk-label label {\n",
       "  /* The background is the default theme color */\n",
       "  color: var(--sklearn-color-text-on-default-background);\n",
       "}\n",
       "\n",
       "/* On hover, darken the color of the background */\n",
       "#sk-container-id-3 div.sk-label:hover label.sk-toggleable__label {\n",
       "  color: var(--sklearn-color-text);\n",
       "  background-color: var(--sklearn-color-unfitted-level-2);\n",
       "}\n",
       "\n",
       "/* Label box, darken color on hover, fitted */\n",
       "#sk-container-id-3 div.sk-label.fitted:hover label.sk-toggleable__label.fitted {\n",
       "  color: var(--sklearn-color-text);\n",
       "  background-color: var(--sklearn-color-fitted-level-2);\n",
       "}\n",
       "\n",
       "/* Estimator label */\n",
       "\n",
       "#sk-container-id-3 div.sk-label label {\n",
       "  font-family: monospace;\n",
       "  font-weight: bold;\n",
       "  display: inline-block;\n",
       "  line-height: 1.2em;\n",
       "}\n",
       "\n",
       "#sk-container-id-3 div.sk-label-container {\n",
       "  text-align: center;\n",
       "}\n",
       "\n",
       "/* Estimator-specific */\n",
       "#sk-container-id-3 div.sk-estimator {\n",
       "  font-family: monospace;\n",
       "  border: 1px dotted var(--sklearn-color-border-box);\n",
       "  border-radius: 0.25em;\n",
       "  box-sizing: border-box;\n",
       "  margin-bottom: 0.5em;\n",
       "  /* unfitted */\n",
       "  background-color: var(--sklearn-color-unfitted-level-0);\n",
       "}\n",
       "\n",
       "#sk-container-id-3 div.sk-estimator.fitted {\n",
       "  /* fitted */\n",
       "  background-color: var(--sklearn-color-fitted-level-0);\n",
       "}\n",
       "\n",
       "/* on hover */\n",
       "#sk-container-id-3 div.sk-estimator:hover {\n",
       "  /* unfitted */\n",
       "  background-color: var(--sklearn-color-unfitted-level-2);\n",
       "}\n",
       "\n",
       "#sk-container-id-3 div.sk-estimator.fitted:hover {\n",
       "  /* fitted */\n",
       "  background-color: var(--sklearn-color-fitted-level-2);\n",
       "}\n",
       "\n",
       "/* Specification for estimator info (e.g. \"i\" and \"?\") */\n",
       "\n",
       "/* Common style for \"i\" and \"?\" */\n",
       "\n",
       ".sk-estimator-doc-link,\n",
       "a:link.sk-estimator-doc-link,\n",
       "a:visited.sk-estimator-doc-link {\n",
       "  float: right;\n",
       "  font-size: smaller;\n",
       "  line-height: 1em;\n",
       "  font-family: monospace;\n",
       "  background-color: var(--sklearn-color-background);\n",
       "  border-radius: 1em;\n",
       "  height: 1em;\n",
       "  width: 1em;\n",
       "  text-decoration: none !important;\n",
       "  margin-left: 0.5em;\n",
       "  text-align: center;\n",
       "  /* unfitted */\n",
       "  border: var(--sklearn-color-unfitted-level-1) 1pt solid;\n",
       "  color: var(--sklearn-color-unfitted-level-1);\n",
       "}\n",
       "\n",
       ".sk-estimator-doc-link.fitted,\n",
       "a:link.sk-estimator-doc-link.fitted,\n",
       "a:visited.sk-estimator-doc-link.fitted {\n",
       "  /* fitted */\n",
       "  border: var(--sklearn-color-fitted-level-1) 1pt solid;\n",
       "  color: var(--sklearn-color-fitted-level-1);\n",
       "}\n",
       "\n",
       "/* On hover */\n",
       "div.sk-estimator:hover .sk-estimator-doc-link:hover,\n",
       ".sk-estimator-doc-link:hover,\n",
       "div.sk-label-container:hover .sk-estimator-doc-link:hover,\n",
       ".sk-estimator-doc-link:hover {\n",
       "  /* unfitted */\n",
       "  background-color: var(--sklearn-color-unfitted-level-3);\n",
       "  color: var(--sklearn-color-background);\n",
       "  text-decoration: none;\n",
       "}\n",
       "\n",
       "div.sk-estimator.fitted:hover .sk-estimator-doc-link.fitted:hover,\n",
       ".sk-estimator-doc-link.fitted:hover,\n",
       "div.sk-label-container:hover .sk-estimator-doc-link.fitted:hover,\n",
       ".sk-estimator-doc-link.fitted:hover {\n",
       "  /* fitted */\n",
       "  background-color: var(--sklearn-color-fitted-level-3);\n",
       "  color: var(--sklearn-color-background);\n",
       "  text-decoration: none;\n",
       "}\n",
       "\n",
       "/* Span, style for the box shown on hovering the info icon */\n",
       ".sk-estimator-doc-link span {\n",
       "  display: none;\n",
       "  z-index: 9999;\n",
       "  position: relative;\n",
       "  font-weight: normal;\n",
       "  right: .2ex;\n",
       "  padding: .5ex;\n",
       "  margin: .5ex;\n",
       "  width: min-content;\n",
       "  min-width: 20ex;\n",
       "  max-width: 50ex;\n",
       "  color: var(--sklearn-color-text);\n",
       "  box-shadow: 2pt 2pt 4pt #999;\n",
       "  /* unfitted */\n",
       "  background: var(--sklearn-color-unfitted-level-0);\n",
       "  border: .5pt solid var(--sklearn-color-unfitted-level-3);\n",
       "}\n",
       "\n",
       ".sk-estimator-doc-link.fitted span {\n",
       "  /* fitted */\n",
       "  background: var(--sklearn-color-fitted-level-0);\n",
       "  border: var(--sklearn-color-fitted-level-3);\n",
       "}\n",
       "\n",
       ".sk-estimator-doc-link:hover span {\n",
       "  display: block;\n",
       "}\n",
       "\n",
       "/* \"?\"-specific style due to the `<a>` HTML tag */\n",
       "\n",
       "#sk-container-id-3 a.estimator_doc_link {\n",
       "  float: right;\n",
       "  font-size: 1rem;\n",
       "  line-height: 1em;\n",
       "  font-family: monospace;\n",
       "  background-color: var(--sklearn-color-background);\n",
       "  border-radius: 1rem;\n",
       "  height: 1rem;\n",
       "  width: 1rem;\n",
       "  text-decoration: none;\n",
       "  /* unfitted */\n",
       "  color: var(--sklearn-color-unfitted-level-1);\n",
       "  border: var(--sklearn-color-unfitted-level-1) 1pt solid;\n",
       "}\n",
       "\n",
       "#sk-container-id-3 a.estimator_doc_link.fitted {\n",
       "  /* fitted */\n",
       "  border: var(--sklearn-color-fitted-level-1) 1pt solid;\n",
       "  color: var(--sklearn-color-fitted-level-1);\n",
       "}\n",
       "\n",
       "/* On hover */\n",
       "#sk-container-id-3 a.estimator_doc_link:hover {\n",
       "  /* unfitted */\n",
       "  background-color: var(--sklearn-color-unfitted-level-3);\n",
       "  color: var(--sklearn-color-background);\n",
       "  text-decoration: none;\n",
       "}\n",
       "\n",
       "#sk-container-id-3 a.estimator_doc_link.fitted:hover {\n",
       "  /* fitted */\n",
       "  background-color: var(--sklearn-color-fitted-level-3);\n",
       "}\n",
       "</style><div id=\"sk-container-id-3\" class=\"sk-top-container\"><div class=\"sk-text-repr-fallback\"><pre>DecisionTreeClassifier(max_depth=20, min_samples_leaf=100, random_state=39)</pre><b>In a Jupyter environment, please rerun this cell to show the HTML representation or trust the notebook. <br />On GitHub, the HTML representation is unable to render, please try loading this page with nbviewer.org.</b></div><div class=\"sk-container\" hidden><div class=\"sk-item\"><div class=\"sk-estimator fitted sk-toggleable\"><input class=\"sk-toggleable__control sk-hidden--visually\" id=\"sk-estimator-id-3\" type=\"checkbox\" checked><label for=\"sk-estimator-id-3\" class=\"sk-toggleable__label fitted sk-toggleable__label-arrow\"><div><div>DecisionTreeClassifier</div></div><div><a class=\"sk-estimator-doc-link fitted\" rel=\"noreferrer\" target=\"_blank\" href=\"https://scikit-learn.org/1.6/modules/generated/sklearn.tree.DecisionTreeClassifier.html\">?<span>Documentation for DecisionTreeClassifier</span></a><span class=\"sk-estimator-doc-link fitted\">i<span>Fitted</span></span></div></label><div class=\"sk-toggleable__content fitted\"><pre>DecisionTreeClassifier(max_depth=20, min_samples_leaf=100, random_state=39)</pre></div> </div></div></div></div>"
      ],
      "text/plain": [
       "DecisionTreeClassifier(max_depth=20, min_samples_leaf=100, random_state=39)"
      ]
     },
     "execution_count": 133,
     "metadata": {},
     "output_type": "execute_result"
    }
   ],
   "source": [
    "dt = DecisionTreeClassifier(max_depth=20, min_samples_leaf=100, random_state=39)\n",
    "dt.fit(X_train, y_train)"
   ]
  },
  {
   "cell_type": "code",
   "execution_count": 134,
   "id": "6252907f-88b5-4d03-834e-40a544eabdc2",
   "metadata": {},
   "outputs": [
    {
     "data": {
      "text/plain": [
       "np.float64(0.9666573165030388)"
      ]
     },
     "execution_count": 134,
     "metadata": {},
     "output_type": "execute_result"
    }
   ],
   "source": [
    "y_pred = dt.predict_proba(X_val)[:, 1]\n",
    "roc_auc_score(y_val, y_pred)"
   ]
  },
  {
   "cell_type": "code",
   "execution_count": 135,
   "id": "e9470c5e-6381-4902-90a4-9530c6b9ecc1",
   "metadata": {},
   "outputs": [
    {
     "data": {
      "text/html": [
       "<style>#sk-container-id-4 {\n",
       "  /* Definition of color scheme common for light and dark mode */\n",
       "  --sklearn-color-text: #000;\n",
       "  --sklearn-color-text-muted: #666;\n",
       "  --sklearn-color-line: gray;\n",
       "  /* Definition of color scheme for unfitted estimators */\n",
       "  --sklearn-color-unfitted-level-0: #fff5e6;\n",
       "  --sklearn-color-unfitted-level-1: #f6e4d2;\n",
       "  --sklearn-color-unfitted-level-2: #ffe0b3;\n",
       "  --sklearn-color-unfitted-level-3: chocolate;\n",
       "  /* Definition of color scheme for fitted estimators */\n",
       "  --sklearn-color-fitted-level-0: #f0f8ff;\n",
       "  --sklearn-color-fitted-level-1: #d4ebff;\n",
       "  --sklearn-color-fitted-level-2: #b3dbfd;\n",
       "  --sklearn-color-fitted-level-3: cornflowerblue;\n",
       "\n",
       "  /* Specific color for light theme */\n",
       "  --sklearn-color-text-on-default-background: var(--sg-text-color, var(--theme-code-foreground, var(--jp-content-font-color1, black)));\n",
       "  --sklearn-color-background: var(--sg-background-color, var(--theme-background, var(--jp-layout-color0, white)));\n",
       "  --sklearn-color-border-box: var(--sg-text-color, var(--theme-code-foreground, var(--jp-content-font-color1, black)));\n",
       "  --sklearn-color-icon: #696969;\n",
       "\n",
       "  @media (prefers-color-scheme: dark) {\n",
       "    /* Redefinition of color scheme for dark theme */\n",
       "    --sklearn-color-text-on-default-background: var(--sg-text-color, var(--theme-code-foreground, var(--jp-content-font-color1, white)));\n",
       "    --sklearn-color-background: var(--sg-background-color, var(--theme-background, var(--jp-layout-color0, #111)));\n",
       "    --sklearn-color-border-box: var(--sg-text-color, var(--theme-code-foreground, var(--jp-content-font-color1, white)));\n",
       "    --sklearn-color-icon: #878787;\n",
       "  }\n",
       "}\n",
       "\n",
       "#sk-container-id-4 {\n",
       "  color: var(--sklearn-color-text);\n",
       "}\n",
       "\n",
       "#sk-container-id-4 pre {\n",
       "  padding: 0;\n",
       "}\n",
       "\n",
       "#sk-container-id-4 input.sk-hidden--visually {\n",
       "  border: 0;\n",
       "  clip: rect(1px 1px 1px 1px);\n",
       "  clip: rect(1px, 1px, 1px, 1px);\n",
       "  height: 1px;\n",
       "  margin: -1px;\n",
       "  overflow: hidden;\n",
       "  padding: 0;\n",
       "  position: absolute;\n",
       "  width: 1px;\n",
       "}\n",
       "\n",
       "#sk-container-id-4 div.sk-dashed-wrapped {\n",
       "  border: 1px dashed var(--sklearn-color-line);\n",
       "  margin: 0 0.4em 0.5em 0.4em;\n",
       "  box-sizing: border-box;\n",
       "  padding-bottom: 0.4em;\n",
       "  background-color: var(--sklearn-color-background);\n",
       "}\n",
       "\n",
       "#sk-container-id-4 div.sk-container {\n",
       "  /* jupyter's `normalize.less` sets `[hidden] { display: none; }`\n",
       "     but bootstrap.min.css set `[hidden] { display: none !important; }`\n",
       "     so we also need the `!important` here to be able to override the\n",
       "     default hidden behavior on the sphinx rendered scikit-learn.org.\n",
       "     See: https://github.com/scikit-learn/scikit-learn/issues/21755 */\n",
       "  display: inline-block !important;\n",
       "  position: relative;\n",
       "}\n",
       "\n",
       "#sk-container-id-4 div.sk-text-repr-fallback {\n",
       "  display: none;\n",
       "}\n",
       "\n",
       "div.sk-parallel-item,\n",
       "div.sk-serial,\n",
       "div.sk-item {\n",
       "  /* draw centered vertical line to link estimators */\n",
       "  background-image: linear-gradient(var(--sklearn-color-text-on-default-background), var(--sklearn-color-text-on-default-background));\n",
       "  background-size: 2px 100%;\n",
       "  background-repeat: no-repeat;\n",
       "  background-position: center center;\n",
       "}\n",
       "\n",
       "/* Parallel-specific style estimator block */\n",
       "\n",
       "#sk-container-id-4 div.sk-parallel-item::after {\n",
       "  content: \"\";\n",
       "  width: 100%;\n",
       "  border-bottom: 2px solid var(--sklearn-color-text-on-default-background);\n",
       "  flex-grow: 1;\n",
       "}\n",
       "\n",
       "#sk-container-id-4 div.sk-parallel {\n",
       "  display: flex;\n",
       "  align-items: stretch;\n",
       "  justify-content: center;\n",
       "  background-color: var(--sklearn-color-background);\n",
       "  position: relative;\n",
       "}\n",
       "\n",
       "#sk-container-id-4 div.sk-parallel-item {\n",
       "  display: flex;\n",
       "  flex-direction: column;\n",
       "}\n",
       "\n",
       "#sk-container-id-4 div.sk-parallel-item:first-child::after {\n",
       "  align-self: flex-end;\n",
       "  width: 50%;\n",
       "}\n",
       "\n",
       "#sk-container-id-4 div.sk-parallel-item:last-child::after {\n",
       "  align-self: flex-start;\n",
       "  width: 50%;\n",
       "}\n",
       "\n",
       "#sk-container-id-4 div.sk-parallel-item:only-child::after {\n",
       "  width: 0;\n",
       "}\n",
       "\n",
       "/* Serial-specific style estimator block */\n",
       "\n",
       "#sk-container-id-4 div.sk-serial {\n",
       "  display: flex;\n",
       "  flex-direction: column;\n",
       "  align-items: center;\n",
       "  background-color: var(--sklearn-color-background);\n",
       "  padding-right: 1em;\n",
       "  padding-left: 1em;\n",
       "}\n",
       "\n",
       "\n",
       "/* Toggleable style: style used for estimator/Pipeline/ColumnTransformer box that is\n",
       "clickable and can be expanded/collapsed.\n",
       "- Pipeline and ColumnTransformer use this feature and define the default style\n",
       "- Estimators will overwrite some part of the style using the `sk-estimator` class\n",
       "*/\n",
       "\n",
       "/* Pipeline and ColumnTransformer style (default) */\n",
       "\n",
       "#sk-container-id-4 div.sk-toggleable {\n",
       "  /* Default theme specific background. It is overwritten whether we have a\n",
       "  specific estimator or a Pipeline/ColumnTransformer */\n",
       "  background-color: var(--sklearn-color-background);\n",
       "}\n",
       "\n",
       "/* Toggleable label */\n",
       "#sk-container-id-4 label.sk-toggleable__label {\n",
       "  cursor: pointer;\n",
       "  display: flex;\n",
       "  width: 100%;\n",
       "  margin-bottom: 0;\n",
       "  padding: 0.5em;\n",
       "  box-sizing: border-box;\n",
       "  text-align: center;\n",
       "  align-items: start;\n",
       "  justify-content: space-between;\n",
       "  gap: 0.5em;\n",
       "}\n",
       "\n",
       "#sk-container-id-4 label.sk-toggleable__label .caption {\n",
       "  font-size: 0.6rem;\n",
       "  font-weight: lighter;\n",
       "  color: var(--sklearn-color-text-muted);\n",
       "}\n",
       "\n",
       "#sk-container-id-4 label.sk-toggleable__label-arrow:before {\n",
       "  /* Arrow on the left of the label */\n",
       "  content: \"▸\";\n",
       "  float: left;\n",
       "  margin-right: 0.25em;\n",
       "  color: var(--sklearn-color-icon);\n",
       "}\n",
       "\n",
       "#sk-container-id-4 label.sk-toggleable__label-arrow:hover:before {\n",
       "  color: var(--sklearn-color-text);\n",
       "}\n",
       "\n",
       "/* Toggleable content - dropdown */\n",
       "\n",
       "#sk-container-id-4 div.sk-toggleable__content {\n",
       "  max-height: 0;\n",
       "  max-width: 0;\n",
       "  overflow: hidden;\n",
       "  text-align: left;\n",
       "  /* unfitted */\n",
       "  background-color: var(--sklearn-color-unfitted-level-0);\n",
       "}\n",
       "\n",
       "#sk-container-id-4 div.sk-toggleable__content.fitted {\n",
       "  /* fitted */\n",
       "  background-color: var(--sklearn-color-fitted-level-0);\n",
       "}\n",
       "\n",
       "#sk-container-id-4 div.sk-toggleable__content pre {\n",
       "  margin: 0.2em;\n",
       "  border-radius: 0.25em;\n",
       "  color: var(--sklearn-color-text);\n",
       "  /* unfitted */\n",
       "  background-color: var(--sklearn-color-unfitted-level-0);\n",
       "}\n",
       "\n",
       "#sk-container-id-4 div.sk-toggleable__content.fitted pre {\n",
       "  /* unfitted */\n",
       "  background-color: var(--sklearn-color-fitted-level-0);\n",
       "}\n",
       "\n",
       "#sk-container-id-4 input.sk-toggleable__control:checked~div.sk-toggleable__content {\n",
       "  /* Expand drop-down */\n",
       "  max-height: 200px;\n",
       "  max-width: 100%;\n",
       "  overflow: auto;\n",
       "}\n",
       "\n",
       "#sk-container-id-4 input.sk-toggleable__control:checked~label.sk-toggleable__label-arrow:before {\n",
       "  content: \"▾\";\n",
       "}\n",
       "\n",
       "/* Pipeline/ColumnTransformer-specific style */\n",
       "\n",
       "#sk-container-id-4 div.sk-label input.sk-toggleable__control:checked~label.sk-toggleable__label {\n",
       "  color: var(--sklearn-color-text);\n",
       "  background-color: var(--sklearn-color-unfitted-level-2);\n",
       "}\n",
       "\n",
       "#sk-container-id-4 div.sk-label.fitted input.sk-toggleable__control:checked~label.sk-toggleable__label {\n",
       "  background-color: var(--sklearn-color-fitted-level-2);\n",
       "}\n",
       "\n",
       "/* Estimator-specific style */\n",
       "\n",
       "/* Colorize estimator box */\n",
       "#sk-container-id-4 div.sk-estimator input.sk-toggleable__control:checked~label.sk-toggleable__label {\n",
       "  /* unfitted */\n",
       "  background-color: var(--sklearn-color-unfitted-level-2);\n",
       "}\n",
       "\n",
       "#sk-container-id-4 div.sk-estimator.fitted input.sk-toggleable__control:checked~label.sk-toggleable__label {\n",
       "  /* fitted */\n",
       "  background-color: var(--sklearn-color-fitted-level-2);\n",
       "}\n",
       "\n",
       "#sk-container-id-4 div.sk-label label.sk-toggleable__label,\n",
       "#sk-container-id-4 div.sk-label label {\n",
       "  /* The background is the default theme color */\n",
       "  color: var(--sklearn-color-text-on-default-background);\n",
       "}\n",
       "\n",
       "/* On hover, darken the color of the background */\n",
       "#sk-container-id-4 div.sk-label:hover label.sk-toggleable__label {\n",
       "  color: var(--sklearn-color-text);\n",
       "  background-color: var(--sklearn-color-unfitted-level-2);\n",
       "}\n",
       "\n",
       "/* Label box, darken color on hover, fitted */\n",
       "#sk-container-id-4 div.sk-label.fitted:hover label.sk-toggleable__label.fitted {\n",
       "  color: var(--sklearn-color-text);\n",
       "  background-color: var(--sklearn-color-fitted-level-2);\n",
       "}\n",
       "\n",
       "/* Estimator label */\n",
       "\n",
       "#sk-container-id-4 div.sk-label label {\n",
       "  font-family: monospace;\n",
       "  font-weight: bold;\n",
       "  display: inline-block;\n",
       "  line-height: 1.2em;\n",
       "}\n",
       "\n",
       "#sk-container-id-4 div.sk-label-container {\n",
       "  text-align: center;\n",
       "}\n",
       "\n",
       "/* Estimator-specific */\n",
       "#sk-container-id-4 div.sk-estimator {\n",
       "  font-family: monospace;\n",
       "  border: 1px dotted var(--sklearn-color-border-box);\n",
       "  border-radius: 0.25em;\n",
       "  box-sizing: border-box;\n",
       "  margin-bottom: 0.5em;\n",
       "  /* unfitted */\n",
       "  background-color: var(--sklearn-color-unfitted-level-0);\n",
       "}\n",
       "\n",
       "#sk-container-id-4 div.sk-estimator.fitted {\n",
       "  /* fitted */\n",
       "  background-color: var(--sklearn-color-fitted-level-0);\n",
       "}\n",
       "\n",
       "/* on hover */\n",
       "#sk-container-id-4 div.sk-estimator:hover {\n",
       "  /* unfitted */\n",
       "  background-color: var(--sklearn-color-unfitted-level-2);\n",
       "}\n",
       "\n",
       "#sk-container-id-4 div.sk-estimator.fitted:hover {\n",
       "  /* fitted */\n",
       "  background-color: var(--sklearn-color-fitted-level-2);\n",
       "}\n",
       "\n",
       "/* Specification for estimator info (e.g. \"i\" and \"?\") */\n",
       "\n",
       "/* Common style for \"i\" and \"?\" */\n",
       "\n",
       ".sk-estimator-doc-link,\n",
       "a:link.sk-estimator-doc-link,\n",
       "a:visited.sk-estimator-doc-link {\n",
       "  float: right;\n",
       "  font-size: smaller;\n",
       "  line-height: 1em;\n",
       "  font-family: monospace;\n",
       "  background-color: var(--sklearn-color-background);\n",
       "  border-radius: 1em;\n",
       "  height: 1em;\n",
       "  width: 1em;\n",
       "  text-decoration: none !important;\n",
       "  margin-left: 0.5em;\n",
       "  text-align: center;\n",
       "  /* unfitted */\n",
       "  border: var(--sklearn-color-unfitted-level-1) 1pt solid;\n",
       "  color: var(--sklearn-color-unfitted-level-1);\n",
       "}\n",
       "\n",
       ".sk-estimator-doc-link.fitted,\n",
       "a:link.sk-estimator-doc-link.fitted,\n",
       "a:visited.sk-estimator-doc-link.fitted {\n",
       "  /* fitted */\n",
       "  border: var(--sklearn-color-fitted-level-1) 1pt solid;\n",
       "  color: var(--sklearn-color-fitted-level-1);\n",
       "}\n",
       "\n",
       "/* On hover */\n",
       "div.sk-estimator:hover .sk-estimator-doc-link:hover,\n",
       ".sk-estimator-doc-link:hover,\n",
       "div.sk-label-container:hover .sk-estimator-doc-link:hover,\n",
       ".sk-estimator-doc-link:hover {\n",
       "  /* unfitted */\n",
       "  background-color: var(--sklearn-color-unfitted-level-3);\n",
       "  color: var(--sklearn-color-background);\n",
       "  text-decoration: none;\n",
       "}\n",
       "\n",
       "div.sk-estimator.fitted:hover .sk-estimator-doc-link.fitted:hover,\n",
       ".sk-estimator-doc-link.fitted:hover,\n",
       "div.sk-label-container:hover .sk-estimator-doc-link.fitted:hover,\n",
       ".sk-estimator-doc-link.fitted:hover {\n",
       "  /* fitted */\n",
       "  background-color: var(--sklearn-color-fitted-level-3);\n",
       "  color: var(--sklearn-color-background);\n",
       "  text-decoration: none;\n",
       "}\n",
       "\n",
       "/* Span, style for the box shown on hovering the info icon */\n",
       ".sk-estimator-doc-link span {\n",
       "  display: none;\n",
       "  z-index: 9999;\n",
       "  position: relative;\n",
       "  font-weight: normal;\n",
       "  right: .2ex;\n",
       "  padding: .5ex;\n",
       "  margin: .5ex;\n",
       "  width: min-content;\n",
       "  min-width: 20ex;\n",
       "  max-width: 50ex;\n",
       "  color: var(--sklearn-color-text);\n",
       "  box-shadow: 2pt 2pt 4pt #999;\n",
       "  /* unfitted */\n",
       "  background: var(--sklearn-color-unfitted-level-0);\n",
       "  border: .5pt solid var(--sklearn-color-unfitted-level-3);\n",
       "}\n",
       "\n",
       ".sk-estimator-doc-link.fitted span {\n",
       "  /* fitted */\n",
       "  background: var(--sklearn-color-fitted-level-0);\n",
       "  border: var(--sklearn-color-fitted-level-3);\n",
       "}\n",
       "\n",
       ".sk-estimator-doc-link:hover span {\n",
       "  display: block;\n",
       "}\n",
       "\n",
       "/* \"?\"-specific style due to the `<a>` HTML tag */\n",
       "\n",
       "#sk-container-id-4 a.estimator_doc_link {\n",
       "  float: right;\n",
       "  font-size: 1rem;\n",
       "  line-height: 1em;\n",
       "  font-family: monospace;\n",
       "  background-color: var(--sklearn-color-background);\n",
       "  border-radius: 1rem;\n",
       "  height: 1rem;\n",
       "  width: 1rem;\n",
       "  text-decoration: none;\n",
       "  /* unfitted */\n",
       "  color: var(--sklearn-color-unfitted-level-1);\n",
       "  border: var(--sklearn-color-unfitted-level-1) 1pt solid;\n",
       "}\n",
       "\n",
       "#sk-container-id-4 a.estimator_doc_link.fitted {\n",
       "  /* fitted */\n",
       "  border: var(--sklearn-color-fitted-level-1) 1pt solid;\n",
       "  color: var(--sklearn-color-fitted-level-1);\n",
       "}\n",
       "\n",
       "/* On hover */\n",
       "#sk-container-id-4 a.estimator_doc_link:hover {\n",
       "  /* unfitted */\n",
       "  background-color: var(--sklearn-color-unfitted-level-3);\n",
       "  color: var(--sklearn-color-background);\n",
       "  text-decoration: none;\n",
       "}\n",
       "\n",
       "#sk-container-id-4 a.estimator_doc_link.fitted:hover {\n",
       "  /* fitted */\n",
       "  background-color: var(--sklearn-color-fitted-level-3);\n",
       "}\n",
       "</style><div id=\"sk-container-id-4\" class=\"sk-top-container\"><div class=\"sk-text-repr-fallback\"><pre>RandomForestClassifier(max_depth=15, min_samples_leaf=3, n_estimators=190,\n",
       "                       n_jobs=-1, random_state=39)</pre><b>In a Jupyter environment, please rerun this cell to show the HTML representation or trust the notebook. <br />On GitHub, the HTML representation is unable to render, please try loading this page with nbviewer.org.</b></div><div class=\"sk-container\" hidden><div class=\"sk-item\"><div class=\"sk-estimator fitted sk-toggleable\"><input class=\"sk-toggleable__control sk-hidden--visually\" id=\"sk-estimator-id-4\" type=\"checkbox\" checked><label for=\"sk-estimator-id-4\" class=\"sk-toggleable__label fitted sk-toggleable__label-arrow\"><div><div>RandomForestClassifier</div></div><div><a class=\"sk-estimator-doc-link fitted\" rel=\"noreferrer\" target=\"_blank\" href=\"https://scikit-learn.org/1.6/modules/generated/sklearn.ensemble.RandomForestClassifier.html\">?<span>Documentation for RandomForestClassifier</span></a><span class=\"sk-estimator-doc-link fitted\">i<span>Fitted</span></span></div></label><div class=\"sk-toggleable__content fitted\"><pre>RandomForestClassifier(max_depth=15, min_samples_leaf=3, n_estimators=190,\n",
       "                       n_jobs=-1, random_state=39)</pre></div> </div></div></div></div>"
      ],
      "text/plain": [
       "RandomForestClassifier(max_depth=15, min_samples_leaf=3, n_estimators=190,\n",
       "                       n_jobs=-1, random_state=39)"
      ]
     },
     "execution_count": 135,
     "metadata": {},
     "output_type": "execute_result"
    }
   ],
   "source": [
    "rf = RandomForestClassifier(n_estimators=190,\n",
    "                            max_depth=15,\n",
    "                            min_samples_leaf=3,\n",
    "                            random_state=39,\n",
    "                            n_jobs=-1)\n",
    "rf.fit(X_train, y_train)"
   ]
  },
  {
   "cell_type": "code",
   "execution_count": 136,
   "id": "bc765421-db2f-4201-812c-2154e64ab4a4",
   "metadata": {},
   "outputs": [
    {
     "data": {
      "text/plain": [
       "np.float64(0.9768443197755959)"
      ]
     },
     "execution_count": 136,
     "metadata": {},
     "output_type": "execute_result"
    }
   ],
   "source": [
    "y_pred = rf.predict_proba(X_val)[:, 1]\n",
    "roc_auc_score(y_val, y_pred)"
   ]
  },
  {
   "cell_type": "code",
   "execution_count": 137,
   "id": "6f6ad8a2-3e7d-48d7-b67f-acdddb4c1b81",
   "metadata": {},
   "outputs": [],
   "source": [
    "xgb_params = {\n",
    "    'eta': 0.1,\n",
    "    'max_depth': 10,\n",
    "    'min_child_weight': 10,\n",
    "\n",
    "    'objective': 'binary:logistic',\n",
    "    'eval_metric': 'auc',\n",
    "\n",
    "    'seed': 39,\n",
    "    'verbosity': 1\n",
    "}\n",
    "\n",
    "model = xgb.train(xgb_params, dtrain, num_boost_round=159)"
   ]
  },
  {
   "cell_type": "code",
   "execution_count": 138,
   "id": "1e4768c9-e5ac-45f8-b2ea-bbe44da459f1",
   "metadata": {},
   "outputs": [
    {
     "data": {
      "text/plain": [
       "np.float64(0.9821318373071529)"
      ]
     },
     "execution_count": 138,
     "metadata": {},
     "output_type": "execute_result"
    }
   ],
   "source": [
    "y_pred = model.predict(dval)\n",
    "roc_auc_score(y_val, y_pred)"
   ]
  },
  {
   "cell_type": "markdown",
   "id": "783cdf82-fccc-4496-a0e2-a375c488a0d4",
   "metadata": {},
   "source": [
    "**XGBoost** model has the best AUC score.\n",
    "\n",
    "It'll be used to train the final model.\n",
    "### Training the final model"
   ]
  },
  {
   "cell_type": "code",
   "execution_count": 139,
   "id": "74b9fb26-2b9e-4fd4-b317-312e6982f496",
   "metadata": {},
   "outputs": [
    {
     "data": {
      "text/html": [
       "<div>\n",
       "<style scoped>\n",
       "    .dataframe tbody tr th:only-of-type {\n",
       "        vertical-align: middle;\n",
       "    }\n",
       "\n",
       "    .dataframe tbody tr th {\n",
       "        vertical-align: top;\n",
       "    }\n",
       "\n",
       "    .dataframe thead th {\n",
       "        text-align: right;\n",
       "    }\n",
       "</style>\n",
       "<table border=\"1\" class=\"dataframe\">\n",
       "  <thead>\n",
       "    <tr style=\"text-align: right;\">\n",
       "      <th></th>\n",
       "      <th>temperature</th>\n",
       "      <th>pressure</th>\n",
       "      <th>vibration</th>\n",
       "      <th>humidity</th>\n",
       "      <th>equipment</th>\n",
       "      <th>location</th>\n",
       "      <th>faulty</th>\n",
       "    </tr>\n",
       "  </thead>\n",
       "  <tbody>\n",
       "    <tr>\n",
       "      <th>0</th>\n",
       "      <td>64.739652</td>\n",
       "      <td>45.638355</td>\n",
       "      <td>1.954045</td>\n",
       "      <td>45.878434</td>\n",
       "      <td>turbine</td>\n",
       "      <td>san_francisco</td>\n",
       "      <td>0</td>\n",
       "    </tr>\n",
       "    <tr>\n",
       "      <th>1</th>\n",
       "      <td>75.062410</td>\n",
       "      <td>29.169678</td>\n",
       "      <td>1.642641</td>\n",
       "      <td>47.537256</td>\n",
       "      <td>turbine</td>\n",
       "      <td>new_york</td>\n",
       "      <td>0</td>\n",
       "    </tr>\n",
       "    <tr>\n",
       "      <th>2</th>\n",
       "      <td>77.556658</td>\n",
       "      <td>24.155665</td>\n",
       "      <td>2.706188</td>\n",
       "      <td>49.858019</td>\n",
       "      <td>compressor</td>\n",
       "      <td>san_francisco</td>\n",
       "      <td>0</td>\n",
       "    </tr>\n",
       "    <tr>\n",
       "      <th>3</th>\n",
       "      <td>67.057575</td>\n",
       "      <td>33.965620</td>\n",
       "      <td>2.489974</td>\n",
       "      <td>44.818347</td>\n",
       "      <td>pump</td>\n",
       "      <td>houston</td>\n",
       "      <td>0</td>\n",
       "    </tr>\n",
       "    <tr>\n",
       "      <th>4</th>\n",
       "      <td>77.910319</td>\n",
       "      <td>38.195755</td>\n",
       "      <td>1.591621</td>\n",
       "      <td>49.253946</td>\n",
       "      <td>compressor</td>\n",
       "      <td>san_francisco</td>\n",
       "      <td>0</td>\n",
       "    </tr>\n",
       "    <tr>\n",
       "      <th>...</th>\n",
       "      <td>...</td>\n",
       "      <td>...</td>\n",
       "      <td>...</td>\n",
       "      <td>...</td>\n",
       "      <td>...</td>\n",
       "      <td>...</td>\n",
       "      <td>...</td>\n",
       "    </tr>\n",
       "    <tr>\n",
       "      <th>6132</th>\n",
       "      <td>56.072645</td>\n",
       "      <td>34.278057</td>\n",
       "      <td>2.549625</td>\n",
       "      <td>49.022891</td>\n",
       "      <td>compressor</td>\n",
       "      <td>san_francisco</td>\n",
       "      <td>0</td>\n",
       "    </tr>\n",
       "    <tr>\n",
       "      <th>6133</th>\n",
       "      <td>78.743892</td>\n",
       "      <td>37.054266</td>\n",
       "      <td>1.544614</td>\n",
       "      <td>55.851687</td>\n",
       "      <td>turbine</td>\n",
       "      <td>chicago</td>\n",
       "      <td>0</td>\n",
       "    </tr>\n",
       "    <tr>\n",
       "      <th>6134</th>\n",
       "      <td>64.172413</td>\n",
       "      <td>31.871803</td>\n",
       "      <td>0.887800</td>\n",
       "      <td>69.478910</td>\n",
       "      <td>turbine</td>\n",
       "      <td>chicago</td>\n",
       "      <td>0</td>\n",
       "    </tr>\n",
       "    <tr>\n",
       "      <th>6135</th>\n",
       "      <td>73.819355</td>\n",
       "      <td>39.644541</td>\n",
       "      <td>1.124871</td>\n",
       "      <td>50.169142</td>\n",
       "      <td>pump</td>\n",
       "      <td>new_york</td>\n",
       "      <td>0</td>\n",
       "    </tr>\n",
       "    <tr>\n",
       "      <th>6136</th>\n",
       "      <td>73.824097</td>\n",
       "      <td>40.838555</td>\n",
       "      <td>0.795784</td>\n",
       "      <td>33.993169</td>\n",
       "      <td>compressor</td>\n",
       "      <td>san_francisco</td>\n",
       "      <td>0</td>\n",
       "    </tr>\n",
       "  </tbody>\n",
       "</table>\n",
       "<p>6137 rows × 7 columns</p>\n",
       "</div>"
      ],
      "text/plain": [
       "      temperature   pressure  vibration   humidity   equipment       location  \\\n",
       "0       64.739652  45.638355   1.954045  45.878434     turbine  san_francisco   \n",
       "1       75.062410  29.169678   1.642641  47.537256     turbine       new_york   \n",
       "2       77.556658  24.155665   2.706188  49.858019  compressor  san_francisco   \n",
       "3       67.057575  33.965620   2.489974  44.818347        pump        houston   \n",
       "4       77.910319  38.195755   1.591621  49.253946  compressor  san_francisco   \n",
       "...           ...        ...        ...        ...         ...            ...   \n",
       "6132    56.072645  34.278057   2.549625  49.022891  compressor  san_francisco   \n",
       "6133    78.743892  37.054266   1.544614  55.851687     turbine        chicago   \n",
       "6134    64.172413  31.871803   0.887800  69.478910     turbine        chicago   \n",
       "6135    73.819355  39.644541   1.124871  50.169142        pump       new_york   \n",
       "6136    73.824097  40.838555   0.795784  33.993169  compressor  san_francisco   \n",
       "\n",
       "      faulty  \n",
       "0          0  \n",
       "1          0  \n",
       "2          0  \n",
       "3          0  \n",
       "4          0  \n",
       "...      ...  \n",
       "6132       0  \n",
       "6133       0  \n",
       "6134       0  \n",
       "6135       0  \n",
       "6136       0  \n",
       "\n",
       "[6137 rows x 7 columns]"
      ]
     },
     "execution_count": 139,
     "metadata": {},
     "output_type": "execute_result"
    }
   ],
   "source": [
    "df_full_train"
   ]
  },
  {
   "cell_type": "code",
   "execution_count": 140,
   "id": "2ad7bad1-d078-4b2d-a871-c0de7837f71c",
   "metadata": {},
   "outputs": [
    {
     "data": {
      "text/html": [
       "<div>\n",
       "<style scoped>\n",
       "    .dataframe tbody tr th:only-of-type {\n",
       "        vertical-align: middle;\n",
       "    }\n",
       "\n",
       "    .dataframe tbody tr th {\n",
       "        vertical-align: top;\n",
       "    }\n",
       "\n",
       "    .dataframe thead th {\n",
       "        text-align: right;\n",
       "    }\n",
       "</style>\n",
       "<table border=\"1\" class=\"dataframe\">\n",
       "  <thead>\n",
       "    <tr style=\"text-align: right;\">\n",
       "      <th></th>\n",
       "      <th>temperature</th>\n",
       "      <th>pressure</th>\n",
       "      <th>vibration</th>\n",
       "      <th>humidity</th>\n",
       "      <th>equipment</th>\n",
       "      <th>location</th>\n",
       "    </tr>\n",
       "  </thead>\n",
       "  <tbody>\n",
       "    <tr>\n",
       "      <th>0</th>\n",
       "      <td>64.739652</td>\n",
       "      <td>45.638355</td>\n",
       "      <td>1.954045</td>\n",
       "      <td>45.878434</td>\n",
       "      <td>turbine</td>\n",
       "      <td>san_francisco</td>\n",
       "    </tr>\n",
       "  </tbody>\n",
       "</table>\n",
       "</div>"
      ],
      "text/plain": [
       "   temperature   pressure  vibration   humidity equipment       location\n",
       "0    64.739652  45.638355   1.954045  45.878434   turbine  san_francisco"
      ]
     },
     "execution_count": 140,
     "metadata": {},
     "output_type": "execute_result"
    }
   ],
   "source": [
    "del df_full_train['faulty']\n",
    "df_full_train.head(1)"
   ]
  },
  {
   "cell_type": "code",
   "execution_count": 141,
   "id": "fe356b29-fdaa-4389-8b14-246ab4be6688",
   "metadata": {},
   "outputs": [
    {
     "data": {
      "text/plain": [
       "array([0, 0, 0, ..., 0, 0, 0], shape=(6137,))"
      ]
     },
     "execution_count": 141,
     "metadata": {},
     "output_type": "execute_result"
    }
   ],
   "source": [
    "y_full_train"
   ]
  },
  {
   "cell_type": "code",
   "execution_count": 142,
   "id": "c5ef4e75-421c-474b-b6f9-6f64ee5ed6ce",
   "metadata": {},
   "outputs": [],
   "source": [
    "dicts_full_train = df_full_train.to_dict(orient='records')\n",
    "\n",
    "dv = DictVectorizer(sparse=False)\n",
    "X_full_train = dv.fit_transform(dicts_full_train)\n",
    "\n",
    "dicts_test = df_test.to_dict(orient='records')\n",
    "X_test = dv.transform(dicts_test)"
   ]
  },
  {
   "cell_type": "code",
   "execution_count": 143,
   "id": "237072fe-3b48-45c3-a321-06750f44aae6",
   "metadata": {},
   "outputs": [],
   "source": [
    "feature_names = list(dv.get_feature_names_out())\n",
    "dfulltrain = xgb.DMatrix(X_full_train, label=y_full_train,\n",
    "                         feature_names=feature_names)\n",
    "\n",
    "dtest = xgb.DMatrix(X_test, feature_names=feature_names)"
   ]
  },
  {
   "cell_type": "code",
   "execution_count": 144,
   "id": "ad239e64-d8c5-48c3-87a7-7addfb8cc232",
   "metadata": {},
   "outputs": [],
   "source": [
    "xgb_params = {\n",
    "    'eta': 0.1,\n",
    "    'max_depth': 10,\n",
    "    'min_child_weight': 10,\n",
    "\n",
    "    'objective': 'binary:logistic',\n",
    "    'eval_metric': 'auc',\n",
    "\n",
    "    'seed': 39,\n",
    "    'verbosity': 1\n",
    "}\n",
    "\n",
    "model = xgb.train(xgb_params, dfulltrain, num_boost_round=159)"
   ]
  },
  {
   "cell_type": "markdown",
   "id": "475c879e-3fe9-4b8f-8adf-077cdfd50aa5",
   "metadata": {},
   "source": [
    "### Evaluate the final model"
   ]
  },
  {
   "cell_type": "code",
   "execution_count": 145,
   "id": "7653c3af-0510-45bb-b61a-2c55c3d7b257",
   "metadata": {},
   "outputs": [
    {
     "data": {
      "text/plain": [
       "np.float64(0.9721460435863684)"
      ]
     },
     "execution_count": 145,
     "metadata": {},
     "output_type": "execute_result"
    }
   ],
   "source": [
    "y_pred = model.predict(dtest)\n",
    "roc_auc_score(y_test, y_pred)"
   ]
  },
  {
   "cell_type": "markdown",
   "id": "35416a41-ee98-47db-9aac-b8be93846718",
   "metadata": {},
   "source": [
    "The model doesn't overfit.\n",
    "## Deploying Machine Learning Models\n",
    "### Saving the model to pickle"
   ]
  },
  {
   "cell_type": "code",
   "execution_count": 146,
   "id": "7f713107-5541-42c9-81fe-f67b372cab3d",
   "metadata": {},
   "outputs": [],
   "source": [
    "with open('model.bin', 'wb') as f_out:\n",
    "    pickle.dump((dv, model), f_out)"
   ]
  },
  {
   "cell_type": "markdown",
   "id": "a149de48-3a6f-41a6-b241-510e24f1e511",
   "metadata": {},
   "source": [
    "### Loading the model with Pickle"
   ]
  },
  {
   "cell_type": "code",
   "execution_count": 147,
   "id": "17662adb-a446-4bd1-90d3-ea94eb5e9ab1",
   "metadata": {},
   "outputs": [
    {
     "data": {
      "text/plain": [
       "(DictVectorizer(sparse=False), <xgboost.core.Booster at 0x27dc1da1290>)"
      ]
     },
     "execution_count": 147,
     "metadata": {},
     "output_type": "execute_result"
    }
   ],
   "source": [
    "with open('model.bin', 'rb') as f_in:\n",
    "    dv, model = pickle.load(f_in)\n",
    "\n",
    "dv, model"
   ]
  },
  {
   "cell_type": "markdown",
   "id": "dff0ec60-156e-4a2f-a4be-6305d69851ad",
   "metadata": {},
   "source": [
    "### Testing the model"
   ]
  },
  {
   "cell_type": "code",
   "execution_count": 148,
   "id": "5aaab8de-e44e-40e6-ba60-f87ab0f44288",
   "metadata": {},
   "outputs": [
    {
     "data": {
      "text/plain": [
       "{'temperature': 69.94045290787271,\n",
       " 'pressure': 26.18938696984232,\n",
       " 'vibration': 0.6971832984686062,\n",
       " 'humidity': 52.640224489963536,\n",
       " 'equipment': 'turbine',\n",
       " 'location': 'atlanta'}"
      ]
     },
     "execution_count": 148,
     "metadata": {},
     "output_type": "execute_result"
    }
   ],
   "source": [
    "equipment = df_test.iloc[-1].to_dict()\n",
    "equipment"
   ]
  },
  {
   "cell_type": "code",
   "execution_count": 149,
   "id": "926b62a9-9688-4d41-9117-34b1fecaa86e",
   "metadata": {},
   "outputs": [
    {
     "data": {
      "text/plain": [
       "array([[ 0.        ,  0.        ,  1.        , 52.64022449,  1.        ,\n",
       "         0.        ,  0.        ,  0.        ,  0.        , 26.18938697,\n",
       "        69.94045291,  0.6971833 ]])"
      ]
     },
     "execution_count": 149,
     "metadata": {},
     "output_type": "execute_result"
    }
   ],
   "source": [
    "X = dv.transform([equipment])\n",
    "X"
   ]
  },
  {
   "cell_type": "code",
   "execution_count": 150,
   "id": "fd15fce1-c912-4896-b32e-4ecce389b1dc",
   "metadata": {},
   "outputs": [],
   "source": [
    "feature_names = list(dv.get_feature_names_out())\n",
    "dX = xgb.DMatrix(X, feature_names=feature_names)"
   ]
  },
  {
   "cell_type": "code",
   "execution_count": 151,
   "id": "2af72ed0-4555-4f52-8c22-6ded62bc057b",
   "metadata": {},
   "outputs": [
    {
     "data": {
      "text/plain": [
       "np.float32(0.00028019093)"
      ]
     },
     "execution_count": 151,
     "metadata": {},
     "output_type": "execute_result"
    }
   ],
   "source": [
    "model.predict(dX)[0]"
   ]
  },
  {
   "cell_type": "markdown",
   "id": "11c9fc4e-ede6-4871-a45a-bbac01680725",
   "metadata": {},
   "source": [
    "This machine is going to work fine !"
   ]
  }
 ],
 "metadata": {
  "kernelspec": {
   "display_name": "Python 3 (ipykernel)",
   "language": "python",
   "name": "python3"
  },
  "language_info": {
   "codemirror_mode": {
    "name": "ipython",
    "version": 3
   },
   "file_extension": ".py",
   "mimetype": "text/x-python",
   "name": "python",
   "nbconvert_exporter": "python",
   "pygments_lexer": "ipython3",
   "version": "3.11.9"
  }
 },
 "nbformat": 4,
 "nbformat_minor": 5
}
